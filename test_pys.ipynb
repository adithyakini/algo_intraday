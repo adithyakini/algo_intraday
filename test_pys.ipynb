{
  "nbformat": 4,
  "nbformat_minor": 0,
  "metadata": {
    "colab": {
      "name": "insert_tick_data_db.ipynb",
      "provenance": [],
      "collapsed_sections": [],
      "toc_visible": true,
      "mount_file_id": "1zVPI5zx0XV-q9i737Dej_ziUf1VJXv4e",
      "authorship_tag": "ABX9TyOSFPsNSCttaJZfPZoTNb66",
      "include_colab_link": true
    },
    "kernelspec": {
      "name": "python3",
      "display_name": "Python 3"
    }
  },
  "cells": [
    {
      "cell_type": "markdown",
      "metadata": {
        "id": "view-in-github",
        "colab_type": "text"
      },
      "source": [
        "<a href=\"https://colab.research.google.com/github/adithyakini/algo_intraday/blob/master/test_pys.ipynb\" target=\"_parent\"><img src=\"https://colab.research.google.com/assets/colab-badge.svg\" alt=\"Open In Colab\"/></a>"
      ]
    },
    {
      "cell_type": "code",
      "metadata": {
        "id": "fUm_wOUr_J3A",
        "colab_type": "code",
        "colab": {}
      },
      "source": [
        ""
      ],
      "execution_count": null,
      "outputs": []
    },
    {
      "cell_type": "markdown",
      "metadata": {
        "id": "4RsiYLqR_KhD",
        "colab_type": "text"
      },
      "source": [
        "\n",
        "1. https://www.db4free.net/phpMyAdmin/db_structure.php?server=1&db=kini_nsedata\n",
        "2. Database: kini_nsedata \n",
        "3. Username: adithyakini\n",
        "4. Email: adithya.kini@gmail.com\n"
      ]
    },
    {
      "cell_type": "markdown",
      "metadata": {
        "id": "LJC4DxAN_RAi",
        "colab_type": "text"
      },
      "source": [
        "**Pre-req's**\n",
        "\n",
        "1. pip install nsetools < Python library for extracting realtime data from National Stock Exchange (India) https://pypi.org/project/nsetools/\n",
        "2. pip install nsepy --upgrade \n",
        "3. pip install yahoo_fin < http://theautomatic.net/yahoo_fin-documentation/\n",
        "4. pip install yfinance\n",
        "5. pip install gspread oauth2client\n",
        "\n",
        "**Screening for Volatality**\n",
        "\n",
        "1. only stocks with volume over 20,00,000\n",
        "2. only stocks that are between 100 and 500\n",
        "3. only stocks that are gapped up or gapped down\n",
        "4. \n",
        "\n",
        "**Strategy**\n",
        "\n",
        "1. When Gap up and by 945 if the pivot is far \n",
        "2. \n",
        "\n",
        "**NOTES**\n",
        "#to replace something in a list\n",
        "res_list = list(map(lambda st: str.replace(st, ':EQ', ''), data_col2_list))\n",
        "print(res_list)\n"
      ]
    },
    {
      "cell_type": "code",
      "metadata": {
        "id": "z86LbStiszaY",
        "colab_type": "code",
        "colab": {
          "base_uri": "https://localhost:8080/",
          "height": 68
        },
        "outputId": "66b70bc8-dad8-4355-b21b-bf04ccc3ec07"
      },
      "source": [
        "#connect to MySQL db in db4free.net\n",
        "# pip install mysql-connector-python\n",
        "#https://pynative.com/python-mysql-database-connection/\n",
        "\n",
        "import mysql.connector\n",
        "from mysql.connector import Error\n",
        "\n",
        "try:\n",
        "    connection = mysql.connector.connect(host='db4free.net',\n",
        "                                         database='kini_nsedata',\n",
        "                                         user='adithyakini',\n",
        "                                         password='Drink7up@home')\n",
        "    if connection.is_connected():\n",
        "        db_Info = connection.get_server_info()\n",
        "        print(\"Connected to MySQL Server version \", db_Info)\n",
        "        cursor = connection.cursor()\n",
        "        cursor.execute(\"select database();\")\n",
        "        record = cursor.fetchone()\n",
        "        print(\"You're connected to database: \", record)\n",
        "\n",
        "except Error as e:\n",
        "    print(\"Error while connecting to MySQL\", e)\n",
        "finally:\n",
        "    if (connection.is_connected()):\n",
        "        cursor.close()\n",
        "        connection.close()\n",
        "        print(\"MySQL connection is closed\")"
      ],
      "execution_count": null,
      "outputs": [
        {
          "output_type": "stream",
          "text": [
            "Connected to MySQL Server version  8.0.20\n",
            "You're connected to database:  ('kini_nsedata',)\n",
            "MySQL connection is closed\n"
          ],
          "name": "stdout"
        }
      ]
    },
    {
      "cell_type": "code",
      "metadata": {
        "id": "6p92QxUTMhL2",
        "colab_type": "code",
        "colab": {}
      },
      "source": [
        "#pip install mysql.connector\n",
        "#pip install DBcm\n",
        "#pip install mysql.connector\n",
        "#pip install mysql.connector\n",
        "# Import libraries\n",
        "import requests\n",
        "from bs4 import BeautifulSoup\n",
        "from google.colab import files\n",
        "import io \n",
        "import requests_html\n",
        "import lxml.html as lh\n",
        "import pandas as pd\n",
        "import re\n",
        "from datetime import datetime\n",
        "from datetime import timedelta\n",
        "import mysql.connector as sql\n",
        "import DBcm\n",
        "import time\n",
        "import unidecode #used to convert accented words\n",
        "config = {\n",
        "    \"host\": \"db4free.net\",\n",
        "    \"user\": \"adithyakini\",\n",
        "    \"password\": \"Drink7up@home\",\n",
        "    \"database\": \"kini_nsedata\",\n",
        "}\n",
        "uploaded = files.upload() \n",
        "df = pd.read_csv(io.BytesIO(uploaded['tickers.csv'])) \n",
        "#df.head()\n",
        "#df = df.fillna('NA')\n",
        "#ticker_list = df.head().values.tolist()\n",
        "ticker_list = df.values.tolist()\n",
        "print(ticker_list)\n",
        "\n",
        "### Extract from Yahoo Link ###\n",
        "for ticker in ticker_list:\n",
        "    url = 'https://in.finance.yahoo.com/quote/' + ticker[0]\n",
        "    session = requests_html.HTMLSession()\n",
        "    r = session.get(url)\n",
        "    content = BeautifulSoup(r.content, 'lxml')\n",
        "    try:\n",
        "        #price = str(content).split('data-reactid=\"34\"')[4].split('</span>')[0].replace('>','')\n",
        "        price = content.select_one('.Mb\\(-4px\\)').text\n",
        "    except IndexError as e:\n",
        "        price = 0.00\n",
        "    price = price or \"0\"\n",
        "    try:\n",
        "        price = float(price.replace(',',''))\n",
        "    except ValueError as e:\n",
        "        price = 0.00\n",
        "    time.sleep(1)\n",
        "#    with DBcm.UseDatabase(config) as cursor:\n",
        "#        _SQL = \"\"\"insert into tickers (ticker, price, company_name, listed_exchange, category)\n",
        "#                  values (%s, %s, %s, %s, %s)\"\"\"\n",
        "    print(ticker[0], price, ticker[1], ticker[2], ticker[3])\n",
        "#        cursor.execute(_SQL, (unidecode.unidecode(ticker[0]), price, unidecode.unidecode(ticker[1]), unidecode.unidecode(ticker[2]), unidecode.unidecode(ticker[3])))\n",
        "print('completed...')"
      ],
      "execution_count": null,
      "outputs": []
    },
    {
      "cell_type": "code",
      "metadata": {
        "id": "0SI3jbc6mIZb",
        "colab_type": "code",
        "colab": {
          "base_uri": "https://localhost:8080/",
          "height": 102
        },
        "outputId": "015a9e64-5304-4c39-c962-b423ab109928"
      },
      "source": [
        "pip install unidecode"
      ],
      "execution_count": null,
      "outputs": [
        {
          "output_type": "stream",
          "text": [
            "Collecting unidecode\n",
            "\u001b[?25l  Downloading https://files.pythonhosted.org/packages/d0/42/d9edfed04228bacea2d824904cae367ee9efd05e6cce7ceaaedd0b0ad964/Unidecode-1.1.1-py2.py3-none-any.whl (238kB)\n",
            "\r\u001b[K     |█▍                              | 10kB 19.2MB/s eta 0:00:01\r\u001b[K     |██▊                             | 20kB 1.7MB/s eta 0:00:01\r\u001b[K     |████▏                           | 30kB 2.2MB/s eta 0:00:01\r\u001b[K     |█████▌                          | 40kB 2.5MB/s eta 0:00:01\r\u001b[K     |██████▉                         | 51kB 2.0MB/s eta 0:00:01\r\u001b[K     |████████▎                       | 61kB 2.3MB/s eta 0:00:01\r\u001b[K     |█████████▋                      | 71kB 2.5MB/s eta 0:00:01\r\u001b[K     |███████████                     | 81kB 2.7MB/s eta 0:00:01\r\u001b[K     |████████████▍                   | 92kB 2.9MB/s eta 0:00:01\r\u001b[K     |█████████████▊                  | 102kB 2.8MB/s eta 0:00:01\r\u001b[K     |███████████████▏                | 112kB 2.8MB/s eta 0:00:01\r\u001b[K     |████████████████▌               | 122kB 2.8MB/s eta 0:00:01\r\u001b[K     |█████████████████▉              | 133kB 2.8MB/s eta 0:00:01\r\u001b[K     |███████████████████▎            | 143kB 2.8MB/s eta 0:00:01\r\u001b[K     |████████████████████▋           | 153kB 2.8MB/s eta 0:00:01\r\u001b[K     |██████████████████████          | 163kB 2.8MB/s eta 0:00:01\r\u001b[K     |███████████████████████▍        | 174kB 2.8MB/s eta 0:00:01\r\u001b[K     |████████████████████████▊       | 184kB 2.8MB/s eta 0:00:01\r\u001b[K     |██████████████████████████▏     | 194kB 2.8MB/s eta 0:00:01\r\u001b[K     |███████████████████████████▌    | 204kB 2.8MB/s eta 0:00:01\r\u001b[K     |████████████████████████████▉   | 215kB 2.8MB/s eta 0:00:01\r\u001b[K     |██████████████████████████████▎ | 225kB 2.8MB/s eta 0:00:01\r\u001b[K     |███████████████████████████████▋| 235kB 2.8MB/s eta 0:00:01\r\u001b[K     |████████████████████████████████| 245kB 2.8MB/s \n",
            "\u001b[?25hInstalling collected packages: unidecode\n",
            "Successfully installed unidecode-1.1.1\n"
          ],
          "name": "stdout"
        }
      ]
    },
    {
      "cell_type": "markdown",
      "metadata": {
        "id": "hpuxZyq3NrK9",
        "colab_type": "text"
      },
      "source": [
        "# New Section"
      ]
    },
    {
      "cell_type": "code",
      "metadata": {
        "id": "098f8FMjPYnb",
        "colab_type": "code",
        "colab": {
          "base_uri": "https://localhost:8080/",
          "height": 419
        },
        "outputId": "40e49da7-f2d4-4fbc-a66a-e47382fa12b5"
      },
      "source": [
        "#authenticate to google drive\n",
        "from google.colab import auth\n",
        "auth.authenticate_user()\n",
        "import gspread\n",
        "from oauth2client.client import GoogleCredentials\n",
        "gc = gspread.authorize(GoogleCredentials.get_application_default())\n",
        "#import\n",
        "import pandas as pd\n",
        "from gspread_dataframe import get_as_dataframe\n",
        "# Default value of display.max_rows is 10 i.e. at max 10 rows will be printed.\n",
        "# Set it None to display all rows in the dataframe\n",
        "#pd.set_option('display.max_rows', none)\n",
        "#access spreadsheet\n",
        "wb = gc.open_by_url('https://docs.google.com/spreadsheets/d/1ZTyh6GiHTwA1d-ApYdn5iCmRiBLZoAtwigS7VyLUk_Y/edit#gid=0')\n",
        "#specify the tab that needs to be read\n",
        "sheet = wb.worksheet('MIS')\n",
        "#Now that we have the tab specified it’s time to get the data. To do this we will just call the get_all_values() or col_values() function off of the sheet object we created above:\n",
        "data_col2_list = sheet.get_all_values()\n",
        "df = pd.DataFrame(data_col2_list)\n",
        "df.columns = df.iloc[0]\n",
        "df = df.iloc[1:,[1,2]]\n",
        "#replace in dataframe\n",
        "df = df.replace(':EQ','',regex=True)\n",
        "df"
      ],
      "execution_count": null,
      "outputs": [
        {
          "output_type": "execute_result",
          "data": {
            "text/html": [
              "<div>\n",
              "<style scoped>\n",
              "    .dataframe tbody tr th:only-of-type {\n",
              "        vertical-align: middle;\n",
              "    }\n",
              "\n",
              "    .dataframe tbody tr th {\n",
              "        vertical-align: top;\n",
              "    }\n",
              "\n",
              "    .dataframe thead th {\n",
              "        text-align: right;\n",
              "    }\n",
              "</style>\n",
              "<table border=\"1\" class=\"dataframe\">\n",
              "  <thead>\n",
              "    <tr style=\"text-align: right;\">\n",
              "      <th></th>\n",
              "      <th>Stocks allowed for MIS</th>\n",
              "      <th>Margin allowed</th>\n",
              "    </tr>\n",
              "  </thead>\n",
              "  <tbody>\n",
              "    <tr>\n",
              "      <th>1</th>\n",
              "      <td>3MINDIA</td>\n",
              "      <td>5X</td>\n",
              "    </tr>\n",
              "    <tr>\n",
              "      <th>2</th>\n",
              "      <td>AARTIIND</td>\n",
              "      <td>5X</td>\n",
              "    </tr>\n",
              "    <tr>\n",
              "      <th>3</th>\n",
              "      <td>ABB</td>\n",
              "      <td>5X</td>\n",
              "    </tr>\n",
              "    <tr>\n",
              "      <th>4</th>\n",
              "      <td>ABBOTINDIA</td>\n",
              "      <td>5X</td>\n",
              "    </tr>\n",
              "    <tr>\n",
              "      <th>5</th>\n",
              "      <td>ABCAPITAL</td>\n",
              "      <td>5X</td>\n",
              "    </tr>\n",
              "    <tr>\n",
              "      <th>...</th>\n",
              "      <td>...</td>\n",
              "      <td>...</td>\n",
              "    </tr>\n",
              "    <tr>\n",
              "      <th>1266</th>\n",
              "      <td></td>\n",
              "      <td></td>\n",
              "    </tr>\n",
              "    <tr>\n",
              "      <th>1267</th>\n",
              "      <td></td>\n",
              "      <td></td>\n",
              "    </tr>\n",
              "    <tr>\n",
              "      <th>1268</th>\n",
              "      <td></td>\n",
              "      <td></td>\n",
              "    </tr>\n",
              "    <tr>\n",
              "      <th>1269</th>\n",
              "      <td></td>\n",
              "      <td></td>\n",
              "    </tr>\n",
              "    <tr>\n",
              "      <th>1270</th>\n",
              "      <td></td>\n",
              "      <td></td>\n",
              "    </tr>\n",
              "  </tbody>\n",
              "</table>\n",
              "<p>1270 rows × 2 columns</p>\n",
              "</div>"
            ],
            "text/plain": [
              "0    Stocks allowed for MIS Margin allowed\n",
              "1                   3MINDIA             5X\n",
              "2                  AARTIIND             5X\n",
              "3                       ABB             5X\n",
              "4                ABBOTINDIA             5X\n",
              "5                 ABCAPITAL             5X\n",
              "...                     ...            ...\n",
              "1266                                      \n",
              "1267                                      \n",
              "1268                                      \n",
              "1269                                      \n",
              "1270                                      \n",
              "\n",
              "[1270 rows x 2 columns]"
            ]
          },
          "metadata": {
            "tags": []
          },
          "execution_count": 80
        }
      ]
    },
    {
      "cell_type": "code",
      "metadata": {
        "id": "ueuuywYB-i9A",
        "colab_type": "code",
        "colab": {
          "base_uri": "https://localhost:8080/",
          "height": 122
        },
        "outputId": "93fcd067-9eb3-4a08-b7e4-7d88d982acc4"
      },
      "source": [
        "import os, sys\n",
        "from google.colab import drive\n",
        "drive.mount('/content/mnt')\n",
        "nb_path = '/content/notebooks'\n",
        "os.symlink('/content/mnt/My Drive/Colab Notebooks', nb_path)\n",
        "sys.path.insert(0, nb_path)  # or append(nb_path)"
      ],
      "execution_count": null,
      "outputs": [
        {
          "output_type": "stream",
          "text": [
            "Go to this URL in a browser: https://accounts.google.com/o/oauth2/auth?client_id=947318989803-6bn6qk8qdgf4n4g3pfee6491hc0brc4i.apps.googleusercontent.com&redirect_uri=urn%3aietf%3awg%3aoauth%3a2.0%3aoob&response_type=code&scope=email%20https%3a%2f%2fwww.googleapis.com%2fauth%2fdocs.test%20https%3a%2f%2fwww.googleapis.com%2fauth%2fdrive%20https%3a%2f%2fwww.googleapis.com%2fauth%2fdrive.photos.readonly%20https%3a%2f%2fwww.googleapis.com%2fauth%2fpeopleapi.readonly\n",
            "\n",
            "Enter your authorization code:\n",
            "··········\n",
            "Mounted at /content/mnt\n"
          ],
          "name": "stdout"
        }
      ]
    },
    {
      "cell_type": "code",
      "metadata": {
        "id": "ombjSb7--3yO",
        "colab_type": "code",
        "colab": {
          "base_uri": "https://localhost:8080/",
          "height": 85
        },
        "outputId": "46205abd-017f-403b-bf3b-7babe562c481"
      },
      "source": [
        "pip install mysql-connector-python --target=$nb_path mysql-connector-python"
      ],
      "execution_count": null,
      "outputs": [
        {
          "output_type": "stream",
          "text": [
            "Requirement already satisfied: mysql-connector-python in /usr/local/lib/python3.6/dist-packages (8.0.20)\n",
            "Requirement already satisfied: protobuf>=3.0.0 in /usr/local/lib/python3.6/dist-packages (from mysql-connector-python) (3.10.0)\n",
            "Requirement already satisfied: setuptools in /usr/local/lib/python3.6/dist-packages (from protobuf>=3.0.0->mysql-connector-python) (47.3.1)\n",
            "Requirement already satisfied: six>=1.9 in /usr/local/lib/python3.6/dist-packages (from protobuf>=3.0.0->mysql-connector-python) (1.12.0)\n"
          ],
          "name": "stdout"
        }
      ]
    },
    {
      "cell_type": "markdown",
      "metadata": {
        "id": "z8LB8TLwxXoS",
        "colab_type": "text"
      },
      "source": [
        "\n",
        "### Extract from Yahoo Link ###\n",
        "for data_col2 in data_col2_list:\n",
        "    url = 'https://in.finance.yahoo.com/quote/' + data_col2[1]\n",
        "    session = requests_html.HTMLSession()\n",
        "    r = session.get(url)\n",
        "    content = BeautifulSoup(r.content, 'lxml')\n",
        "    try:\n",
        "        #price = str(content).split('data-reactid=\"34\"')[4].split('</span>')[0].replace('>','')\n",
        "        price = content.select_one('.Mb\\(-4px\\)').text\n",
        "    except IndexError as e:\n",
        "        price = 0.00\n",
        "    price = price or \"0\"\n",
        "    try:\n",
        "        price = float(price.replace(',',''))\n",
        "    except ValueError as e:\n",
        "        price = 0.00\n",
        "    time.sleep(1)\n",
        "    print(data_col2[1], price, data_col2[2])\n",
        "print('completed...')"
      ]
    },
    {
      "cell_type": "code",
      "metadata": {
        "id": "WqgnJb_Yv0ru",
        "colab_type": "code",
        "colab": {}
      },
      "source": [
        "import requests, zipfile, os, io, pandas as pd\n",
        "from datetime import datetime\n",
        "from dateutil.relativedelta import relativedelta\n",
        "\n",
        "base = '/content/'\n",
        "t = datetime.today().date()\n",
        "dmonth={'01':'JAN','02':'FEB','03':'MAR','04':'APR','05':'MAY','06':'JUN','07':'JUL','08':'AUG','09':'SEP','10':'OCT','11':'NOV','12':'DEC'}\n",
        "\n",
        "# Before running this script , create a file called log.txt and write the date from which you want to download EOD data\n",
        "# Opening file named log.txt , which keeps track of the last downloaded date.\n",
        "ltdl = open(base+'log.txt','r')\n",
        "lastdt = ltdl.read(10)\n",
        "ltdl.close()\n",
        "lastdt = datetime.strptime(lastdt,'%Y-%m-%d')\n",
        "diff, wr = t-lastdt.date(), ''\n",
        "\n",
        "for i in range(1,diff.days+1):\n",
        "    nextdt = lastdt+ relativedelta(days=i)\n",
        "    d, m, y = '%02d' % nextdt.day, '%02d' % nextdt.month, '%02d' % nextdt.year\n",
        "    if not os.path.isdir(base+y):\n",
        "        os.mkdir(base+y)\n",
        "        os.mkdir(base+y+'/Index')\n",
        "        os.mkdir(base+y+'/Futures')\n",
        "    zpath = base+y+'/'+d+'.zip'\n",
        "    \n",
        "    for i in range(7):\n",
        "        while True:\n",
        "            try:\n",
        "                a=requests.get('https://archives.nseindia.com/content/historical/EQUITIES/'+y+'/'+dmonth[m]+'/cm'+d+dmonth[m]+y+'bhav.csv.zip')\n",
        "            except requests.ConnectionError:\n",
        "                print('No connection, retrying')\n",
        "            break\n",
        "            \n",
        "    if a.status_code==200:\n",
        "        dload=open(zpath, 'wb')\n",
        "        dload.write(a.content)\n",
        "        dload.close()\n",
        "        z = zipfile.ZipFile(zpath, 'r')\n",
        "        z.extractall(base+y+'/')\n",
        "        z.close()\n",
        "        os.remove(zpath)\n",
        "        f, deldict = pd.read_csv(base+y+'/cm'+d+dmonth[m]+y+'bhav.csv'), {}  #reading the raw dl-ed bhav file\n",
        "        f = f[f['SERIES'] == 'EQ'] #retaining only EQ rows and leaving out bonds,options etc\n",
        "        deliverable = requests.get('https://archives.nseindia.com/archives/equities/mto/MTO_'+d+m+y+'.DAT').text.splitlines()\n",
        "        del deliverable[:4]\n",
        "\n",
        "        for i in deliverable:\n",
        "            c = i.split(',')\n",
        "            if c[3] == 'EQ' :                \n",
        "                deldict[c[2]] = c[5] #building delivarables dict\n",
        "     \n",
        "        dfdel = pd.DataFrame(list(deldict.items()), columns = ['SYMBOL', 'DELIVERABLE'])\n",
        "        f = f.merge(dfdel, on='SYMBOL', how='left')      #left merge of delivarables here\n",
        "        \n",
        "        indices = requests.get('https://archives.nseindia.com/content/indices/ind_close_all_'+d+m+y+'.csv').content\n",
        "  \n",
        "#sometimes nse doesnt give the index file, so the if condition\n",
        "        if len(indices)>300:\n",
        "          indx = pd.read_csv(io.StringIO(indices.decode('utf-8'))) #reading content of indices csv and storing in DataFrame using io module\n",
        "          indx.to_csv(base+y+'/Index/Indices'+ str(nextdt.date())+'.csv', index=False)\n",
        "          indx[['Index Name', 'Index Date', 'Open Index Value', 'High Index Value', 'Low Index Value', 'Closing Index Value', 'Volume']]\n",
        "          indx = indx.rename(columns={'Index Name' : 'SYMBOL', 'Index Date' : 'TIMESTAMP', 'Open Index Value' : 'OPEN', 'High Index Value' : 'HIGH', 'Low Index Value' : 'LOW', 'Closing Index Value' : 'CLOSE', 'Volume' : 'TOTTRDQTY'})\n",
        "          f=f.append(indx, ignore_index=True)\n",
        "          f['TIMESTAMP'] = pd.Series(str(nextdt.date().strftime('%Y%m%d')) for _ in range(len(f)))\n",
        "          f = f[['SYMBOL', 'TIMESTAMP', 'OPEN', 'HIGH', 'LOW', 'CLOSE', 'TOTTRDQTY', 'DELIVERABLE']]\n",
        "          f.to_csv(base+y+'/'+str(nextdt.date())+'.csv', index=False)\n",
        "          os.remove(base+y+'/cm'+d+dmonth[m]+y+'bhav.csv')\n",
        "          futures = requests.get('https://archives.nseindia.com/content/historical/DERIVATIVES/'+y+'/'+dmonth[m]+'/fo'+d+dmonth[m]+y+'bhav.csv.zip')\n",
        "          fo = open(zpath, 'wb')\n",
        "          fo.write(futures.content)\n",
        "          fo.close()\n",
        "          z, wr = zipfile.ZipFile(zpath,'r'), nextdt.date()\n",
        "          z.extractall(base+y+'/Futures')\n",
        "          z.close()\n",
        "          os.remove(zpath)"
      ],
      "execution_count": null,
      "outputs": []
    }
  ]
}