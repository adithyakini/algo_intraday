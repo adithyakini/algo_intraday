{
  "nbformat": 4,
  "nbformat_minor": 0,
  "metadata": {
    "colab": {
      "name": "bhavcopy_nseindia2mysql.ipynb",
      "provenance": [],
      "collapsed_sections": [],
      "toc_visible": true,
      "mount_file_id": "1wpeVd-eds_hCQW83PZg9epPy9KzIGStl",
      "authorship_tag": "ABX9TyOav1WXXPClvru23uola/iZ",
      "include_colab_link": true
    },
    "kernelspec": {
      "name": "python3",
      "display_name": "Python 3"
    }
  },
  "cells": [
    {
      "cell_type": "markdown",
      "metadata": {
        "id": "view-in-github",
        "colab_type": "text"
      },
      "source": [
        "<a href=\"https://colab.research.google.com/github/adithyakini/algo_intraday/blob/master/bhavcopy_nseindia2mysql.ipynb\" target=\"_parent\"><img src=\"https://colab.research.google.com/assets/colab-badge.svg\" alt=\"Open In Colab\"/></a>"
      ]
    },
    {
      "cell_type": "code",
      "metadata": {
        "id": "uGXTBbodmqb-",
        "colab_type": "code",
        "colab": {}
      },
      "source": [
        "pip install mysql.connector"
      ],
      "execution_count": null,
      "outputs": []
    },
    {
      "cell_type": "code",
      "metadata": {
        "id": "uCQ7pBunZZyl",
        "colab_type": "code",
        "colab": {
          "base_uri": "https://localhost:8080/",
          "height": 918
        },
        "outputId": "4527cff3-4428-4612-f834-8f7aff62497a"
      },
      "source": [
        "import requests, zipfile, os, io, pandas as pd\n",
        "from datetime import datetime\n",
        "from dateutil.relativedelta import relativedelta\n",
        "import mysql.connector\n",
        "from mysql.connector import Error\n",
        "import csv\n",
        "import glob\n",
        "import re\n",
        "from progressbar import ProgressBar\n",
        "from termcolor import colored, cprint\n",
        "import time\n",
        "\n",
        "#https://honingds.com/blog/pandas-read_csv/#indexcol\n",
        "\n",
        "#set the path to where the bhavcopies will be downloaded\n",
        "base = '/content/drive/My Drive/algotrade/'\n",
        "today = datetime.today().date()\n",
        "dmonth={'01':'JAN','02':'FEB','03':'MAR','04':'APR','05':'MAY','06':'JUN','07':'JUL','08':'AUG','09':'SEP','10':'OCT','11':'NOV','12':'DEC'}\n",
        "holiday = ['2020-04-02','2020-04-06','2020-04-10','2020-04-14','2020-05-01','2020-05-25','2020-10-02','2020-11-16','2020-11-30','2020-12-25']\n",
        "# Before running this script , file called bhavcopy_date.txt need to be present in the \"base\" path.\n",
        "# Opening file named bhavcopy_date.txt , it keeps track of the last downloaded date.\n",
        "ltdl = open(base+'bhavcopy_date.txt','r')\n",
        "lastdt = ltdl.read(10)\n",
        "ltdl.close()\n",
        "lastdt = datetime.strptime(lastdt,'%Y-%m-%d')\n",
        "diff, wr = today-lastdt.date(), ''\n",
        "\n",
        "for i in range(1,diff.days+1): #loop through all dates from the last date mentioned in the bhavcopy_date file until today.\n",
        "  nextdt = lastdt+ relativedelta(days=i) #calculate the next day value\n",
        "  #check if the date is a weekend or market holiday so that we can remove that from the loop , bhavcopies are not available for weekends.\n",
        "  if (nextdt.weekday() == 5 or nextdt.weekday() == 6):\n",
        "    cprint (nextdt.strftime('%Y-%m-%d')+' is a weekend','grey')\n",
        "  elif nextdt.strftime('%Y-%m-%d') in holiday:\n",
        "    cprint (nextdt.strftime('%Y-%m-%d')+' is a Market Holiday','grey')\n",
        "  else:\n",
        "    d, m, y = '%02d' % nextdt.day, '%02d' % nextdt.month, '%02d' % nextdt.year #extract day , month and year from  he date\n",
        "    zpath = base+y+'/'+d+'.zip'\n",
        "    if not os.path.isdir(base+y):#if there is no directory already present at the path with the year as a folder then create it\n",
        "      os.mkdir(base+y)\n",
        "      os.mkdir(base+y+'/Index')\n",
        "      os.mkdir(base+y+'/Futures')\n",
        "      os.mkdir(base+y+'/Forex')\n",
        "    for i in range(3): #try to connect to the nseindia url to download the bhavcopy , 7 times , just incase website does not respond etc.\n",
        "      while True:\n",
        "        try:\n",
        "          equities_bhavcopy=requests.get('https://archives.nseindia.com/content/historical/EQUITIES/'+y+'/'+dmonth[m]+'/cm'+d+dmonth[m]+y+'bhav.csv.zip')\n",
        "        except requests.ConnectionError:\n",
        "          print('No connection, retrying')\n",
        "        break\n",
        "    if equities_bhavcopy.status_code==200:#if the connection is successful\n",
        "      dload=open(zpath, 'wb')\n",
        "      dload.write(equities_bhavcopy.content)\n",
        "      dload.close()\n",
        "      #open the downlaoded bhavcopy and extract it\n",
        "      z = zipfile.ZipFile(zpath, 'r')\n",
        "      z.extractall(base+y+'/')\n",
        "      z.close()\n",
        "      os.remove(zpath)\n",
        "      #reading and storing in 2 dictionaries because we need 2 columns from the MTO file deliverable and %deliverable which is not found in the bhavcopy.\n",
        "      f, deldict = pd.read_csv(base+y+'/cm'+d+dmonth[m]+y+'bhav.csv'), {}  #reading the raw dl-ed bhav file\n",
        "      f, deldict2 = pd.read_csv(base+y+'/cm'+d+dmonth[m]+y+'bhav.csv'), {}  #reading the raw dl-ed bhav file\n",
        "      f = f[f['SERIES'] == 'EQ'] #retaining only EQ rows and leaving out bonds,options etc\n",
        "      #cprint('cm'+d+dmonth[m]+y+'bhav.csv.zip download...SUCCESS', 'red', attrs=['blink'])\n",
        "      print('cm'+d+dmonth[m]+y+'bhav.csv.zip download...SUCCESS')\n",
        "      # a file called mto.dat holds deliverable data, it is useful data to know whether the delivery percentage of a stock has gone up , an indication that long term investors have gone up\n",
        "      for i in range(7): #try to connect to the nseindia url to download the mto file , 7 times , just incase website does not respond etc.\n",
        "        while True:\n",
        "          try:\n",
        "            deliverable = requests.get('https://archives.nseindia.com/archives/equities/mto/MTO_'+d+m+y+'.DAT').text.splitlines()\n",
        "          except requests.ConnectionError:\n",
        "            cprint('No connection, retrying','red')\n",
        "          break\n",
        "      print(''+d+m+y+'.DAT download ...SUCCESS')\n",
        "      del deliverable[:4]\n",
        "      for i in deliverable:\n",
        "          c = i.split(',')\n",
        "          if c[3] == 'EQ' :                \n",
        "              deldict[c[2]] = c[5] #building delivarables dict\n",
        "          if c[3] == 'EQ' :                \n",
        "              deldict2[c[2]] = c[6] #building %delivarables dict\n",
        "      dfdel = pd.DataFrame(list(deldict.items()), columns = ['SYMBOL', 'DELIVERABLE'])\n",
        "      dfdel2 = pd.DataFrame(list(deldict2.items()), columns = ['SYMBOL', '%DELIVERABLE'])\n",
        "      f = f.merge(dfdel, on='SYMBOL', how='left')      #left merge of delivarables here\n",
        "      f = f.merge(dfdel2, on='SYMBOL', how='left')      #left merge of delivarables here\n",
        "      #write a new csv, bhavcopydate as a column in the csv and get rid of the downloaded file\n",
        "      f['BHAVCOPYDATE'] = pd.Series(str(nextdt.date().strftime('%Y-%m-%d')) for _ in range(len(f))) #add a column called bhavcopydate and then fill it with the bhavecopy date\n",
        "      f = f[['SYMBOL', 'BHAVCOPYDATE', 'OPEN', 'HIGH', 'LOW', 'CLOSE', 'TOTTRDQTY', 'DELIVERABLE','%DELIVERABLE']]\n",
        "      f.to_csv(base+y+'/'+str(nextdt.date())+'.csv', index=False)\n",
        "      os.remove(base+y+'/cm'+d+dmonth[m]+y+'bhav.csv')\n",
        "      print('Merging of deliverable column to EQ bhavcopy...SUCCESS')\n",
        "      \n",
        "      ######################################################################################\n",
        "      # connect to MySQL db in https://johnny.heliohost.org:2083/ UN \n",
        "      # pip install pip install mysql-connector --target=$nb_path pip install mysql-connector\n",
        "      # https://pynative.com/python-mysql-database-connection/\n",
        "      d, m, y = '%02d' % nextdt.day, '%02d' % nextdt.month, '%02d' % nextdt.year\n",
        "      #check if the path exist and connect to cloud mysql \n",
        "      #if os.path.exists(base+y):\n",
        "      try:\n",
        "        connection = mysql.connector.connect(host='johnny.heliohost.org',\n",
        "                                            database='akini_algotrade',\n",
        "                                            user='akini',\n",
        "                                            password='Drink7up@home')\n",
        "        \n",
        "        db_Info = connection.get_server_info()\n",
        "        print(\"\\nConnected to MySQL Server - version\", db_Info)\n",
        "        cursor = connection.cursor()\n",
        "        cursor.execute(\"select database();\")\n",
        "        record = cursor.fetchone()\n",
        "        print(\"\\nIngesting EQUITIES bhavcopy \"+'/'+y+'-'+m+'-'+d+'.csv'+\" into DB....:\", record)\n",
        "        cursor.fast_executemany = True\n",
        "        with open(base+y+'/'+y+'-'+m+'-'+d+'.csv', newline='',  encoding=\"utf8\") as csvfile:\n",
        "          csvdata = csv.reader(csvfile)\n",
        "          #skip the 1st row as it will be header\n",
        "          next(csvdata)\n",
        "          pbar = ProgressBar()\n",
        "          for row in pbar(list(csvdata)):\n",
        "            # Prepare SQL query to INSERT a record into the database.\n",
        "            sql_stocks = \"INSERT INTO bhavcopy (symbol, bhavcopydate, open, high, low, close, tottrdqty, deliverable, deliverable_percent) \\\n",
        "            VALUES ('%s', '%s','%s', '%s','%s', '%s', '%s', '%s','%s');\" % (row[0], row[1], row[2], row[3], row[4], row[5], row[6], row[7], row[8])\n",
        "            #print(sql)\n",
        "            try:\n",
        "              #Execute the SQL command\n",
        "              cursor.execute(sql_stocks)\n",
        "              #Commit your changes in the database\n",
        "              connection.commit()\n",
        "            except Error as e:\n",
        "              cprint('-------------------------------','red')\n",
        "              print(\"Error while connecting to MySQL\", e)\n",
        "              cprint('-------------------------------','red')\n",
        "              connection.rollback()\n",
        "              #pbar.next()\n",
        "              pbar.finish()\n",
        "              break\n",
        "      except Error as e:\n",
        "        cprint('-------------------------------','red')\n",
        "        print(\"Error while connecting to MySQL\", e)\n",
        "        cprint('-------------------------------','red')\n",
        "        break\n",
        "      finally:\n",
        "        if (connection.is_connected()):\n",
        "          cursor.close()\n",
        "          connection.close()\n",
        "    #now lets work with the FOREX\n",
        "    for i in range(2): #try to connect to the nseindia url to download the bhavcopy , 3 times , just incase website does not respond etc.\n",
        "      #while True:\n",
        "      try:\n",
        "        headers = {'User-Agent': 'Mozilla/5.0 (Macintosh; Intel Mac OS X 10_13_6) AppleWebKit/537.36 (KHTML, like Gecko) Chrome/68.0.3440.106 Safari/537.36',}#Sometimes requests from requests.get() gets blocked by server, so solution is to make the server think the request is coming from a web browser\n",
        "        forex = requests.get('https://archives.nseindia.com/archives/cd/mkt_act/cd'+d+m+y+'.zip', headers=headers, timeout=5) #get the zip file from nseindia\n",
        "      except requests.exceptions.Timeout as error:\n",
        "        cprint('ERROR!!! 404 filenotfound cd'+d+m+y+'.zip..skipping','red')\n",
        "        break\n",
        "      except requests.ConnectionError:\n",
        "        cprint('No connection.. retrying','red')\n",
        "        break\n",
        "    if forex.status_code==200:\n",
        "        fx=open(zpath, 'wb') #open the zip file under a temp location called zpath that is defined above\n",
        "        fx.write(forex.content)\n",
        "        fx.close()\n",
        "        z, wr = zipfile.ZipFile(zpath,'r'), nextdt.date()\n",
        "        z.extractall(base+y+'/Forex') #extract the contents of the zip file to a location called forex , it extracts some 6 csv files we want only 1\n",
        "        z.close()\n",
        "        os.remove(zpath) #remove the zip file\n",
        "        if os.path.exists(base+y+'/Forex/cf'+d+m+y+'.csv'):\n",
        "          def trim(dataset): #Definition for strippping whitespace\n",
        "              trim = lambda x: x.strip() if type(x) is str else x\n",
        "              return dataset.applymap(trim)\n",
        "          # making dataframe from csv file\n",
        "          data = trim(pd.read_csv(base+y+'/Forex/cf'+d+m+y+'.csv'))  #reading the raw dl-ed file and trimming the trailing spaces with trim()\n",
        "          data = data[data['INSTRUMENT'] == 'FUTCUR'] #retaining only FUTCUR rows and leaving out other rows\n",
        "          data[['INSTRUMENT', 'SYMBOL    ', 'EXP_DATE  ', 'OPEN_PRICE ', 'HI_PRICE   ', 'LO_PRICE   ', 'CLOSE_PRICE','OPEN_INT*      ','TRD_VAL           ','TRD_QTY          ','NO_OF_CONT       ','NO_OF_TRADE      ']]#the useless file has spaces in the heading.\n",
        "          data = data.rename(columns={'SYMBOL    ':'SYMBOL', 'EXP_DATE  ':'EXP_DATE', 'OPEN_PRICE ':'OPEN', 'HI_PRICE   ':'HIGH', 'LO_PRICE   ':'LOW', 'CLOSE_PRICE':'CLOSE','OPEN_INT*      ':'OPEN_INT','TRD_VAL           ':'TRD_VAL','TRD_QTY          ':'TRD_QTY','NO_OF_CONT       ':'NO_OF_CONT','NO_OF_TRADE      ':'NO_OF_TRADE'}) #rename some of the columns to something that is easier to underastand\n",
        "          data['BHAVCOPYDATE'] = pd.Series(str(nextdt.date().strftime('%Y-%m-%d')) for _ in range(len(data))) #add a column called bhavcopydate and then fill it with the bhavecopy date\n",
        "          data['EXP_DATE'] = pd.to_datetime(data['EXP_DATE'], format = '%d/%m/%Y') #the exp_date column is in format dd/mm/yyy convert it to yyyy-mm-dd\n",
        "          data.to_csv(base+y+'/Forex/'+ str(nextdt.date())+'_forex.csv', index=False) #write the changes above to a new file and add an _forex to the csv file\n",
        "          os.remove(base+y+'/Forex/cf'+d+m+y+'.csv')\n",
        "          print('Forex bhavcopy '+ str(nextdt.date())+'_forex.csv create...SUCCESS')\n",
        "          #print(data)\n",
        "          ######################################################################################\n",
        "          #cleanup all the useless files that get extracted from the currency futures bhavcopy\n",
        "          for CleanUp in glob.glob(base+y+'/Forex/*.*'): # list out the files\n",
        "            if not re.match(\".+forex+\",CleanUp): #if the list found above contains \"forex\" then dont do anything, else delete\n",
        "              os.remove(CleanUp) #remove files in the folder\n",
        "            \n",
        "          try:\n",
        "            connection = mysql.connector.connect(host='johnny.heliohost.org',\n",
        "                                                database='akini_algotrade',\n",
        "                                                user='akini',\n",
        "                                                password='Drink7up@home')\n",
        "            \n",
        "            db_Info = connection.get_server_info()\n",
        "            print(\"\\nConnected to MySQL Server version\", db_Info)\n",
        "            #print(\">>>>>>>>>>>>>>>\\n\")\n",
        "            cursor = connection.cursor()\n",
        "            cursor.execute(\"select database();\")\n",
        "            record = cursor.fetchone()\n",
        "            print(\"\\nIngesting FOREX bhavcopy \"+'/'+y+'-'+m+'-'+d+'_forex.csv'+\" into DB....:\", record)\n",
        "            #print(\">>>>>>>>>>>>>>>\\n\")\n",
        "            cursor.fast_executemany = True\n",
        "            with open(base+y+'/Forex/'+ str(nextdt.date())+'_forex.csv', newline='',  encoding=\"utf8\") as csvfile_forex:\n",
        "              csvdata_forex = csv.reader(csvfile_forex)\n",
        "              #skip the 1st row as it will be header\n",
        "              next(csvdata_forex)\n",
        "              pbar = ProgressBar()\n",
        "              for row in pbar(list(csvdata_forex)):\n",
        "              #Prepare SQL query to INSERT a record into the database.\n",
        "                sql_forex = \"INSERT INTO forex (symbol, exp_date, open, high, low, close, open_int, trd_val, trd_qty, no_of_cont, no_of_trade, bhavcopydate) \\\n",
        "                VALUES ('%s','%s','%s', '%s','%s', '%s', '%s', '%s','%s','%s', '%s','%s');\" % (row[1], row[2], row[3], row[4], row[5], row[6], row[7], row[8], row[9], row[10], row[11], row[12])\n",
        "                try:\n",
        "                  #Execute the SQL command\n",
        "                  cursor.execute(sql_forex)\n",
        "                  #Commit your changes in the database\n",
        "                  connection.commit()\n",
        "                except Error as e:\n",
        "                  cprint('-------------------------------','red')\n",
        "                  print(\"Error while connecting to MySQL\", e)\n",
        "                  cprint('-------------------------------','red')\n",
        "                  connection.rollback()\n",
        "                  #pbar.next()\n",
        "                  pbar.finish()\n",
        "                  break\n",
        "          except Error as e:\n",
        "            cprint('-------------------------------','red')\n",
        "            print(\"Error while connecting to MySQL\", e)\n",
        "            cprint('-------------------------------','red')\n",
        "            break\n",
        "          finally:\n",
        "            # create cursor\n",
        "            cursor=connection.cursor()\n",
        "            csvfile = requests.get('https://docs.google.com/spreadsheets/d/1ZTyh6GiHTwA1d-ApYdn5iCmRiBLZoAtwigS7VyLUk_Y/edit#gid=0')\n",
        "            print(csvfile.status_code)\n",
        "            print('Updating Banned Symbols table')\n",
        "            # Insert DataFrame recrds one by one.\n",
        "            df=pd.read_csv('https://docs.google.com/spreadsheets/d/1ZTyh6GiHTwA1d-ApYdn5iCmRiBLZoAtwigS7VyLUk_Y/export?format=csv&gid=0', usecols=[\"Stocks not allowed for MIS\"])\n",
        "            pbar = ProgressBar()\n",
        "            #Prepare SQL query to INSERT a record into the database.\n",
        "            if csvfile.status_code != 200:\n",
        "              #truncate banned symbols table\n",
        "              sql_truncate_table = \"truncate banned_symbols;\"\n",
        "              cursor.execute(sql_truncate_table)\n",
        "              connection.commit()\n",
        "              time.sleep(10)\n",
        "              for i,row in pbar(df.iterrows()):\n",
        "                sql_banned_symbols = \"INSERT INTO banned_symbols (symbol) VALUES ('%s');\" % (row[0])\n",
        "                try:\n",
        "                  #Execute the SQL command\n",
        "                  cursor.execute(sql_banned_symbols)\n",
        "                  #Commit your changes in the database\n",
        "                  connection.commit()\n",
        "                except Error as e:\n",
        "                  cprint('-------------------------------','red')\n",
        "                  print(\"Error while connecting to MySQL\", e)\n",
        "                  cprint('-------------------------------','red')\n",
        "                  connection.rollback()\n",
        "                  #pbar.next()\n",
        "                  pbar.finish()\n",
        "                  break\n",
        "                  connection.close()\n",
        "if (connection.is_connected()):\n",
        "  cursor.close()\n",
        "  connection.close()\n",
        "cprint(\">>>>>>>>>>>>>>>>>>>>>>>>>>>>>\\nDONE - All imports complete\\n>>>>>>>>>>>>>>>>>>>>>>>>>>>>>\",'green')\n",
        "\n",
        "#sometimes nse doesnt give the index file, so the if condition\n",
        "#        indices = requests.get('https://archives.nseindia.com/content/indices/ind_close_all_'+d+m+y+'.csv').content\n",
        "#        if len(indices)>300:\n",
        "#          indx = pd.read_csv(io.StringIO(indices.decode('utf-8'))) #reading content of indices csv and storing in DataFrame using io module\n",
        "#          indx.to_csv(base+y+'/Index/Indices'+ str(nextdt.date())+'.csv', index=False)\n",
        "#          indx[['Index Name', 'Index Date', 'Open Index Value', 'High Index Value', 'Low Index Value', 'Closing Index Value', 'Volume']]\n",
        "#          indx = indx.rename(columns={'Index Name' : 'SYMBOL', 'Index Date' : 'BHAVCOPYDATE', 'Open Index Value' : 'OPEN', 'High Index Value' : 'HIGH', 'Low Index Value' : 'LOW', 'Closing Index Value' : 'CLOSE', 'Volume' : 'TOTTRDQTY'})\n",
        "#          print('Indices bhavcopy file ind_close_all_'+d+m+y+'.csv downloaded successfully')\n",
        "        #print(indx)\n",
        "      ######################################################################################\n",
        "      #futures download the zip from nseindia , and extract not inserting into db yet      #\n",
        "      ######################################################################################\n",
        "#        for i in range(7): #try to connect to the nseindia url to download the bhavcopy , 7 times , just incase website does not respond etc.\n",
        "#          while True:\n",
        "#            try:\n",
        "#              futures = requests.get('https://archives.nseindia.com/content/historical/DERIVATIVES/'+y+'/'+dmonth[m]+'/fo'+d+dmonth[m]+y+'bhav.csv.zip')\n",
        "#            except requests.ConnectionError:\n",
        "#              print('No connection, retrying')\n",
        "#              break\n",
        "#        fo = open(zpath, 'wb')\n",
        "#        fo.write(futures.content)\n",
        "#        fo.close()\n",
        "#        z, wr = zipfile.ZipFile(zpath,'r'), nextdt.date()\n",
        "#        z.extractall(base+y+'/Futures')\n",
        "#        z.close()\n",
        "#        os.remove(zpath)\n",
        "#       print('Futures bhavcopy file fo'+d+dmonth[m]+y+'bhav.csv downloaded successfully')"
      ],
      "execution_count": null,
      "outputs": [
        {
          "output_type": "stream",
          "text": [
            "cm04SEP2020bhav.csv.zip download...SUCCESS\n",
            "04092020.DAT download ...SUCCESS\n",
            "Merging of deliverable column to EQ bhavcopy...SUCCESS\n",
            "\n",
            "Connected to MySQL Server - version 5.7.30\n"
          ],
          "name": "stdout"
        },
        {
          "output_type": "stream",
          "text": [
            "\r                                                                               \r\rN/A% (0 of 1555) |                       | Elapsed Time: 0:00:00 ETA:  --:--:--"
          ],
          "name": "stderr"
        },
        {
          "output_type": "stream",
          "text": [
            "\n",
            "Ingesting EQUITIES bhavcopy /2020-09-04.csv into DB....: ('akini_algotrade',)\n"
          ],
          "name": "stdout"
        },
        {
          "output_type": "stream",
          "text": [
            "100% (1555 of 1555) |####################| Elapsed Time: 0:08:23 Time:  0:08:23\n"
          ],
          "name": "stderr"
        },
        {
          "output_type": "stream",
          "text": [
            "Forex bhavcopy 2020-09-04_forex.csv create...SUCCESS\n",
            "\n",
            "Connected to MySQL Server version 5.7.30\n"
          ],
          "name": "stdout"
        },
        {
          "output_type": "stream",
          "text": [
            "\r                                                                               \r\rN/A% (0 of 27) |                         | Elapsed Time: 0:00:00 ETA:  --:--:--"
          ],
          "name": "stderr"
        },
        {
          "output_type": "stream",
          "text": [
            "\n",
            "Ingesting FOREX bhavcopy /2020-09-04_forex.csv into DB....: ('akini_algotrade',)\n"
          ],
          "name": "stdout"
        },
        {
          "output_type": "stream",
          "text": [
            "100% (27 of 27) |########################| Elapsed Time: 0:00:07 Time:  0:00:07\n"
          ],
          "name": "stderr"
        },
        {
          "output_type": "stream",
          "text": [
            "200\n",
            "Updating Banned Symbols table\n",
            "\u001b[30m2020-09-05 is a weekend\u001b[0m\n",
            "\u001b[30m2020-09-06 is a weekend\u001b[0m\n",
            "cm07SEP2020bhav.csv.zip download...SUCCESS\n",
            "07092020.DAT download ...SUCCESS\n",
            "Merging of deliverable column to EQ bhavcopy...SUCCESS\n",
            "\n",
            "Connected to MySQL Server - version 5.7.30\n"
          ],
          "name": "stdout"
        },
        {
          "output_type": "stream",
          "text": [
            "\r                                                                               \r\rN/A% (0 of 1558) |                       | Elapsed Time: 0:00:00 ETA:  --:--:--"
          ],
          "name": "stderr"
        },
        {
          "output_type": "stream",
          "text": [
            "\n",
            "Ingesting EQUITIES bhavcopy /2020-09-07.csv into DB....: ('akini_algotrade',)\n"
          ],
          "name": "stdout"
        },
        {
          "output_type": "stream",
          "text": [
            "100% (1558 of 1558) |####################| Elapsed Time: 0:08:37 Time:  0:08:37\n"
          ],
          "name": "stderr"
        },
        {
          "output_type": "stream",
          "text": [
            "Forex bhavcopy 2020-09-07_forex.csv create...SUCCESS\n",
            "\n",
            "Connected to MySQL Server version 5.7.30\n"
          ],
          "name": "stdout"
        },
        {
          "output_type": "stream",
          "text": [
            "\r                                                                               \r\rN/A% (0 of 27) |                         | Elapsed Time: 0:00:00 ETA:  --:--:--"
          ],
          "name": "stderr"
        },
        {
          "output_type": "stream",
          "text": [
            "\n",
            "Ingesting FOREX bhavcopy /2020-09-07_forex.csv into DB....: ('akini_algotrade',)\n"
          ],
          "name": "stdout"
        },
        {
          "output_type": "stream",
          "text": [
            "100% (27 of 27) |########################| Elapsed Time: 0:00:12 Time:  0:00:12\n"
          ],
          "name": "stderr"
        },
        {
          "output_type": "stream",
          "text": [
            "200\n",
            "Updating Banned Symbols table\n",
            "cm08SEP2020bhav.csv.zip download...SUCCESS\n",
            "08092020.DAT download ...SUCCESS\n",
            "Merging of deliverable column to EQ bhavcopy...SUCCESS\n",
            "\n",
            "Connected to MySQL Server - version 5.7.30\n"
          ],
          "name": "stdout"
        },
        {
          "output_type": "stream",
          "text": [
            "\r                                                                               \r\rN/A% (0 of 1554) |                       | Elapsed Time: 0:00:00 ETA:  --:--:--"
          ],
          "name": "stderr"
        },
        {
          "output_type": "stream",
          "text": [
            "\n",
            "Ingesting EQUITIES bhavcopy /2020-09-08.csv into DB....: ('akini_algotrade',)\n"
          ],
          "name": "stdout"
        },
        {
          "output_type": "stream",
          "text": [
            "100% (1554 of 1554) |####################| Elapsed Time: 0:09:46 Time:  0:09:46\n"
          ],
          "name": "stderr"
        },
        {
          "output_type": "stream",
          "text": [
            "Forex bhavcopy 2020-09-08_forex.csv create...SUCCESS\n",
            "\n",
            "Connected to MySQL Server version 5.7.30\n"
          ],
          "name": "stdout"
        },
        {
          "output_type": "stream",
          "text": [
            "\r                                                                               \r\rN/A% (0 of 28) |                         | Elapsed Time: 0:00:00 ETA:  --:--:--"
          ],
          "name": "stderr"
        },
        {
          "output_type": "stream",
          "text": [
            "\n",
            "Ingesting FOREX bhavcopy /2020-09-08_forex.csv into DB....: ('akini_algotrade',)\n"
          ],
          "name": "stdout"
        },
        {
          "output_type": "stream",
          "text": [
            "100% (28 of 28) |########################| Elapsed Time: 0:00:09 Time:  0:00:09\n"
          ],
          "name": "stderr"
        },
        {
          "output_type": "stream",
          "text": [
            "200\n",
            "Updating Banned Symbols table\n",
            "\u001b[32m>>>>>>>>>>>>>>>>>>>>>>>>>>>>>\n",
            "DONE - All imports complete\n",
            ">>>>>>>>>>>>>>>>>>>>>>>>>>>>>\u001b[0m\n"
          ],
          "name": "stdout"
        }
      ]
    },
    {
      "cell_type": "code",
      "metadata": {
        "id": "tcnb-noyOvgH",
        "colab_type": "code",
        "colab": {
          "base_uri": "https://localhost:8080/",
          "height": 102
        },
        "outputId": "a3074d3b-96f9-4ba5-e897-37ace0cd4a8b"
      },
      "source": [
        "#********************************************************\n",
        "# Ingest Banned symbols from zerodha excel sheet into DB#\n",
        "#********************************************************\n",
        "import pandas as pd\n",
        "import requests as requests\n",
        "from progressbar import ProgressBar\n",
        "import mysql.connector\n",
        "from mysql.connector import Error\n",
        "import time\n",
        "\n",
        "# Connect to the database\n",
        "connection = mysql.connector.connect(host='johnny.heliohost.org',\n",
        "                                                database='akini_algotrade',\n",
        "                                                user='akini',\n",
        "                                                password='Drink7up@home')\n",
        "# create cursor\n",
        "cursor=connection.cursor()\n",
        "csvfile = requests.get('https://docs.google.com/spreadsheets/d/1ZTyh6GiHTwA1d-ApYdn5iCmRiBLZoAtwigS7VyLUk_Y/edit#gid=0')\n",
        "print(csvfile.status_code)\n",
        "# Insert DataFrame recrds one by one.\n",
        "df=pd.read_csv('https://docs.google.com/spreadsheets/d/1ZTyh6GiHTwA1d-ApYdn5iCmRiBLZoAtwigS7VyLUk_Y/export?format=csv&gid=0', usecols=[\"Stocks not allowed for MIS\"])\n",
        "pbar = ProgressBar()\n",
        "#truncate banned symbols table\n",
        "sql_truncate_table = \"truncate banned_symbols;\"\n",
        "cursor.execute(sql_truncate_table)\n",
        "connection.commit()\n",
        "time.sleep(10)\n",
        "#Prepare SQL query to INSERT a record into the database.\n",
        "for i,row in pbar(df.iterrows()):\n",
        "  sql_banned_symbols = \"INSERT INTO banned_symbols (symbol) VALUES ('%s');\" % (row[0])\n",
        "  try:\n",
        "    #Execute the SQL command\n",
        "    cursor.execute(sql_banned_symbols)\n",
        "    #Commit your changes in the database\n",
        "    connection.commit()\n",
        "  except Error as e:\n",
        "    cprint('-------------------------------','red')\n",
        "    print(\"Error while connecting to MySQL\", e)\n",
        "    cprint('-------------------------------','red')\n",
        "    connection.rollback()\n",
        "    #pbar.next()\n",
        "    pbar.finish()\n",
        "    break\n",
        "if (connection.is_connected()):\n",
        "              cursor.close()\n",
        "              connection.close()\n",
        "cprint(\">>>>>>>>>>\\nDONE\\n>>>>>>>>>>\",'green')"
      ],
      "execution_count": null,
      "outputs": [
        {
          "output_type": "stream",
          "text": [
            "200\n"
          ],
          "name": "stdout"
        },
        {
          "output_type": "stream",
          "text": [
            "| |            #                                   | 1270 Elapsed Time: 0:04:08\n"
          ],
          "name": "stderr"
        },
        {
          "output_type": "stream",
          "text": [
            "\u001b[32m>>>>>>>>>>\n",
            "DONE\n",
            ">>>>>>>>>>\u001b[0m\n"
          ],
          "name": "stdout"
        }
      ]
    },
    {
      "cell_type": "code",
      "metadata": {
        "id": "c9eKJeMSoVuU",
        "colab_type": "code",
        "colab": {}
      },
      "source": [
        "#********************************************\n",
        "# download and insert sector indices symbols#\n",
        "#********************************************\n",
        "import requests, os, io, pandas as pd\n",
        "from datetime import datetime\n",
        "import csv\n",
        "import glob\n",
        "import mysql.connector\n",
        "from mysql.connector import Error\n",
        "from progressbar import ProgressBar\n",
        "from termcolor import colored, cprint\n",
        "import time\n",
        "\n",
        "#https://honingds.com/blog/pandas-read_csv/#indexcol\n",
        "#set the path to where the bhavcopies will be downloaded\n",
        "base = '/content/drive/My Drive/algotrade/'\n",
        "today = datetime.today().date()\n",
        "d, m, y = '%02d' % today.day, '%02d' % today.month, '%02d' % today.year #extract day , month and year from  he date\n",
        "\n",
        "if not os.path.isdir(base+y+'/sectors'):#if there is no directory already present at the path with the year as a folder then create it\n",
        "      os.mkdir(base+y+'/sectors')\n",
        "\n",
        "#add a not condition to the below to skip over it.\n",
        "if os.path.exists(base+y+'/sectors'):\n",
        "  for CleanUp in glob.glob(base+y+'/sectors/*.*'): # list out the files\n",
        "    os.remove(CleanUp) #remove files in the folder\n",
        "  #download automobile csv\n",
        "  indices_automobile = requests.get('https://archives.nseindia.com/content/indices/ind_niftyautolist.csv').content\n",
        "  aut_csv = pd.read_csv(io.StringIO(indices_automobile.decode('utf-8'))) #reading content of indices csv and storing in DataFrame using io module\n",
        "  aut_csv.to_csv(base+y+'/sectors/'+y+'-'+m+'-'+d+'_automobile.csv', index=False)\n",
        "  #download Bank csv\n",
        "  indices_bank = requests.get('https://archives.nseindia.com/content/indices/ind_niftybanklist.csv').content\n",
        "  sec_bank_csv = pd.read_csv(io.StringIO(indices_bank.decode('utf-8'))) #reading content of indices csv and storing in DataFrame using io module\n",
        "  sec_bank_csv.to_csv(base+y+'/sectors/'+y+'-'+m+'-'+d+'_bank.csv', index=False)\n",
        "  #download sec_consumer_durable csv\n",
        "  indices_consumer_durable = requests.get('https://archives.nseindia.com/content/indices/ind_niftyconsumerdurableslist.csv').content\n",
        "  sec_consumer_durable_csv = pd.read_csv(io.StringIO(indices_consumer_durable.decode('utf-8'))) #reading content of indices csv and storing in DataFrame using io module\n",
        "  sec_consumer_durable_csv.to_csv(base+y+'/sectors/'+y+'-'+m+'-'+d+'_consumer_durable.csv', index=False)\n",
        "  #download financial services csv\n",
        "  indices_fin_serv = requests.get('https://archives.nseindia.com/content/indices/ind_niftyfinancelist.csv').content\n",
        "  sec_fin_serv_csv = pd.read_csv(io.StringIO(indices_fin_serv.decode('utf-8'))) #reading content of indices csv and storing in DataFrame using io module\n",
        "  sec_fin_serv_csv.to_csv(base+y+'/sectors/'+y+'-'+m+'-'+d+'_fin_serv.csv', index=False)\n",
        "  #download fmcg csv\n",
        "  indices_fmcg = requests.get('https://archives.nseindia.com/content/indices/ind_niftyfmcglist.csv').content\n",
        "  sec_fmcg_csv = pd.read_csv(io.StringIO(indices_fmcg.decode('utf-8'))) #reading content of indices csv and storing in DataFrame using io module\n",
        "  sec_fmcg_csv.to_csv(base+y+'/sectors/'+y+'-'+m+'-'+d+'_fmcg.csv', index=False)\n",
        "  #download IT csv\n",
        "  indices_it = requests.get('https://archives.nseindia.com/content/indices/ind_niftyitlist.csv').content\n",
        "  sec_it_csv = pd.read_csv(io.StringIO(indices_it.decode('utf-8'))) #reading content of indices csv and storing in DataFrame using io module\n",
        "  sec_it_csv.to_csv(base+y+'/sectors/'+y+'-'+m+'-'+d+'_it.csv', index=False)\n",
        "  #download media csv\n",
        "  indices_media = requests.get('https://archives.nseindia.com/content/indices/ind_niftymedialist.csv').content\n",
        "  sec_media_csv = pd.read_csv(io.StringIO(indices_media.decode('utf-8'))) #reading content of indices csv and storing in DataFrame using io module\n",
        "  sec_media_csv.to_csv(base+y+'/sectors/'+y+'-'+m+'-'+d+'_media.csv', index=False)\n",
        "  #download metal csv\n",
        "  indices_metal = requests.get('https://archives.nseindia.com/content/indices/ind_niftymetallist.csv').content\n",
        "  sec_metal_csv = pd.read_csv(io.StringIO(indices_metal.decode('utf-8'))) #reading content of indices csv and storing in DataFrame using io module\n",
        "  sec_metal_csv.to_csv(base+y+'/sectors/'+y+'-'+m+'-'+d+'_metal.csv', index=False)\n",
        "  #download oil_gas csv\n",
        "  indices_oil_gas = requests.get('https://www1.nseindia.com/content/indices/ind_niftyoilgaslist.csv').content\n",
        "  sec_oil_gas_csv = pd.read_csv(io.StringIO(indices_oil_gas.decode('utf-8'))) #reading content of indices csv and storing in DataFrame using io module\n",
        "  sec_oil_gas_csv.to_csv(base+y+'/sectors/'+y+'-'+m+'-'+d+'_oil_gas.csv', index=False)\n",
        "  #download pharma csv\n",
        "  indices_pharma = requests.get('https://archives.nseindia.com/content/indices/ind_niftypharmalist.csv').content\n",
        "  sec_pharma_csv = pd.read_csv(io.StringIO(indices_pharma.decode('utf-8'))) #reading content of indices csv and storing in DataFrame using io module\n",
        "  sec_pharma_csv.to_csv(base+y+'/sectors/'+y+'-'+m+'-'+d+'_pharma.csv', index=False)\n",
        "  #download realty csv\n",
        "  indices_realty = requests.get('https://archives.nseindia.com/content/indices/ind_niftyrealtylist.csv').content\n",
        "  sec_realty_csv = pd.read_csv(io.StringIO(indices_realty.decode('utf-8'))) #reading content of indices csv and storing in DataFrame using io module\n",
        "  sec_realty_csv.to_csv(base+y+'/sectors/'+y+'-'+m+'-'+d+'_realty.csv', index=False)\n",
        "\n",
        "#truncate sector_indice_symbols table\n",
        "sql_truncate_table = \"truncate sector_indice_symbols;\"\n",
        "cursor.execute(sql_truncate_table)\n",
        "connection.commit()\n",
        "time.sleep(10)\n",
        "#list out the files in the sector folder\n",
        "for files in glob.glob(base+y+'/sectors/*.*'):\n",
        "  print('\\nIngesting sectoral CSV '+files)\n",
        "  try:\n",
        "    connection = mysql.connector.connect(host='johnny.heliohost.org',\n",
        "                                        database='akini_algotrade',\n",
        "                                        user='akini',\n",
        "                                        password='Drink7up@home')\n",
        "    \n",
        "    db_Info = connection.get_server_info()\n",
        "    print(\"\\nConnected to MySQL Server version\", db_Info)\n",
        "    cursor = connection.cursor()\n",
        "    cursor.execute(\"select database();\")\n",
        "    record = cursor.fetchone()\n",
        "    cursor.fast_executemany = True\n",
        "    with open(files, newline='',  encoding=\"utf8\") as csvfile:\n",
        "      csvdata = csv.reader(csvfile, escapechar=\"\\'\")\n",
        "      #skip the 1st row as it will be header\n",
        "      next(csvdata)\n",
        "      pbar = ProgressBar()\n",
        "      for row in pbar(list(csvdata)):\n",
        "      #Prepare SQL query to INSERT a record into the database.\n",
        "        sql= \"INSERT INTO sector_indice_symbols (company_name,sector, symbol) \\\n",
        "        VALUES ('%s','%s','%s');\" % (row[0], row[1], row[2])\n",
        "        try:\n",
        "          #Execute the SQL command\n",
        "          cursor.execute(sql)\n",
        "          #Commit your changes in the database\n",
        "          connection.commit()\n",
        "        except Error as e:\n",
        "          cprint('-------------------------------','red')\n",
        "          print(\"Error while connecting to MySQL\", e)\n",
        "          cprint('-------------------------------','red')\n",
        "          connection.rollback()\n",
        "          #pbar.next()\n",
        "          pbar.finish()\n",
        "          break\n",
        "  except Error as e:\n",
        "    cprint('-------------------------------','red')\n",
        "    print(\"Error while connecting to MySQL\", e)\n",
        "    cprint('-------------------------------','red')\n",
        "    break\n",
        "cprint(\">>>>>>>>>>\\nDONE\\n>>>>>>>>>>\",'green')\n",
        "if (connection.is_connected()):\n",
        "              cursor.close()\n",
        "              connection.close()"
      ],
      "execution_count": null,
      "outputs": []
    },
    {
      "cell_type": "code",
      "metadata": {
        "id": "Ky43YYVp770w",
        "colab_type": "code",
        "colab": {}
      },
      "source": [
        "from nsetools import Nse\n",
        "from pprint import pprint # just for neatness of display\n",
        "nse = Nse()\n",
        "print (nse)\n",
        "#Driver Class for National Stock Exchange (NSE)\n",
        "q = nse.get_quote('infy') # it's ok to use both upper or lower case for codes.\n",
        "pprint(q)"
      ],
      "execution_count": null,
      "outputs": []
    },
    {
      "cell_type": "code",
      "metadata": {
        "id": "3rgFarplQkfR",
        "colab_type": "code",
        "colab": {}
      },
      "source": [
        "pip install nsetools"
      ],
      "execution_count": null,
      "outputs": []
    },
    {
      "cell_type": "code",
      "metadata": {
        "id": "TpCa4rxbg1lP",
        "colab_type": "code",
        "colab": {}
      },
      "source": [
        ""
      ],
      "execution_count": null,
      "outputs": []
    },
    {
      "cell_type": "markdown",
      "metadata": {
        "id": "zKwZG2hlmvyD",
        "colab_type": "text"
      },
      "source": [
        "#################################################\n",
        "#Kini's Out of control Strategy Stocks and FOREX#\n",
        "#################################################\n",
        "SELECT symbol, open, high, low, close, bhavcopydate, tottrdqty,deliverable, deliverable_percent\n",
        "  FROM bhavcopy \n",
        "  where bhavcopydate >= date_sub(curdate(),interval 10 day)\n",
        "  and close between 150 and 1000\n",
        "  and symbol not in (select symbol from banned_symbols)\n",
        " \n",
        "  SELECT symbol, max(high), min(low), stddev(high-low) stddev,avg((high-low)/open) as VFM, \n",
        "  avg(high-low),(avg(high-low)+stddev(high-low)) UCL, high-low, (avg(high-low)-stddev(high-low)) LCL\n",
        "  FROM bhavcopy\n",
        "  where bhavcopydate >= date_sub(curdate(),interval 10 day)\n",
        "  #and symbol='ASAHISONG'\n",
        "  group by symbol;\n",
        "##################################################\n",
        "#Kini's Out of control Strategy Forex #\n",
        "SELECT symbol, open, high, low, close, exp_date, open_int, trd_qty, bhavcopydate\n",
        "  FROM forex\n",
        "  where bhavcopydate >= curdate()-10\n",
        "  and exp_date between '2020-08-01' and '2020-09-01'\n",
        "\n",
        "SELECT symbol, open high, low, close, bhavcopydate, stddev(high-low) stddev, variance(high-low) var, avg(high-low),(avg(high-low)+stddev(high-low)) UCL, high-low, (avg(high-low)-stddev(high-low)) LCL\n",
        "  FROM forex \n",
        "  where bhavcopydate >= curdate()-10\n",
        "  group by symbol\n",
        "##################################################  \n",
        "\n",
        "\n",
        "#############################################\n",
        "#max upside or downside potential of a stock#\n",
        "#############################################\n",
        "SELECT symbol,AVG(uspot_array.uspot) as median_upside_potential_percent\n",
        "FROM (\n",
        "SELECT symbol,(high-open) as uspot, @rownum:=@rownum+1 as `row_number`, @total_rows:=@rownum\n",
        "  FROM bhavcopy , (SELECT @rownum:=0) r\n",
        "  WHERE symbol = 'geship'\n",
        "  and \n",
        "  bhavcopydate >= date_sub(curdate(),interval 7 day)\n",
        "  ORDER BY uspot\n",
        ") as uspot_array\n",
        "WHERE uspot_array.row_number IN ( FLOOR((@total_rows+1)/2), FLOOR((@total_rows+2)/2) )\n",
        "\n",
        "SELECT symbol,AVG(dspot_array.dspot) as median_downside_potential_percent\n",
        "FROM (\n",
        "SELECT symbol,(low-open) as dspot, @rownum:=@rownum+1 as `row_number`, @total_rows:=@rownum\n",
        "  FROM bhavcopy , (SELECT @rownum:=0) r\n",
        "  WHERE symbol='geship'\n",
        "  and bhavcopydate >= date_sub(curdate(),interval 7 day)\n",
        "  ORDER BY dspot\n",
        ") as dspot_array\n",
        "WHERE dspot_array.row_number IN ( FLOOR((@total_rows+1)/2), FLOOR((@total_rows+2)/2) );\n",
        "\n",
        "#############################################\n",
        "#max upside or downside potential of forex#\n",
        "#############################################\n",
        "SELECT symbol,AVG(uspot_array.uspot) as median_upside_potential_in_Paisa\n",
        "FROM (\n",
        "SELECT symbol,(high-open) as uspot, @rownum:=@rownum+1 as `row_number`, @total_rows:=@rownum\n",
        "  FROM forex , (SELECT @rownum:=0) r\n",
        "  WHERE symbol='EURINR' and exp_date between '2020-08-01' and '2020-09-01'\n",
        "  and bhavcopydate >= date_sub(curdate(),interval 7 day)\n",
        "  ORDER BY uspot\n",
        ") as uspot_array\n",
        "WHERE uspot_array.row_number IN ( FLOOR((@total_rows+1)/2), FLOOR((@total_rows+2)/2) );\n",
        "\n",
        "SELECT symbol,AVG(dspot_array.dspot) as median_downside_potential_in_Paisa\n",
        "FROM (\n",
        "SELECT symbol,(low-open) as dspot, @rownum:=@rownum+1 as `row_number`, @total_rows:=@rownum\n",
        "  FROM forex , (SELECT @rownum:=0) r\n",
        "  WHERE symbol='EURINR'  and exp_date between '2020-08-01' and '2020-09-01'\n",
        "  and bhavcopydate >= date_sub(curdate(),interval 7 day)\n",
        "  ORDER BY dspot\n",
        ") as dspot_array\n",
        "WHERE dspot_array.row_number IN ( FLOOR((@total_rows+1)/2), FLOOR((@total_rows+2)/2) );\n",
        "\n",
        "#############################################\n",
        "# volume growth                              #\n",
        "#############################################\n",
        "select symbol,bhavcopydate,\n",
        "    if(@last_entry = 0, 0, round(((tottrdqty - @last_entry) / @last_entry) * 100,2)) \"growth rate\",\n",
        "    @last_entry := tottrdqty\n",
        "    from\n",
        "    (select @last_entry := 0) x,\n",
        "    (select symbol,tottrdqty, bhavcopydate,deliverable_percent\n",
        "    from bhavcopy\n",
        "    where bhavcopydate >=curdate()-7\n",
        "    and symbol='tatachem'\n",
        "    group by bhavcopydate) y;\n",
        "\n",
        "select symbol,bhavcopydate,\n",
        "    if(@last_entry = 0, 0, round(((trd_qty - @last_entry) / @last_entry) * 100,2)) \"growth rate\",\n",
        "    @last_entry := trd_qty\n",
        "    from\n",
        "    (select @last_entry := 0) x,\n",
        "    (select symbol,trd_qty, bhavcopydate\n",
        "    from forex\n",
        "    where bhavcopydate >=curdate()-34\n",
        "    and exp_date between '2020-08-01' and '2020-09-01'\n",
        "    and symbol='GBPINR'\n",
        "    group by bhavcopydate) y;\n",
        "\n",
        "###########################################################  \n",
        "# most volatile stocks in the database in the last 10 days#\n",
        "###########################################################\n",
        "SELECT symbol,CLOSE,`bhavcopydate`, VARIANCE(high-low) var \n",
        "  FROM bhavcopy \n",
        "  where `tottrdqty`> '1000000' and CLOSE between 150 and 500\n",
        "  and `bhavcopydate` >= date_sub(curdate(),interval 10 day)\n",
        "  GROUP BY symbol  \n",
        "ORDER BY `var`  DESC\n",
        "\n",
        "#######################################################################\n",
        "#Max High and low in the last 5 trading sessions , they are KEY levels#\n",
        "#######################################################################\n",
        "\n",
        "select symbol, max(high), min(low) from bhavcopy\n",
        "where bhavcopydate >= date_sub(curdate(),interval 7 day)\n",
        "and symbol in ('PETRONET','GSPL','SBIN','TVSMOTOR','RBLBANK','TATASTEEL')\n",
        "group by symbol"
      ]
    },
    {
      "cell_type": "code",
      "metadata": {
        "id": "E5_XYgsBbVhQ",
        "colab_type": "code",
        "colab": {}
      },
      "source": [
        "#empty Folder\n",
        "import pandas as pd\n",
        "import glob, os,io\n",
        "\n",
        "base = '/content/drive/My Drive/algotrade/2020'\n",
        "for CleanUp in glob.glob(base+'/Futures/*.*'): # list out the files\n",
        "#  os.remove(CleanUp) #remove files in the folder"
      ],
      "execution_count": 7,
      "outputs": []
    },
    {
      "cell_type": "code",
      "metadata": {
        "id": "HmbO7G5mnOrJ",
        "colab_type": "code",
        "colab": {}
      },
      "source": [
        ""
      ],
      "execution_count": null,
      "outputs": []
    },
    {
      "cell_type": "code",
      "metadata": {
        "id": "TYFOTK0Ez2gF",
        "colab_type": "code",
        "colab": {}
      },
      "source": [
        ""
      ],
      "execution_count": null,
      "outputs": []
    }
  ]
}