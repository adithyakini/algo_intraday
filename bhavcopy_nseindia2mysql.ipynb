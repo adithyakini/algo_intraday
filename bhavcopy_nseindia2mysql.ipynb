{
  "nbformat": 4,
  "nbformat_minor": 0,
  "metadata": {
    "colab": {
      "name": "bhavcopy_nseindia2mysql.ipynb",
      "provenance": [],
      "collapsed_sections": [
        "Yf5Rhj6iD_I4"
      ],
      "mount_file_id": "1wpeVd-eds_hCQW83PZg9epPy9KzIGStl",
      "authorship_tag": "ABX9TyPtJ+L7EFJVaH4EvLI0FIHI",
      "include_colab_link": true
    },
    "kernelspec": {
      "name": "python3",
      "display_name": "Python 3"
    }
  },
  "cells": [
    {
      "cell_type": "markdown",
      "metadata": {
        "id": "view-in-github",
        "colab_type": "text"
      },
      "source": [
        "<a href=\"https://colab.research.google.com/github/adithyakini/algo_intraday/blob/master/bhavcopy_nseindia2mysql.ipynb\" target=\"_parent\"><img src=\"https://colab.research.google.com/assets/colab-badge.svg\" alt=\"Open In Colab\"/></a>"
      ]
    },
    {
      "cell_type": "code",
      "metadata": {
        "id": "uGXTBbodmqb-",
        "colab": {
          "base_uri": "https://localhost:8080/"
        },
        "outputId": "dc7fd3f7-0bd5-47c8-a89e-784a4dc21f4d"
      },
      "source": [
        "pip install mysql.connector"
      ],
      "execution_count": null,
      "outputs": [
        {
          "output_type": "stream",
          "name": "stdout",
          "text": [
            "Collecting mysql.connector\n",
            "  Downloading mysql-connector-2.2.9.tar.gz (11.9 MB)\n",
            "\u001b[K     |████████████████████████████████| 11.9 MB 30.2 MB/s \n",
            "\u001b[?25hBuilding wheels for collected packages: mysql.connector\n",
            "  Building wheel for mysql.connector (setup.py) ... \u001b[?25l\u001b[?25hdone\n",
            "  Created wheel for mysql.connector: filename=mysql_connector-2.2.9-cp37-cp37m-linux_x86_64.whl size=247965 sha256=1ded07b85895d3e0bec9f457e7587430f26d63c2c2520f94e6a2be5f36f89709\n",
            "  Stored in directory: /root/.cache/pip/wheels/42/2f/c3/692fc7fc1f0d8c06b9175d94f0fc30f4f92348f5df5af1b8b7\n",
            "Successfully built mysql.connector\n",
            "Installing collected packages: mysql.connector\n",
            "Successfully installed mysql.connector-2.2.9\n"
          ]
        }
      ]
    },
    {
      "cell_type": "code",
      "metadata": {
        "id": "uCQ7pBunZZyl",
        "colab": {
          "base_uri": "https://localhost:8080/"
        },
        "outputId": "df2f2a95-295d-477d-884e-1d680bcc3a87"
      },
      "source": [
        "# STOCKS+FOREX+FUTURES\n",
        "import requests, zipfile, os, io, pandas as pd\n",
        "from datetime import datetime\n",
        "from dateutil.relativedelta import relativedelta\n",
        "import mysql.connector\n",
        "from mysql.connector import Error\n",
        "import csv\n",
        "import glob\n",
        "import re\n",
        "from progressbar import ProgressBar\n",
        "from termcolor import colored, cprint\n",
        "import time\n",
        "\n",
        "#https://honingds.com/blog/pandas-read_csv/#indexcol\n",
        "\n",
        "#set the path to where the bhavcopies will be downloaded\n",
        "# holiday list https://www.nseindia.com/products-services/currency-derivatives-timings-holidays\n",
        "base = '/content/drive/My Drive/algotrade/'\n",
        "today = datetime.today().date()\n",
        "dmonth={'01':'JAN','02':'FEB','03':'MAR','04':'APR','05':'MAY','06':'JUN','07':'JUL','08':'AUG','09':'SEP','10':'OCT','11':'NOV','12':'DEC'}\n",
        "holiday = ['2021-01-26','2021-02-19','2021-03-11','2021-03-29','2021-04-01','2021-04-02','2021-04-13','2021-04-14','2021-04-21','2021-05-13','2021-05-26','2021-07-21','2021-08-16','2021-08-19','2021-09-10','2021-10-15','2021-10-19','2021-11-05','2021-11-19']\n",
        "# Before running this script , file called bhavcopy_date.txt need to be present in the \"base\" path.\n",
        "# Opening file named bhavcopy_date.txt , it keeps track of the last downloaded date.\n",
        "ltdl = open(base+'bhavcopy_date.txt','r')\n",
        "lastdt = ltdl.read(10)\n",
        "ltdl.close()\n",
        "lastdt = datetime.strptime(lastdt,'%Y-%m-%d')\n",
        "diff, wr = today-lastdt.date(), ''\n",
        "\n",
        "for i in range(1,diff.days+1): #loop through all dates from the last date mentioned in the bhavcopy_date file until today.\n",
        "  nextdt = lastdt+ relativedelta(days=i) #calculate the next day value\n",
        "  #check if the date is a weekend or market holiday so that we can remove that from the loop , bhavcopies are not available for weekends.\n",
        "  if (nextdt.weekday() == 5 or nextdt.weekday() == 6):\n",
        "    cprint (nextdt.strftime('%Y-%m-%d')+' is a weekend','grey')\n",
        "  elif nextdt.strftime('%Y-%m-%d') in holiday:\n",
        "    cprint (nextdt.strftime('%Y-%m-%d')+' is a Market Holiday','grey')\n",
        "  else:\n",
        "    d, m, y = '%02d' % nextdt.day, '%02d' % nextdt.month, '%02d' % nextdt.year #extract day , month and year from  he date\n",
        "    zpath = base+y+'/'+d+'.zip'\n",
        "    if not os.path.isdir(base+y):#if there is no directory already present at the path with the year as a folder then create it\n",
        "      os.mkdir(base+y)\n",
        "      os.mkdir(base+y+'/Index')\n",
        "      os.mkdir(base+y+'/Futures')\n",
        "      os.mkdir(base+y+'/Forex')\n",
        "      os.mkdir(base+y+'/bhavcopy')\n",
        "    equities_bhavcopy=requests.get('https://archives.nseindia.com/products/content/sec_bhavdata_full_'+d+m+y+'.csv', timeout=10)\n",
        "    if equities_bhavcopy.status_code==200:#if the connection is successful\n",
        "      open('sec_bhavdata_full_'+d+m+y+'.csv', 'wb').write(equities_bhavcopy.content)\n",
        "      #reading and storing in disctionary because we need 2 columns from the MTO file deliverable and %deliverable which is not found in the bhavcopy.\n",
        "      f, deldict = pd.read_csv('sec_bhavdata_full_'+d+m+y+'.csv'), {}  #reading the raw dl-ed bhav file\n",
        "      def trim(dataset): #Definition for strippping whitespace\n",
        "              trim = lambda x: x.strip() if type(x) is str else x\n",
        "              return dataset.applymap(trim)\n",
        "      f = trim(pd.read_csv('sec_bhavdata_full_'+d+m+y+'.csv'))  #reading the raw dl-ed file and trimming the trailing spaces with trim()\n",
        "      f = f[f[' SERIES'] == 'EQ'] #retaining only EQ rows and leaving out bonds,options etc\n",
        "      #cprint('cm'+d+dmonth[m]+y+'bhav.csv.zip download...SUCCESS', 'red', attrs=['blink'])\n",
        "      print('sec_bhavdata_full_'+d+m+y+'.csv download...SUCCESS')\n",
        "      #write a new csv, bhavcopydate as a column in the csv and get rid of the downloaded file\n",
        "      f['BHAVCOPYDATE'] = pd.Series(str(nextdt.date().strftime('%Y-%m-%d')) for _ in range(len(f))) #add a column called bhavcopydate and then fill it with the bhavecopy date\n",
        "      f = f[['SYMBOL', 'BHAVCOPYDATE', ' OPEN_PRICE', ' HIGH_PRICE', ' LOW_PRICE', ' CLOSE_PRICE', ' TTL_TRD_QNTY', ' NO_OF_TRADES',' DELIV_QTY',' DELIV_PER']]\n",
        "      f = f.rename(columns={'SYMBOL':'SYMBOL', ' OPEN_PRICE':'OPEN', ' HIGH_PRICE':'HIGH', ' LOW_PRICE':'LOW', ' TTL_TRD_QNTY':'TOTTRDQTY', ' NO_OF_TRADES':'NO_OF_TRADES',' DELIV_QTY':'DELIV_QTY',' DELIV_PER':'DELIV_PER'}) #rename some of the columns to something that is easier to underastand\n",
        "      f.to_csv(base+y+'/bhavcopy/'+str(nextdt.date())+'.csv', index=False)\n",
        "          \n",
        "      ######################################################################################\n",
        "      # connect to MySQL db in https://johnny.heliohost.org:2083/ UN \n",
        "      # pip install pip install mysql-connector --target=$nb_path pip install mysql-connector\n",
        "      # https://pynative.com/python-mysql-database-connection/\n",
        "      d, m, y = '%02d' % nextdt.day, '%02d' % nextdt.month, '%02d' % nextdt.year\n",
        "      #check if the path exist and connect to cloud mysql \n",
        "      #if os.path.exists(base+y):\n",
        "      try:\n",
        "        connection = mysql.connector.connect(host='remotemysql.com',\n",
        "                                            database='7FUybt81z6',\n",
        "                                            user='7FUybt81z6',\n",
        "                                            password='cvn1KKOijU')\n",
        "        \n",
        "        db_Info = connection.get_server_info()\n",
        "        print(\"\\nConnected to MySQL Server - version\", db_Info)\n",
        "        cursor = connection.cursor()\n",
        "        cursor.execute(\"select database();\")\n",
        "        record = cursor.fetchone()\n",
        "        print(\"\\nIngesting EQUITIES bhavcopy \"+'/'+y+'-'+m+'-'+d+'.csv'+\" into DB....:\", record)\n",
        "        cursor.fast_executemany = True\n",
        "        with open(base+y+'/bhavcopy/'+y+'-'+m+'-'+d+'.csv', newline='',  encoding=\"utf8\") as csvfile:\n",
        "          csvdata = csv.reader(csvfile)\n",
        "          #skip the 1st row as it will be header\n",
        "          next(csvdata)\n",
        "          pbar = ProgressBar()\n",
        "          for row in pbar(list(csvdata)):\n",
        "            # Prepare SQL query to INSERT a record into the database.\n",
        "            sql_stocks = \"INSERT INTO bhavcopy (symbol, bhavcopydate, open, high, low, close, tottrdqty, no_of_trades, delivery, delivery_percent) \\\n",
        "            VALUES ('%s', '%s','%s', '%s','%s', '%s', '%s', '%s','%s','%s');\" % (row[0], row[1], row[2], row[3], row[4], row[5], row[6], row[7], row[8], row[9])\n",
        "            #print(sql)\n",
        "            try:\n",
        "              #Execute the SQL command\n",
        "              cursor.execute(sql_stocks)\n",
        "              #Commit your changes in the database\n",
        "              connection.commit()\n",
        "            except Error as e:\n",
        "              cprint('-------------------------------','red')\n",
        "              print(\"Error while connecting to MySQL\", e)\n",
        "              cprint('-------------------------------','red')\n",
        "              connection.rollback()\n",
        "              #pbar.next()\n",
        "              pbar.finish()\n",
        "              break\n",
        "      except Error as e:\n",
        "        cprint('-------------------------------','red')\n",
        "        print(\"Error while connecting to MySQL\", e)\n",
        "        cprint('-------------------------------','red')\n",
        "        break\n",
        "      finally:\n",
        "        if (connection.is_connected()):\n",
        "          cursor.close()\n",
        "          connection.close()\n",
        "\n",
        "\n",
        "\n",
        "\n",
        "    #now lets work with the FOREX\n",
        "    for i in range(2): #try to connect to the nseindia url to download the bhavcopy , 3 times , just incase website does not respond etc.\n",
        "      #while True:\n",
        "      try:\n",
        "        headers = {'User-Agent': 'Mozilla/5.0 (Macintosh; Intel Mac OS X 10_13_6) AppleWebKit/537.36 (KHTML, like Gecko) Chrome/68.0.3440.106 Safari/537.36',}#Sometimes requests from requests.get() gets blocked by server, so solution is to make the server think the request is coming from a web browser\n",
        "        forex = requests.get('https://archives.nseindia.com/archives/cd/mkt_act/cd'+d+m+y+'.zip', headers=headers, timeout=5) #get the zip file from nseindia\n",
        "      except requests.exceptions.Timeout as error:\n",
        "        cprint('ERROR!!! 404 filenotfound cd'+d+m+y+'.zip..skipping','red')\n",
        "        break\n",
        "      except requests.ConnectionError:\n",
        "        cprint('No connection.. retrying','red')\n",
        "        break\n",
        "    if forex.status_code==200:\n",
        "        fx=open(zpath, 'wb') #open the zip file under a temp location called zpath that is defined above\n",
        "        fx.write(forex.content)\n",
        "        fx.close()\n",
        "        z, wr = zipfile.ZipFile(zpath,'r'), nextdt.date()\n",
        "        z.extractall(base+y+'/Forex') #extract the contents of the zip file to a location called forex , it extracts some 6 csv files we want only 1\n",
        "        z.close()\n",
        "        os.remove(zpath) #remove the zip file\n",
        "        if os.path.exists(base+y+'/Forex/cf'+d+m+y+'.csv'):\n",
        "          def trim(dataset): #Definition for strippping whitespace\n",
        "              trim = lambda x: x.strip() if type(x) is str else x\n",
        "              return dataset.applymap(trim)\n",
        "          # making dataframe from csv file\n",
        "          data = trim(pd.read_csv(base+y+'/Forex/cf'+d+m+y+'.csv'))  #reading the raw dl-ed file and trimming the trailing spaces with trim()\n",
        "          data = data[data['INSTRUMENT'] == 'FUTCUR'] #retaining only FUTCUR rows and leaving out other rows\n",
        "          data[['INSTRUMENT', 'SYMBOL    ', 'EXP_DATE  ', 'OPEN_PRICE ', 'HI_PRICE   ', 'LO_PRICE   ', 'CLOSE_PRICE','OPEN_INT*      ','TRD_VAL           ','TRD_QTY          ','NO_OF_CONT       ','NO_OF_TRADE      ']]#the useless file has spaces in the heading.\n",
        "          data = data.rename(columns={'SYMBOL    ':'SYMBOL', 'EXP_DATE  ':'EXP_DATE', 'OPEN_PRICE ':'OPEN', 'HI_PRICE   ':'HIGH', 'LO_PRICE   ':'LOW', 'CLOSE_PRICE':'CLOSE','OPEN_INT*      ':'OPEN_INT','TRD_VAL           ':'TRD_VAL','TRD_QTY          ':'TRD_QTY','NO_OF_CONT       ':'NO_OF_CONT','NO_OF_TRADE      ':'NO_OF_TRADE'}) #rename some of the columns to something that is easier to underastand\n",
        "          data['BHAVCOPYDATE'] = pd.Series(str(nextdt.date().strftime('%Y-%m-%d')) for _ in range(len(data))) #add a column called bhavcopydate and then fill it with the bhavecopy date\n",
        "          data['EXP_DATE'] = pd.to_datetime(data['EXP_DATE'], format = '%d/%m/%Y') #the exp_date column is in format dd/mm/yyy convert it to yyyy-mm-dd\n",
        "          data.to_csv(base+y+'/Forex/'+ str(nextdt.date())+'_forex.csv', index=False) #write the changes above to a new file and add an _forex to the csv file\n",
        "          os.remove(base+y+'/Forex/cf'+d+m+y+'.csv')\n",
        "          print('Forex bhavcopy '+ str(nextdt.date())+'_forex.csv create...SUCCESS')\n",
        "          #print(data)\n",
        "          #cleanup all the useless files that get extracted from the currency futures bhavcopy\n",
        "          for CleanUp in glob.glob(base+y+'/Forex/*.*'): # list out the files\n",
        "            if not re.match(\".+forex+\",CleanUp): #if the list found above contains \"forex\" then dont do anything, else delete\n",
        "              os.remove(CleanUp) #remove files in the folder\n",
        "            \n",
        "          try:\n",
        "            connection = mysql.connector.connect(host='remotemysql.com',\n",
        "                                            database='7FUybt81z6',\n",
        "                                            user='7FUybt81z6',\n",
        "                                            password='cvn1KKOijU')\n",
        "            \n",
        "            db_Info = connection.get_server_info()\n",
        "            print(\"\\nConnected to MySQL Server version\", db_Info)\n",
        "            #print(\">>>>>>>>>>>>>>>\\n\")\n",
        "            cursor = connection.cursor()\n",
        "            cursor.execute(\"select database();\")\n",
        "            record = cursor.fetchone()\n",
        "            print(\"\\nIngesting FOREX bhavcopy \"+'/'+y+'-'+m+'-'+d+'_forex.csv'+\" into DB....:\", record)\n",
        "            #print(\">>>>>>>>>>>>>>>\\n\")\n",
        "            cursor.fast_executemany = True\n",
        "            with open(base+y+'/Forex/'+ str(nextdt.date())+'_forex.csv', newline='',  encoding=\"utf8\") as csvfile_forex:\n",
        "              csvdata_forex = csv.reader(csvfile_forex)\n",
        "              #skip the 1st row as it will be header\n",
        "              next(csvdata_forex)\n",
        "              pbar = ProgressBar()\n",
        "              for row in pbar(list(csvdata_forex)):\n",
        "              #Prepare SQL query to INSERT a record into the database.\n",
        "                sql_forex = \"INSERT INTO forex (symbol, exp_date, open, high, low, close, open_int, trd_val, trd_qty, no_of_cont, no_of_trade, bhavcopydate) \\\n",
        "                VALUES ('%s','%s','%s', '%s','%s', '%s', '%s', '%s','%s','%s', '%s','%s');\" % (row[1], row[2], row[3], row[4], row[5], row[6], row[7], row[8], row[9], row[10], row[11], row[12])\n",
        "                try:\n",
        "                  #Execute the SQL command\n",
        "                  cursor.execute(sql_forex)\n",
        "                  #Commit your changes in the database\n",
        "                  connection.commit()\n",
        "                except Error as e:\n",
        "                  cprint('-------------------------------','red')\n",
        "                  print(\"Error while connecting to MySQL\", e)\n",
        "                  cprint('-------------------------------','red')\n",
        "                  connection.rollback()\n",
        "                  #pbar.next()\n",
        "                  pbar.finish()\n",
        "                  break\n",
        "          except Error as e:\n",
        "            cprint('-------------------------------','red')\n",
        "            print(\"Error while connecting to MySQL\", e)\n",
        "            cprint('-------------------------------','red')\n",
        "            break\n",
        "         # finally:\n",
        "        #  # create cursor\n",
        "        #    cursor=connection.cursor()\n",
        "        #    csvfile = requests.get('https://docs.google.com/spreadsheets/d/1ZTyh6GiHTwA1d-ApYdn5iCmRiBLZoAtwigS7VyLUk_Y/edit#gid=0')\n",
        "        #    print(csvfile.status_code)\n",
        "        #    print('Updating Banned Symbols table')\n",
        "            # Insert DataFrame recrds one by one.\n",
        "        #    df=pd.read_csv('https://docs.google.com/spreadsheets/d/1ZTyh6GiHTwA1d-ApYdn5iCmRiBLZoAtwigS7VyLUk_Y/export?format=csv&gid=0', usecols=[\"Stocks not allowed for MIS\"])\n",
        "        #    pbar = ProgressBar()\n",
        "            #Prepare SQL query to INSERT a record into the database.\n",
        "        #    if csvfile.status_code != 200:\n",
        "              #truncate banned symbols table\n",
        "        #      sql_truncate_table = \"truncate banned_symbols;\"\n",
        "        #      cursor.execute(sql_truncate_table)\n",
        "        #      connection.commit()\n",
        "        #      time.sleep(10)\n",
        "        #      for i,row in pbar(df.iterrows()):\n",
        "        #        sql_banned_symbols = \"INSERT INTO banned_symbols (symbol) VALUES ('%s');\" % (row[0])\n",
        "        #        try:\n",
        "        #          #Execute the SQL command\n",
        "        #          cursor.execute(sql_banned_symbols)\n",
        "                  #Commit your changes in the database\n",
        "        #          connection.commit()\n",
        "        #        except Error as e:\n",
        "        #          cprint('-------------------------------','red')\n",
        "        #          print(\"Error while connecting to MySQL\", e)\n",
        "        #          cprint('-------------------------------','red')\n",
        "        #          connection.rollback()\n",
        "                  #pbar.next()\n",
        "        #          pbar.finish()\n",
        "        #          break\n",
        "        #          connection.close()\n",
        "\n",
        "\n",
        "\n",
        "\n",
        "    #now lets work with the FUTURES\n",
        "    for i in range(2): #try to connect to the nseindia url to download the bhavcopy , 3 times , just incase website does not respond etc.\n",
        "      #while True:\n",
        "      try:\n",
        "        headers = {'User-Agent': 'Mozilla/5.0 (Macintosh; Intel Mac OS X 10_13_6) AppleWebKit/537.36 (KHTML, like Gecko) Chrome/68.0.3440.106 Safari/537.36',}#Sometimes requests from requests.get() gets blocked by server, so solution is to make the server think the request is coming from a web browser\n",
        "        futures_bhavcopy = requests.get('https://archives.nseindia.com/content/historical/DERIVATIVES/'+y+'/'+dmonth[m]+'/fo'+d+dmonth[m]+y+'bhav.csv.zip', headers=headers, timeout=5) #get the zip file from nseindia\n",
        "      except requests.exceptions.Timeout as error:\n",
        "        cprint('ERROR!!! 404 filenotfound fo'+d+dmonth[m]+y+'bhav.csv.zip..skipping','red')\n",
        "      except requests.ConnectionError:\n",
        "        cprint('No connection.. retrying','red')\n",
        "    if futures_bhavcopy.status_code==200:\n",
        "        dload=open(zpath, 'wb')\n",
        "        dload.write(futures_bhavcopy.content)\n",
        "        dload.close()\n",
        "        #open the downlaoded bhavcopy and extract it\n",
        "        z = zipfile.ZipFile(zpath, 'r')\n",
        "        z.extractall(base+y+'/futures')\n",
        "        z.close()\n",
        "        os.remove(zpath)\n",
        "        #reading and storing in a dictionary\n",
        "        f, deldict = pd.read_csv(base+y+'/futures/fo'+d+dmonth[m]+y+'bhav.csv'), {}  #reading the raw dl-ed bhav file\n",
        "        #cprint('cm'+d+dmonth[m]+y+'bhav.csv.zip download...SUCCESS', 'red', attrs=['blink'])\n",
        "        print('fo'+d+dmonth[m]+y+'bhav.csv.zip download...SUCCESS')\n",
        "        # making dataframe from csv file\n",
        "        if os.path.exists(base+y+'/futures/fo'+d+dmonth[m]+y+'bhav.csv'):\n",
        "          def trim(dataset): #Definition for strippping whitespace\n",
        "              trim = lambda x: x.strip() if type(x) is str else x\n",
        "              return dataset.applymap(trim)\n",
        "          # making dataframe from csv file\n",
        "          data = trim(pd.read_csv(base+y+'/futures/fo'+d+dmonth[m]+y+'bhav.csv'))  #reading the raw dl-ed file and trimming the trailing spaces with trim()\n",
        "          df1 = data[data['INSTRUMENT'] == 'FUTIDX'] #dataframe of only FUTIDX rows\n",
        "          df2 = data[data['INSTRUMENT'] == 'FUTSTK'] #dataframe of only FUTSTK rows\n",
        "          data = pd.concat([df1,df2]) #concatennating the 2 dataframes\n",
        "          data=data[['INSTRUMENT', 'SYMBOL', 'EXPIRY_DT', 'OPEN', 'HIGH', 'LOW', 'CLOSE','SETTLE_PR','CONTRACTS','VAL_INLAKH','OPEN_INT','CHG_IN_OI']]\n",
        "          data['BHAVCOPYDATE'] = pd.Series(str(nextdt.date().strftime('%Y-%m-%d')) for _ in range(len(data))) #add a column called bhavcopydate and then fill it with the bhavecopy date\n",
        "          data['EXPIRY_DT'] = pd.to_datetime(data['EXPIRY_DT'], format = '%d-%b-%Y') #the exp_date column is in format dd/mmm/yyyy convert it to yyyy-mm-dd\n",
        "          data.to_csv(base+y+'/futures/'+ str(nextdt.date())+'_futures.csv', index=False) #write the changes above to a new file and add an _futures to the csv file\n",
        "          os.remove(base+y+'/futures/fo'+d+dmonth[m]+y+'bhav.csv')\n",
        "          print('Futures bhavcopy '+ str(nextdt.date())+'_futures.csv create...SUCCESS')\n",
        "          d, m, y = '%02d' % nextdt.day, '%02d' % nextdt.month, '%02d' % nextdt.year\n",
        "          #check if the path exist and connect to cloud mysql \n",
        "          #if os.path.exists(base+y):\n",
        "          try:\n",
        "            connection = mysql.connector.connect(host='remotemysql.com',\n",
        "                                            database='7FUybt81z6',\n",
        "                                            user='7FUybt81z6',\n",
        "                                            password='cvn1KKOijU')\n",
        "            \n",
        "            db_Info = connection.get_server_info()\n",
        "            print(\"\\nConnected to MySQL Server - version\", db_Info)\n",
        "            cursor = connection.cursor()\n",
        "            cursor.execute(\"select database();\")\n",
        "            record = cursor.fetchone()\n",
        "            print(\"\\nIngesting FUTURES bhavcopy \"+'/'+y+'-'+m+'-'+d+'_futures.csv'+\" into DB....:\", record)\n",
        "            cursor.fast_executemany = True\n",
        "            with open(base+y+'/futures/'+y+'-'+m+'-'+d+'_futures.csv', newline='',  encoding=\"utf8\") as csvfile:\n",
        "              csvdata = csv.reader(csvfile)\n",
        "              #skip the 1st row as it will be header\n",
        "              next(csvdata)\n",
        "              pbar = ProgressBar()\n",
        "              for row in pbar(list(csvdata)):\n",
        "                # Prepare SQL query to INSERT a record into the database.\n",
        "                sql_stocks = \"INSERT INTO futures (instrument,symbol, expiry_dt, open, high, low, close, settle_pr,contracts,val_inlakh,open_int,chg_in_oi,bhavcopydate) \\\n",
        "                VALUES ('%s', '%s','%s', '%s','%s', '%s', '%s', '%s','%s','%s', '%s','%s', '%s');\" % (row[0], row[1], row[2], row[3], row[4], row[5], row[6], row[7], row[8], row[9], row[10], row[11], row[12])\n",
        "                #print(sql)\n",
        "                try:\n",
        "                  #Execute the SQL command\n",
        "                  cursor.execute(sql_stocks)\n",
        "                  #Commit your changes in the database\n",
        "                  connection.commit()\n",
        "                except Error as e:\n",
        "                  cprint('-------------------------------','red')\n",
        "                  print(\"Error while connecting to MySQL\", e)\n",
        "                  cprint('-------------------------------','red')\n",
        "                  connection.rollback()\n",
        "                  #pbar.next()\n",
        "                  pbar.finish()\n",
        "                  break\n",
        "          except Error as e:\n",
        "            cprint('-------------------------------','red')\n",
        "            print(\"Error while connecting to MySQL\", e)\n",
        "            cprint('-------------------------------','red')\n",
        "            break\n",
        "          finally:\n",
        "            if (connection.is_connected()):\n",
        "              cursor.close()\n",
        "              connection.close()\n",
        "if (connection.is_connected()):\n",
        "  cursor.close()\n",
        "  connection.close()\n",
        "cprint(\">>>>>>>>>>>>>>>>>>>>>>>>>>>>>\\nDONE - All imports complete\\n>>>>>>>>>>>>>>>>>>>>>>>>>>>>>\",'green')"
      ],
      "execution_count": null,
      "outputs": [
        {
          "output_type": "stream",
          "name": "stdout",
          "text": [
            "\u001b[30m2021-10-02 is a weekend\u001b[0m\n",
            "\u001b[30m2021-10-03 is a weekend\u001b[0m\n",
            "sec_bhavdata_full_04102021.csv download...SUCCESS\n",
            "\n",
            "Connected to MySQL Server - version 8.0.13-4\n"
          ]
        },
        {
          "output_type": "stream",
          "name": "stderr",
          "text": [
            "  0% (1 of 1544) |                       | Elapsed Time: 0:00:00 ETA:   0:04:46"
          ]
        },
        {
          "output_type": "stream",
          "name": "stdout",
          "text": [
            "\n",
            "Ingesting EQUITIES bhavcopy /2021-10-04.csv into DB....: ('7FUybt81z6',)\n"
          ]
        },
        {
          "output_type": "stream",
          "name": "stderr",
          "text": [
            "100% (1544 of 1544) |####################| Elapsed Time: 0:03:22 Time:  0:03:22\n"
          ]
        },
        {
          "output_type": "stream",
          "name": "stdout",
          "text": [
            "\u001b[31m-------------------------------\u001b[0m\n",
            "Error while connecting to MySQL 1292 (22007): Incorrect date value: '' for column 'bhavcopydate' at row 1\n",
            "\u001b[31m-------------------------------\u001b[0m\n",
            "Forex bhavcopy 2021-10-04_forex.csv create...SUCCESS\n",
            "\n",
            "Connected to MySQL Server version 8.0.13-4\n"
          ]
        },
        {
          "output_type": "stream",
          "name": "stderr",
          "text": [
            "  2% (1 of 44) |                         | Elapsed Time: 0:00:00 ETA:   0:00:07"
          ]
        },
        {
          "output_type": "stream",
          "name": "stdout",
          "text": [
            "\n",
            "Ingesting FOREX bhavcopy /2021-10-04_forex.csv into DB....: ('7FUybt81z6',)\n"
          ]
        },
        {
          "output_type": "stream",
          "name": "stderr",
          "text": [
            "100% (44 of 44) |########################| Elapsed Time: 0:00:07 Time:  0:00:07\n"
          ]
        },
        {
          "output_type": "stream",
          "name": "stdout",
          "text": [
            "fo04OCT2021bhav.csv.zip download...SUCCESS\n",
            "Futures bhavcopy 2021-10-04_futures.csv create...SUCCESS\n",
            "\n",
            "Connected to MySQL Server - version 8.0.13-4\n"
          ]
        },
        {
          "output_type": "stream",
          "name": "stderr",
          "text": [
            "  0% (1 of 556) |                        | Elapsed Time: 0:00:00 ETA:   0:01:35"
          ]
        },
        {
          "output_type": "stream",
          "name": "stdout",
          "text": [
            "\n",
            "Ingesting FUTURES bhavcopy /2021-10-04_futures.csv into DB....: ('7FUybt81z6',)\n"
          ]
        },
        {
          "output_type": "stream",
          "name": "stderr",
          "text": [
            "100% (556 of 556) |######################| Elapsed Time: 0:01:34 Time:  0:01:34\n"
          ]
        },
        {
          "output_type": "stream",
          "name": "stdout",
          "text": [
            "sec_bhavdata_full_05102021.csv download...SUCCESS\n",
            "\n",
            "Connected to MySQL Server - version 8.0.13-4\n"
          ]
        },
        {
          "output_type": "stream",
          "name": "stderr",
          "text": [
            "  0% (1 of 1543) |                       | Elapsed Time: 0:00:00 ETA:   0:04:47"
          ]
        },
        {
          "output_type": "stream",
          "name": "stdout",
          "text": [
            "\n",
            "Ingesting EQUITIES bhavcopy /2021-10-05.csv into DB....: ('7FUybt81z6',)\n"
          ]
        },
        {
          "output_type": "stream",
          "name": "stderr",
          "text": [
            "100% (1543 of 1543) |####################| Elapsed Time: 0:03:17 Time:  0:03:17\n"
          ]
        },
        {
          "output_type": "stream",
          "name": "stdout",
          "text": [
            "\u001b[31m-------------------------------\u001b[0m\n",
            "Error while connecting to MySQL 1292 (22007): Incorrect date value: '' for column 'bhavcopydate' at row 1\n",
            "\u001b[31m-------------------------------\u001b[0m\n",
            "Forex bhavcopy 2021-10-05_forex.csv create...SUCCESS\n",
            "\n",
            "Connected to MySQL Server version 8.0.13-4\n"
          ]
        },
        {
          "output_type": "stream",
          "name": "stderr",
          "text": [
            "  2% (1 of 44) |                         | Elapsed Time: 0:00:00 ETA:   0:00:07"
          ]
        },
        {
          "output_type": "stream",
          "name": "stdout",
          "text": [
            "\n",
            "Ingesting FOREX bhavcopy /2021-10-05_forex.csv into DB....: ('7FUybt81z6',)\n"
          ]
        },
        {
          "output_type": "stream",
          "name": "stderr",
          "text": [
            "100% (44 of 44) |########################| Elapsed Time: 0:00:07 Time:  0:00:07\n"
          ]
        },
        {
          "output_type": "stream",
          "name": "stdout",
          "text": [
            "fo05OCT2021bhav.csv.zip download...SUCCESS\n",
            "Futures bhavcopy 2021-10-05_futures.csv create...SUCCESS\n",
            "\n",
            "Connected to MySQL Server - version 8.0.13-4\n"
          ]
        },
        {
          "output_type": "stream",
          "name": "stderr",
          "text": [
            "  0% (1 of 556) |                        | Elapsed Time: 0:00:00 ETA:   0:01:39"
          ]
        },
        {
          "output_type": "stream",
          "name": "stdout",
          "text": [
            "\n",
            "Ingesting FUTURES bhavcopy /2021-10-05_futures.csv into DB....: ('7FUybt81z6',)\n"
          ]
        },
        {
          "output_type": "stream",
          "name": "stderr",
          "text": [
            "100% (556 of 556) |######################| Elapsed Time: 0:01:35 Time:  0:01:35\n"
          ]
        },
        {
          "output_type": "stream",
          "name": "stdout",
          "text": [
            "sec_bhavdata_full_06102021.csv download...SUCCESS\n",
            "\n",
            "Connected to MySQL Server - version 8.0.13-4\n"
          ]
        },
        {
          "output_type": "stream",
          "name": "stderr",
          "text": [
            "  0% (1 of 1545) |                       | Elapsed Time: 0:00:00 ETA:   0:04:33"
          ]
        },
        {
          "output_type": "stream",
          "name": "stdout",
          "text": [
            "\n",
            "Ingesting EQUITIES bhavcopy /2021-10-06.csv into DB....: ('7FUybt81z6',)\n"
          ]
        },
        {
          "output_type": "stream",
          "name": "stderr",
          "text": [
            "100% (1545 of 1545) |####################| Elapsed Time: 0:03:17 Time:  0:03:17\n"
          ]
        },
        {
          "output_type": "stream",
          "name": "stdout",
          "text": [
            "\u001b[31m-------------------------------\u001b[0m\n",
            "Error while connecting to MySQL 1292 (22007): Incorrect date value: '' for column 'bhavcopydate' at row 1\n",
            "\u001b[31m-------------------------------\u001b[0m\n",
            "Forex bhavcopy 2021-10-06_forex.csv create...SUCCESS\n",
            "\n",
            "Connected to MySQL Server version 8.0.13-4\n"
          ]
        },
        {
          "output_type": "stream",
          "name": "stderr",
          "text": [
            "  2% (1 of 45) |                         | Elapsed Time: 0:00:00 ETA:   0:00:07"
          ]
        },
        {
          "output_type": "stream",
          "name": "stdout",
          "text": [
            "\n",
            "Ingesting FOREX bhavcopy /2021-10-06_forex.csv into DB....: ('7FUybt81z6',)\n"
          ]
        },
        {
          "output_type": "stream",
          "name": "stderr",
          "text": [
            "100% (45 of 45) |########################| Elapsed Time: 0:00:07 Time:  0:00:07\n"
          ]
        },
        {
          "output_type": "stream",
          "name": "stdout",
          "text": [
            "fo06OCT2021bhav.csv.zip download...SUCCESS\n",
            "Futures bhavcopy 2021-10-06_futures.csv create...SUCCESS\n",
            "\n",
            "Connected to MySQL Server - version 8.0.13-4\n"
          ]
        },
        {
          "output_type": "stream",
          "name": "stderr",
          "text": [
            "  0% (1 of 556) |                        | Elapsed Time: 0:00:00 ETA:   0:01:38"
          ]
        },
        {
          "output_type": "stream",
          "name": "stdout",
          "text": [
            "\n",
            "Ingesting FUTURES bhavcopy /2021-10-06_futures.csv into DB....: ('7FUybt81z6',)\n"
          ]
        },
        {
          "output_type": "stream",
          "name": "stderr",
          "text": [
            "100% (556 of 556) |######################| Elapsed Time: 0:01:36 Time:  0:01:36\n"
          ]
        },
        {
          "output_type": "stream",
          "name": "stdout",
          "text": [
            "sec_bhavdata_full_07102021.csv download...SUCCESS\n",
            "\n",
            "Connected to MySQL Server - version 8.0.13-4\n"
          ]
        },
        {
          "output_type": "stream",
          "name": "stderr",
          "text": [
            "  0% (1 of 1545) |                       | Elapsed Time: 0:00:00 ETA:   0:04:35"
          ]
        },
        {
          "output_type": "stream",
          "name": "stdout",
          "text": [
            "\n",
            "Ingesting EQUITIES bhavcopy /2021-10-07.csv into DB....: ('7FUybt81z6',)\n"
          ]
        },
        {
          "output_type": "stream",
          "name": "stderr",
          "text": [
            "100% (1545 of 1545) |####################| Elapsed Time: 0:03:18 Time:  0:03:18\n"
          ]
        },
        {
          "output_type": "stream",
          "name": "stdout",
          "text": [
            "\u001b[31m-------------------------------\u001b[0m\n",
            "Error while connecting to MySQL 1292 (22007): Incorrect date value: '' for column 'bhavcopydate' at row 1\n",
            "\u001b[31m-------------------------------\u001b[0m\n",
            "Forex bhavcopy 2021-10-07_forex.csv create...SUCCESS\n",
            "\n",
            "Connected to MySQL Server version 8.0.13-4\n"
          ]
        },
        {
          "output_type": "stream",
          "name": "stderr",
          "text": [
            "  2% (1 of 44) |                         | Elapsed Time: 0:00:00 ETA:   0:00:07"
          ]
        },
        {
          "output_type": "stream",
          "name": "stdout",
          "text": [
            "\n",
            "Ingesting FOREX bhavcopy /2021-10-07_forex.csv into DB....: ('7FUybt81z6',)\n"
          ]
        },
        {
          "output_type": "stream",
          "name": "stderr",
          "text": [
            "100% (44 of 44) |########################| Elapsed Time: 0:00:07 Time:  0:00:07\n"
          ]
        },
        {
          "output_type": "stream",
          "name": "stdout",
          "text": [
            "fo07OCT2021bhav.csv.zip download...SUCCESS\n",
            "Futures bhavcopy 2021-10-07_futures.csv create...SUCCESS\n",
            "\n",
            "Connected to MySQL Server - version 8.0.13-4\n"
          ]
        },
        {
          "output_type": "stream",
          "name": "stderr",
          "text": [
            "  0% (1 of 556) |                        | Elapsed Time: 0:00:00 ETA:   0:01:36"
          ]
        },
        {
          "output_type": "stream",
          "name": "stdout",
          "text": [
            "\n",
            "Ingesting FUTURES bhavcopy /2021-10-07_futures.csv into DB....: ('7FUybt81z6',)\n"
          ]
        },
        {
          "output_type": "stream",
          "name": "stderr",
          "text": [
            "100% (556 of 556) |######################| Elapsed Time: 0:01:37 Time:  0:01:37\n"
          ]
        },
        {
          "output_type": "stream",
          "name": "stdout",
          "text": [
            "sec_bhavdata_full_08102021.csv download...SUCCESS\n",
            "\n",
            "Connected to MySQL Server - version 8.0.13-4\n"
          ]
        },
        {
          "output_type": "stream",
          "name": "stderr",
          "text": [
            "  0% (1 of 1543) |                       | Elapsed Time: 0:00:00 ETA:   0:04:26"
          ]
        },
        {
          "output_type": "stream",
          "name": "stdout",
          "text": [
            "\n",
            "Ingesting EQUITIES bhavcopy /2021-10-08.csv into DB....: ('7FUybt81z6',)\n"
          ]
        },
        {
          "output_type": "stream",
          "name": "stderr",
          "text": [
            "100% (1543 of 1543) |####################| Elapsed Time: 0:03:15 Time:  0:03:15\n"
          ]
        },
        {
          "output_type": "stream",
          "name": "stdout",
          "text": [
            "\u001b[31m-------------------------------\u001b[0m\n",
            "Error while connecting to MySQL 1292 (22007): Incorrect date value: '' for column 'bhavcopydate' at row 1\n",
            "\u001b[31m-------------------------------\u001b[0m\n",
            "Forex bhavcopy 2021-10-08_forex.csv create...SUCCESS\n",
            "\n",
            "Connected to MySQL Server version 8.0.13-4\n"
          ]
        },
        {
          "output_type": "stream",
          "name": "stderr",
          "text": [
            "  2% (1 of 41) |                         | Elapsed Time: 0:00:00 ETA:   0:00:07"
          ]
        },
        {
          "output_type": "stream",
          "name": "stdout",
          "text": [
            "\n",
            "Ingesting FOREX bhavcopy /2021-10-08_forex.csv into DB....: ('7FUybt81z6',)\n"
          ]
        },
        {
          "output_type": "stream",
          "name": "stderr",
          "text": [
            "100% (41 of 41) |########################| Elapsed Time: 0:00:06 Time:  0:00:06\n"
          ]
        },
        {
          "output_type": "stream",
          "name": "stdout",
          "text": [
            "fo08OCT2021bhav.csv.zip download...SUCCESS\n",
            "Futures bhavcopy 2021-10-08_futures.csv create...SUCCESS\n",
            "\n",
            "Connected to MySQL Server - version 8.0.13-4\n"
          ]
        },
        {
          "output_type": "stream",
          "name": "stderr",
          "text": [
            "  0% (1 of 556) |                        | Elapsed Time: 0:00:00 ETA:   0:01:37"
          ]
        },
        {
          "output_type": "stream",
          "name": "stdout",
          "text": [
            "\n",
            "Ingesting FUTURES bhavcopy /2021-10-08_futures.csv into DB....: ('7FUybt81z6',)\n"
          ]
        },
        {
          "output_type": "stream",
          "name": "stderr",
          "text": [
            "100% (556 of 556) |######################| Elapsed Time: 0:01:34 Time:  0:01:34\n"
          ]
        },
        {
          "output_type": "stream",
          "name": "stdout",
          "text": [
            "\u001b[30m2021-10-09 is a weekend\u001b[0m\n",
            "\u001b[30m2021-10-10 is a weekend\u001b[0m\n",
            "sec_bhavdata_full_11102021.csv download...SUCCESS\n",
            "\n",
            "Connected to MySQL Server - version 8.0.13-4\n"
          ]
        },
        {
          "output_type": "stream",
          "name": "stderr",
          "text": [
            "  0% (1 of 1554) |                       | Elapsed Time: 0:00:00 ETA:   0:04:25"
          ]
        },
        {
          "output_type": "stream",
          "name": "stdout",
          "text": [
            "\n",
            "Ingesting EQUITIES bhavcopy /2021-10-11.csv into DB....: ('7FUybt81z6',)\n"
          ]
        },
        {
          "output_type": "stream",
          "name": "stderr",
          "text": [
            "100% (1554 of 1554) |####################| Elapsed Time: 0:03:17 Time:  0:03:17\n"
          ]
        },
        {
          "output_type": "stream",
          "name": "stdout",
          "text": [
            "\u001b[31m-------------------------------\u001b[0m\n",
            "Error while connecting to MySQL 1292 (22007): Incorrect date value: '' for column 'bhavcopydate' at row 1\n",
            "\u001b[31m-------------------------------\u001b[0m\n",
            "Forex bhavcopy 2021-10-11_forex.csv create...SUCCESS\n",
            "\n",
            "Connected to MySQL Server version 8.0.13-4\n"
          ]
        },
        {
          "output_type": "stream",
          "name": "stderr",
          "text": [
            "  2% (1 of 48) |                         | Elapsed Time: 0:00:00 ETA:   0:00:08"
          ]
        },
        {
          "output_type": "stream",
          "name": "stdout",
          "text": [
            "\n",
            "Ingesting FOREX bhavcopy /2021-10-11_forex.csv into DB....: ('7FUybt81z6',)\n"
          ]
        },
        {
          "output_type": "stream",
          "name": "stderr",
          "text": [
            "100% (48 of 48) |########################| Elapsed Time: 0:00:08 Time:  0:00:08\n"
          ]
        },
        {
          "output_type": "stream",
          "name": "stdout",
          "text": [
            "fo11OCT2021bhav.csv.zip download...SUCCESS\n",
            "Futures bhavcopy 2021-10-11_futures.csv create...SUCCESS\n",
            "\n",
            "Connected to MySQL Server - version 8.0.13-4\n"
          ]
        },
        {
          "output_type": "stream",
          "name": "stderr",
          "text": [
            "  0% (1 of 556) |                        | Elapsed Time: 0:00:00 ETA:   0:01:40"
          ]
        },
        {
          "output_type": "stream",
          "name": "stdout",
          "text": [
            "\n",
            "Ingesting FUTURES bhavcopy /2021-10-11_futures.csv into DB....: ('7FUybt81z6',)\n"
          ]
        },
        {
          "output_type": "stream",
          "name": "stderr",
          "text": [
            "100% (556 of 556) |######################| Elapsed Time: 0:01:40 Time:  0:01:40\n"
          ]
        },
        {
          "output_type": "stream",
          "name": "stdout",
          "text": [
            "sec_bhavdata_full_12102021.csv download...SUCCESS\n",
            "\n",
            "Connected to MySQL Server - version 8.0.13-4\n"
          ]
        },
        {
          "output_type": "stream",
          "name": "stderr",
          "text": [
            "  0% (1 of 1685) |                       | Elapsed Time: 0:00:00 ETA:   0:04:58"
          ]
        },
        {
          "output_type": "stream",
          "name": "stdout",
          "text": [
            "\n",
            "Ingesting EQUITIES bhavcopy /2021-10-12.csv into DB....: ('7FUybt81z6',)\n"
          ]
        },
        {
          "output_type": "stream",
          "name": "stderr",
          "text": [
            "100% (1685 of 1685) |####################| Elapsed Time: 0:04:02 Time:  0:04:02\n"
          ]
        },
        {
          "output_type": "stream",
          "name": "stdout",
          "text": [
            "\u001b[31m-------------------------------\u001b[0m\n",
            "Error while connecting to MySQL 1292 (22007): Incorrect date value: '' for column 'bhavcopydate' at row 1\n",
            "\u001b[31m-------------------------------\u001b[0m\n",
            "Forex bhavcopy 2021-10-12_forex.csv create...SUCCESS\n",
            "\n",
            "Connected to MySQL Server version 8.0.13-4\n"
          ]
        },
        {
          "output_type": "stream",
          "name": "stderr",
          "text": [
            "  1% (1 of 51) |                         | Elapsed Time: 0:00:00 ETA:   0:00:09"
          ]
        },
        {
          "output_type": "stream",
          "name": "stdout",
          "text": [
            "\n",
            "Ingesting FOREX bhavcopy /2021-10-12_forex.csv into DB....: ('7FUybt81z6',)\n"
          ]
        },
        {
          "output_type": "stream",
          "name": "stderr",
          "text": [
            "100% (51 of 51) |########################| Elapsed Time: 0:00:09 Time:  0:00:09\n"
          ]
        },
        {
          "output_type": "stream",
          "name": "stdout",
          "text": [
            "fo12OCT2021bhav.csv.zip download...SUCCESS\n",
            "Futures bhavcopy 2021-10-12_futures.csv create...SUCCESS\n",
            "\n",
            "Connected to MySQL Server - version 8.0.13-4\n"
          ]
        },
        {
          "output_type": "stream",
          "name": "stderr",
          "text": [
            "  0% (1 of 556) |                        | Elapsed Time: 0:00:00 ETA:   0:01:34"
          ]
        },
        {
          "output_type": "stream",
          "name": "stdout",
          "text": [
            "\n",
            "Ingesting FUTURES bhavcopy /2021-10-12_futures.csv into DB....: ('7FUybt81z6',)\n"
          ]
        },
        {
          "output_type": "stream",
          "name": "stderr",
          "text": [
            "100% (556 of 556) |######################| Elapsed Time: 0:01:35 Time:  0:01:35\n"
          ]
        },
        {
          "output_type": "stream",
          "name": "stdout",
          "text": [
            "sec_bhavdata_full_13102021.csv download...SUCCESS\n",
            "\n",
            "Connected to MySQL Server - version 8.0.13-4\n"
          ]
        },
        {
          "output_type": "stream",
          "name": "stderr",
          "text": [
            "  0% (1 of 1685) |                       | Elapsed Time: 0:00:00 ETA:   0:04:58"
          ]
        },
        {
          "output_type": "stream",
          "name": "stdout",
          "text": [
            "\n",
            "Ingesting EQUITIES bhavcopy /2021-10-13.csv into DB....: ('7FUybt81z6',)\n"
          ]
        },
        {
          "output_type": "stream",
          "name": "stderr",
          "text": [
            "100% (1685 of 1685) |####################| Elapsed Time: 0:03:49 Time:  0:03:49\n"
          ]
        },
        {
          "output_type": "stream",
          "name": "stdout",
          "text": [
            "\u001b[31m-------------------------------\u001b[0m\n",
            "Error while connecting to MySQL 1292 (22007): Incorrect date value: '' for column 'bhavcopydate' at row 1\n",
            "\u001b[31m-------------------------------\u001b[0m\n",
            "Forex bhavcopy 2021-10-13_forex.csv create...SUCCESS\n",
            "\n",
            "Connected to MySQL Server version 8.0.13-4\n"
          ]
        },
        {
          "output_type": "stream",
          "name": "stderr",
          "text": [
            "  1% (1 of 53) |                         | Elapsed Time: 0:00:00 ETA:   0:00:09"
          ]
        },
        {
          "output_type": "stream",
          "name": "stdout",
          "text": [
            "\n",
            "Ingesting FOREX bhavcopy /2021-10-13_forex.csv into DB....: ('7FUybt81z6',)\n"
          ]
        },
        {
          "output_type": "stream",
          "name": "stderr",
          "text": [
            "100% (53 of 53) |########################| Elapsed Time: 0:00:08 Time:  0:00:08\n"
          ]
        },
        {
          "output_type": "stream",
          "name": "stdout",
          "text": [
            "fo13OCT2021bhav.csv.zip download...SUCCESS\n",
            "Futures bhavcopy 2021-10-13_futures.csv create...SUCCESS\n",
            "\n",
            "Connected to MySQL Server - version 8.0.13-4\n"
          ]
        },
        {
          "output_type": "stream",
          "name": "stderr",
          "text": [
            "  0% (1 of 556) |                        | Elapsed Time: 0:00:00 ETA:   0:01:41"
          ]
        },
        {
          "output_type": "stream",
          "name": "stdout",
          "text": [
            "\n",
            "Ingesting FUTURES bhavcopy /2021-10-13_futures.csv into DB....: ('7FUybt81z6',)\n"
          ]
        },
        {
          "output_type": "stream",
          "name": "stderr",
          "text": [
            "100% (556 of 556) |######################| Elapsed Time: 0:01:40 Time:  0:01:40\n"
          ]
        },
        {
          "output_type": "stream",
          "name": "stdout",
          "text": [
            "sec_bhavdata_full_14102021.csv download...SUCCESS\n",
            "\n",
            "Connected to MySQL Server - version 8.0.13-4\n"
          ]
        },
        {
          "output_type": "stream",
          "name": "stderr",
          "text": [
            "  0% (1 of 1683) |                       | Elapsed Time: 0:00:00 ETA:   0:04:55"
          ]
        },
        {
          "output_type": "stream",
          "name": "stdout",
          "text": [
            "\n",
            "Ingesting EQUITIES bhavcopy /2021-10-14.csv into DB....: ('7FUybt81z6',)\n"
          ]
        },
        {
          "output_type": "stream",
          "name": "stderr",
          "text": [
            "100% (1683 of 1683) |####################| Elapsed Time: 0:03:48 Time:  0:03:48\n"
          ]
        },
        {
          "output_type": "stream",
          "name": "stdout",
          "text": [
            "\u001b[31m-------------------------------\u001b[0m\n",
            "Error while connecting to MySQL 1292 (22007): Incorrect date value: '' for column 'bhavcopydate' at row 1\n",
            "\u001b[31m-------------------------------\u001b[0m\n",
            "Forex bhavcopy 2021-10-14_forex.csv create...SUCCESS\n",
            "\n",
            "Connected to MySQL Server version 8.0.13-4\n"
          ]
        },
        {
          "output_type": "stream",
          "name": "stderr",
          "text": [
            "  1% (1 of 51) |                         | Elapsed Time: 0:00:00 ETA:   0:00:08"
          ]
        },
        {
          "output_type": "stream",
          "name": "stdout",
          "text": [
            "\n",
            "Ingesting FOREX bhavcopy /2021-10-14_forex.csv into DB....: ('7FUybt81z6',)\n"
          ]
        },
        {
          "output_type": "stream",
          "name": "stderr",
          "text": [
            "100% (51 of 51) |########################| Elapsed Time: 0:00:08 Time:  0:00:08\n"
          ]
        },
        {
          "output_type": "stream",
          "name": "stdout",
          "text": [
            "fo14OCT2021bhav.csv.zip download...SUCCESS\n",
            "Futures bhavcopy 2021-10-14_futures.csv create...SUCCESS\n",
            "\n",
            "Connected to MySQL Server - version 8.0.13-4\n"
          ]
        },
        {
          "output_type": "stream",
          "name": "stderr",
          "text": [
            "  0% (1 of 556) |                        | Elapsed Time: 0:00:00 ETA:   0:01:38"
          ]
        },
        {
          "output_type": "stream",
          "name": "stdout",
          "text": [
            "\n",
            "Ingesting FUTURES bhavcopy /2021-10-14_futures.csv into DB....: ('7FUybt81z6',)\n"
          ]
        },
        {
          "output_type": "stream",
          "name": "stderr",
          "text": [
            "100% (556 of 556) |######################| Elapsed Time: 0:01:37 Time:  0:01:37\n"
          ]
        },
        {
          "output_type": "stream",
          "name": "stdout",
          "text": [
            "\u001b[32m>>>>>>>>>>>>>>>>>>>>>>>>>>>>>\n",
            "DONE - All imports complete\n",
            ">>>>>>>>>>>>>>>>>>>>>>>>>>>>>\u001b[0m\n"
          ]
        }
      ]
    },
    {
      "cell_type": "markdown",
      "metadata": {
        "id": "Yf5Rhj6iD_I4"
      },
      "source": [
        "# New section"
      ]
    },
    {
      "cell_type": "code",
      "metadata": {
        "id": "Cm1fi2ahE6g-",
        "colab": {
          "base_uri": "https://localhost:8080/",
          "height": 130
        },
        "outputId": "f11e7cdc-3a1b-4cd7-fd7b-fc65b502fd74"
      },
      "source": [
        "#STOCKS ONLY\n",
        "import requests, zipfile, os, io, pandas as pd\n",
        "from datetime import datetime\n",
        "from dateutil.relativedelta import relativedelta\n",
        "import mysql.connector\n",
        "from mysql.connector import Error\n",
        "import csv\n",
        "import glob\n",
        "import re\n",
        "from progressbar import ProgressBar\n",
        "from termcolor import colored, cprint\n",
        "import time\n",
        "\n",
        "#https://honingds.com/blog/pandas-read_csv/#indexcol\n",
        "\n",
        "#set the path to where the bhavcopies will be downloaded\n",
        "base = '/content/drive/My Drive/algotrade/'\n",
        "today = datetime.today().date()\n",
        "dmonth={'01':'JAN','02':'FEB','03':'MAR','04':'APR','05':'MAY','06':'JUN','07':'JUL','08':'AUG','09':'SEP','10':'OCT','11':'NOV','12':'DEC'}\n",
        "holiday = ['2021-01-26','2021-02-19','2021-03-11','2021-03-29','2021-04-01','2021-04-02','2021-04-13','2021-04-14','2021-04-21','2021-05-13','2021-05-26','2021-07-21','2021-08-16','2021-08-19','2021-09-10','2021-10-15','2021-10-19','2021-11-05','2021-11-19']\n",
        "error_days =['2020-09-28']\n",
        "# Before running this script , file called bhavcopy_date.txt need to be present in the \"base\" path.\n",
        "# Opening file named bhavcopy_date.txt , it keeps track of the last downloaded date.\n",
        "ltdl = open(base+'bhavcopy_date.txt','r')\n",
        "lastdt = ltdl.read(10)\n",
        "ltdl.close()\n",
        "lastdt = datetime.strptime(lastdt,'%Y-%m-%d')\n",
        "diff, wr = today-lastdt.date(), ''\n",
        "\n",
        "for i in range(1,diff.days+1): #loop through all dates from the last date mentioned in the bhavcopy_date file until today.\n",
        "  nextdt = lastdt+ relativedelta(days=i) #calculate the next day value\n",
        "  #check if the date is a weekend or market holiday so that we can remove that from the loop , bhavcopies are not available for weekends.\n",
        "  if (nextdt.weekday() == 5 or nextdt.weekday() == 6):\n",
        "    cprint (nextdt.strftime('%Y-%m-%d')+' is a weekend','grey')\n",
        "  elif nextdt.strftime('%Y-%m-%d') in holiday:\n",
        "    cprint (nextdt.strftime('%Y-%m-%d')+' is a Market Holiday','grey')\n",
        "  elif nextdt.strftime('%Y-%m-%d') in error_days:\n",
        "    cprint (nextdt.strftime('%Y-%m-%d')+' bhavcopy file is unavailable','grey')\n",
        "  else:\n",
        "    d, m, y = '%02d' % nextdt.day, '%02d' % nextdt.month, '%02d' % nextdt.year #extract day , month and year from  he date\n",
        "    zpath = base+y+'/'+d+'.zip'\n",
        "    if not os.path.isdir(base+y):#if there is no directory already present at the path with the year as a folder then create it\n",
        "      os.mkdir(base+y)\n",
        "      os.mkdir(base+y+'/Index')\n",
        "      os.mkdir(base+y+'/Futures')\n",
        "      os.mkdir(base+y+'/Forex')\n",
        "      os.mkdir(base+y+'/bhavcopy')\n",
        "    equities_bhavcopy=requests.get('https://archives.nseindia.com/products/content/sec_bhavdata_full_'+d+m+y+'.csv', timeout=10)  \n",
        "    if equities_bhavcopy.status_code==200:#if the connection is successful\n",
        "      open('sec_bhavdata_full_'+d+m+y+'.csv', 'wb').write(equities_bhavcopy.content)\n",
        "      #reading and storing in disctionary because we need 2 columns from the MTO file deliverable and %deliverable which is not found in the bhavcopy.\n",
        "      f, deldict = pd.read_csv('sec_bhavdata_full_'+d+m+y+'.csv'), {}  #reading the raw dl-ed bhav file\n",
        "      def trim(dataset): #Definition for strippping whitespace\n",
        "              trim = lambda x: x.strip() if type(x) is str else x\n",
        "              return dataset.applymap(trim)\n",
        "      f = trim(pd.read_csv('sec_bhavdata_full_'+d+m+y+'.csv'))  #reading the raw dl-ed file and trimming the trailing spaces with trim()\n",
        "      f = f[f[' SERIES'] == 'EQ'] #retaining only EQ rows and leaving out bonds,options etc\n",
        "      #cprint('cm'+d+dmonth[m]+y+'bhav.csv.zip download...SUCCESS', 'red', attrs=['blink'])\n",
        "      print('sec_bhavdata_full_'+d+m+y+'.csv download...SUCCESS')\n",
        "      print (range(len(f)))\n",
        "      #write a new csv, bhavcopydate as a column in the csv and get rid of the downloaded file\n",
        "      f['BHAVCOPYDATE'] = pd.Series(str(nextdt.date().strftime('%Y-%m-%d')) for _ in range(len(f))) #add a column called bhavcopydate and then fill it with the bhavecopy date\n",
        "      f = f[['SYMBOL', 'BHAVCOPYDATE', ' OPEN_PRICE', ' HIGH_PRICE', ' LOW_PRICE', ' CLOSE_PRICE', ' TTL_TRD_QNTY', ' NO_OF_TRADES',' DELIV_QTY',' DELIV_PER']]\n",
        "      f = f.rename(columns={'SYMBOL':'SYMBOL', ' OPEN_PRICE':'OPEN', ' HIGH_PRICE':'HIGH', ' LOW_PRICE':'LOW', ' TTL_TRD_QNTY':'TOTTRDQTY', ' NO_OF_TRADES':'NO_OF_TRADES',' DELIV_QTY':'DELIV_QTY',' DELIV_PER':'DELIV_PER'}) #rename some of the columns to something that is easier to underastand\n",
        "      f.to_csv(base+y+'/bhavcopy/'+str(nextdt.date())+'.csv', index=False)\n",
        "          \n",
        "      ######################################################################################\n",
        "      # connect to MySQL db in https://johnny.heliohost.org:2083/ UN \n",
        "      # pip install pip install mysql-connector --target=$nb_path pip install mysql-connector\n",
        "      # https://pynative.com/python-mysql-database-connection/\n",
        "      d, m, y = '%02d' % nextdt.day, '%02d' % nextdt.month, '%02d' % nextdt.year\n",
        "      #check if the path exist and connect to cloud mysql \n",
        "      #if os.path.exists(base+y):\n",
        "      try:\n",
        "        #connection = mysql.connector.connect(host='johnny.heliohost.org',\n",
        "        #                                  database='akini_algotrade',\n",
        "        #                                user='akini',\n",
        "        #                              password='Drink7up@home')\n",
        "        connection = mysql.connector.connect(host='remotemysql.com',\n",
        "                                            database='7FUybt81z6',\n",
        "                                            user='7FUybt81z6',\n",
        "                                            password='cvn1KKOijU')\n",
        "        \n",
        "        db_Info = connection.get_server_info()\n",
        "        print(\"\\nConnected to MySQL Server - version\", db_Info)\n",
        "        cursor = connection.cursor()\n",
        "        cursor.execute(\"select database();\")\n",
        "        record = cursor.fetchone()\n",
        "        print(\"\\nIngesting EQUITIES bhavcopy \"+'/'+y+'-'+m+'-'+d+'.csv'+\" into DB....:\", record)\n",
        "        cursor.fast_executemany = True\n",
        "        with open(base+y+'/bhavcopy/'+y+'-'+m+'-'+d+'.csv', newline='',  encoding=\"utf8\") as csvfile:\n",
        "          csvdata = csv.reader(csvfile)\n",
        "          #skip the 1st row as it will be header\n",
        "          next(csvdata)\n",
        "          pbar = ProgressBar()\n",
        "          for row in pbar(list(csvdata)):\n",
        "            # Prepare SQL query to INSERT a record into the database.\n",
        "            sql_stocks = \"INSERT INTO testbhavcopy (symbol, bhavcopydate, open, high, low, close, tottrdqty, no_of_trades, delivery, delivery_percent) \\\n",
        "            VALUES ('%s', '%s','%s', '%s','%s', '%s', '%s', '%s','%s','%s');\" % (row[0], row[1], row[2], row[3], row[4], row[5], row[6], row[7], row[8], row[9])\n",
        "            #print(sql)\n",
        "            try:\n",
        "              #Execute the SQL command\n",
        "              cursor.execute(sql_stocks)\n",
        "              #Commit your changes in the database\n",
        "              connection.commit()\n",
        "            except Error as e:\n",
        "              cprint('-------------------------------','red')\n",
        "              print(\"Error while connecting to MySQL\", e)\n",
        "              cprint('-------------------------------','red')\n",
        "              connection.rollback()\n",
        "              #pbar.next()\n",
        "              pbar.finish()\n",
        "              break\n",
        "      except Error as e:\n",
        "        cprint('-------------------------------','red')\n",
        "        print(\"Error while connecting to MySQL\", e)\n",
        "        cprint('-------------------------------','red')\n",
        "        break\n",
        "      finally:\n",
        "        if (connection.is_connected()):\n",
        "          cursor.close()\n",
        "          connection.close()\n",
        "if (connection.is_connected()):\n",
        "  cursor.close()\n",
        "  connection.close()\n",
        "cprint(\">>>>>>>>>>>>>>>>>>>>>>>>>>>>>\\nDONE - STOCKS imports complete\\n>>>>>>>>>>>>>>>>>>>>>>>>>>>>>\",'green')"
      ],
      "execution_count": null,
      "outputs": [
        {
          "output_type": "error",
          "ename": "SyntaxError",
          "evalue": "ignored",
          "traceback": [
            "\u001b[0;36m  File \u001b[0;32m\"<ipython-input-8-f767e5dcf6c4>\"\u001b[0;36m, line \u001b[0;32m62\u001b[0m\n\u001b[0;31m    for _ in range(len(f)) #add a column called bhavcopydate and then fill it with the bhavecopy date\u001b[0m\n\u001b[0m                                                                                                     ^\u001b[0m\n\u001b[0;31mSyntaxError\u001b[0m\u001b[0;31m:\u001b[0m invalid syntax\n"
          ]
        }
      ]
    },
    {
      "cell_type": "code",
      "metadata": {
        "id": "TpCa4rxbg1lP",
        "colab": {
          "base_uri": "https://localhost:8080/",
          "height": 613
        },
        "outputId": "733ee42f-b33b-4d93-e6f1-b9aaa7133107"
      },
      "source": [
        "#FUTURES ONLY\n",
        "import requests, zipfile, os, io, pandas as pd\n",
        "from datetime import datetime\n",
        "from dateutil.relativedelta import relativedelta\n",
        "import mysql.connector\n",
        "from mysql.connector import Error\n",
        "import csv\n",
        "import glob\n",
        "import re\n",
        "from progressbar import ProgressBar\n",
        "from termcolor import colored, cprint\n",
        "import time\n",
        "\n",
        "#https://honingds.com/blog/pandas-read_csv/#indexcol\n",
        "\n",
        "#set the path to where the bhavcopies will be downloaded\n",
        "base = '/content/drive/My Drive/algotrade/'\n",
        "today = datetime.today().date()\n",
        "dmonth={'01':'JAN','02':'FEB','03':'MAR','04':'APR','05':'MAY','06':'JUN','07':'JUL','08':'AUG','09':'SEP','10':'OCT','11':'NOV','12':'DEC'}\n",
        "holiday = ['2021-01-26','2021-02-19','2021-03-11','2021-03-29','2021-04-01','2021-04-02','2021-04-13','2021-04-14','2021-04-21','2021-05-13','2021-05-26','2021-07-21','2021-08-16','2021-08-19','2021-09-10','2021-10-15','2021-10-19','2021-11-05','2021-11-19']\n",
        "# Before running this script , file called bhavcopy_date.txt need to be present in the \"base\" path.\n",
        "# Opening file named bhavcopy_date.txt , it keeps track of the last downloaded date.\n",
        "ltdl = open(base+'bhavcopy_date.txt','r')\n",
        "lastdt = ltdl.read(10)\n",
        "ltdl.close()\n",
        "lastdt = datetime.strptime(lastdt,'%Y-%m-%d')\n",
        "diff, wr = today-lastdt.date(), ''\n",
        "\n",
        "for i in range(1,diff.days+1): #loop through all dates from the last date mentioned in the bhavcopy_date file until today.\n",
        "  nextdt = lastdt+ relativedelta(days=i) #calculate the next day value\n",
        "  #check if the date is a weekend or market holiday so that we can remove that from the loop , bhavcopies are not available for weekends.\n",
        "  if (nextdt.weekday() == 5 or nextdt.weekday() == 6):\n",
        "    cprint (nextdt.strftime('%Y-%m-%d')+' is a weekend','grey')\n",
        "  elif nextdt.strftime('%Y-%m-%d') in holiday:\n",
        "    cprint (nextdt.strftime('%Y-%m-%d')+' is a Market Holiday','grey')\n",
        "  else:\n",
        "    d, m, y = '%02d' % nextdt.day, '%02d' % nextdt.month, '%02d' % nextdt.year #extract day , month and year from  he date\n",
        "    zpath = base+y+'/'+d+'.zip'\n",
        "    if not os.path.isdir(base+y):#if there is no directory already present at the path with the year as a folder then create it\n",
        "      os.mkdir(base+y)\n",
        "      os.mkdir(base+y+'/Index')\n",
        "      os.mkdir(base+y+'/Futures')\n",
        "      os.mkdir(base+y+'/Forex')\n",
        "      os.mkdir(base+y+'/bhavcopy')\n",
        "    \n",
        "    #now lets work with the FUTURES\n",
        "    for i in range(2): #try to connect to the nseindia url to download the bhavcopy , 3 times , just incase website does not respond etc.\n",
        "      #while True:\n",
        "      try:\n",
        "        headers = {'User-Agent': 'Mozilla/5.0 (Macintosh; Intel Mac OS X 10_13_6) AppleWebKit/537.36 (KHTML, like Gecko) Chrome/68.0.3440.106 Safari/537.36',}#Sometimes requests from requests.get() gets blocked by server, so solution is to make the server think the request is coming from a web browser\n",
        "        futures_bhavcopy = requests.get('https://archives.nseindia.com/content/historical/DERIVATIVES/'+y+'/'+dmonth[m]+'/fo'+d+dmonth[m]+y+'bhav.csv.zip', headers=headers, timeout=5) #get the zip file from nseindia\n",
        "      except requests.exceptions.Timeout as error:\n",
        "        cprint('ERROR!!! 404 filenotfound fo'+d+dmonth[m]+y+'bhav.csv.zip..skipping','red')\n",
        "      except requests.ConnectionError:\n",
        "        cprint('No connection.. retrying','red')\n",
        "    if futures_bhavcopy.status_code==200:\n",
        "        dload=open(zpath, 'wb')\n",
        "        dload.write(futures_bhavcopy.content)\n",
        "        dload.close()\n",
        "        #open the downlaoded bhavcopy and extract it\n",
        "        z = zipfile.ZipFile(zpath, 'r')\n",
        "        z.extractall(base+y+'/futures')\n",
        "        z.close()\n",
        "        os.remove(zpath)\n",
        "        #reading and storing in a dictionary\n",
        "        f, deldict = pd.read_csv(base+y+'/futures/fo'+d+dmonth[m]+y+'bhav.csv'), {}  #reading the raw dl-ed bhav file\n",
        "        #cprint('cm'+d+dmonth[m]+y+'bhav.csv.zip download...SUCCESS', 'red', attrs=['blink'])\n",
        "        print('fo'+d+dmonth[m]+y+'bhav.csv.zip download...SUCCESS')\n",
        "        # making dataframe from csv file\n",
        "        if os.path.exists(base+y+'/futures/fo'+d+dmonth[m]+y+'bhav.csv'):\n",
        "          def trim(dataset): #Definition for strippping whitespace\n",
        "              trim = lambda x: x.strip() if type(x) is str else x\n",
        "              return dataset.applymap(trim)\n",
        "          # making dataframe from csv file\n",
        "          data = trim(pd.read_csv(base+y+'/futures/fo'+d+dmonth[m]+y+'bhav.csv'))  #reading the raw dl-ed file and trimming the trailing spaces with trim()\n",
        "          df1 = data[data['INSTRUMENT'] == 'FUTIDX'] #dataframe of only FUTIDX rows\n",
        "          df2 = data[data['INSTRUMENT'] == 'FUTSTK'] #dataframe of only FUTSTK rows\n",
        "          data = pd.concat([df1,df2]) #concatennating the 2 dataframes\n",
        "          data=data[['INSTRUMENT', 'SYMBOL', 'EXPIRY_DT', 'OPEN', 'HIGH', 'LOW', 'CLOSE','SETTLE_PR','CONTRACTS','VAL_INLAKH','OPEN_INT','CHG_IN_OI']]\n",
        "          data['BHAVCOPYDATE'] = pd.Series(str(nextdt.date().strftime('%Y-%m-%d')) for _ in range(len(data))) #add a column called bhavcopydate and then fill it with the bhavecopy date\n",
        "          data['EXPIRY_DT'] = pd.to_datetime(data['EXPIRY_DT'], format = '%d-%b-%Y') #the exp_date column is in format dd/mmm/yyyy convert it to yyyy-mm-dd\n",
        "          data.to_csv(base+y+'/futures/'+ str(nextdt.date())+'_futures.csv', index=False) #write the changes above to a new file and add an _futures to the csv file\n",
        "          os.remove(base+y+'/futures/fo'+d+dmonth[m]+y+'bhav.csv')\n",
        "          print('Futures bhavcopy '+ str(nextdt.date())+'_futures.csv create...SUCCESS')\n",
        "                  \n",
        "          ######################################################################################\n",
        "          # connect to MySQL db in https://johnny.heliohost.org:2083/ UN \n",
        "          # pip install pip install mysql-connector --target=$nb_path pip install mysql-connector\n",
        "          # https://pynative.com/python-mysql-database-connection/\n",
        "          d, m, y = '%02d' % nextdt.day, '%02d' % nextdt.month, '%02d' % nextdt.year\n",
        "          #check if the path exist and connect to cloud mysql \n",
        "          #if os.path.exists(base+y):\n",
        "          try:\n",
        "            #connection = mysql.connector.connect(host='johnny.heliohost.org',\n",
        "            #                                  database='akini_algotrade',\n",
        "            #                                user='akini',\n",
        "            #                              password='Drink7up@home')\n",
        "            connection = mysql.connector.connect(host='remotemysql.com',\n",
        "                                            database='7FUybt81z6',\n",
        "                                            user='7FUybt81z6',\n",
        "                                            password='cvn1KKOijU')\n",
        "            \n",
        "            db_Info = connection.get_server_info()\n",
        "            print(\"\\nConnected to MySQL Server - version\", db_Info)\n",
        "            cursor = connection.cursor()\n",
        "            cursor.execute(\"select database();\")\n",
        "            record = cursor.fetchone()\n",
        "            print(\"\\nIngesting FUTURES bhavcopy \"+'/'+y+'-'+m+'-'+d+'_futures.csv'+\" into DB....:\", record)\n",
        "            cursor.fast_executemany = True\n",
        "            with open(base+y+'/futures/'+y+'-'+m+'-'+d+'_futures.csv', newline='',  encoding=\"utf8\") as csvfile:\n",
        "              csvdata = csv.reader(csvfile)\n",
        "              #skip the 1st row as it will be header\n",
        "              next(csvdata)\n",
        "              pbar = ProgressBar()\n",
        "              for row in pbar(list(csvdata)):\n",
        "                # Prepare SQL query to INSERT a record into the database.\n",
        "                sql_stocks = \"INSERT INTO futures (instrument,symbol, expiry_dt, open, high, low, close, settle_pr,contracts,val_inlakh,open_int,chg_in_oi,bhavcopydate) \\\n",
        "                VALUES ('%s', '%s','%s', '%s','%s', '%s', '%s', '%s','%s','%s', '%s','%s', '%s');\" % (row[0], row[1], row[2], row[3], row[4], row[5], row[6], row[7], row[8], row[9], row[10], row[11], row[12])\n",
        "                #print(sql)\n",
        "                try:\n",
        "                  #Execute the SQL command\n",
        "                  cursor.execute(sql_stocks)\n",
        "                  #Commit your changes in the database\n",
        "                  connection.commit()\n",
        "                except Error as e:\n",
        "                  cprint('-------------------------------','red')\n",
        "                  print(\"Error while connecting to MySQL\", e)\n",
        "                  cprint('-------------------------------','red')\n",
        "                  connection.rollback()\n",
        "                  #pbar.next()\n",
        "                  pbar.finish()\n",
        "                  break\n",
        "          except Error as e:\n",
        "            cprint('-------------------------------','red')\n",
        "            print(\"Error while connecting to MySQL\", e)\n",
        "            cprint('-------------------------------','red')\n",
        "            break\n",
        "          finally:\n",
        "            if (connection.is_connected()):\n",
        "              cursor.close()\n",
        "              connection.close()\n",
        "if (connection.is_connected()):\n",
        "  cursor.close()\n",
        "  connection.close()\n",
        "cprint(\">>>>>>>>>>>>>>>>>>>>>>>>>>>>>\\nDONE - FUTURES imports complete\\n>>>>>>>>>>>>>>>>>>>>>>>>>>>>>\",'green')"
      ],
      "execution_count": null,
      "outputs": [
        {
          "output_type": "stream",
          "text": [
            "fo08APR2021bhav.csv.zip download...SUCCESS\n",
            "Futures bhavcopy 2021-04-08_futures.csv create...SUCCESS\n",
            "\n",
            "Connected to MySQL Server - version 8.0.13-4\n"
          ],
          "name": "stdout"
        },
        {
          "output_type": "stream",
          "text": [
            "\r                                                                               \r\rN/A% (0 of 484) |                        | Elapsed Time: 0:00:00 ETA:  --:--:--"
          ],
          "name": "stderr"
        },
        {
          "output_type": "stream",
          "text": [
            "\n",
            "Ingesting FUTURES bhavcopy /2021-04-08_futures.csv into DB....: ('7FUybt81z6',)\n"
          ],
          "name": "stdout"
        },
        {
          "output_type": "stream",
          "text": [
            "100% (484 of 484) |######################| Elapsed Time: 0:01:40 Time:  0:01:40\n"
          ],
          "name": "stderr"
        },
        {
          "output_type": "stream",
          "text": [
            "fo09APR2021bhav.csv.zip download...SUCCESS\n",
            "Futures bhavcopy 2021-04-09_futures.csv create...SUCCESS\n",
            "\n",
            "Connected to MySQL Server - version 8.0.13-4\n"
          ],
          "name": "stdout"
        },
        {
          "output_type": "stream",
          "text": [
            "\r                                                                               \r\rN/A% (0 of 484) |                        | Elapsed Time: 0:00:00 ETA:  --:--:--"
          ],
          "name": "stderr"
        },
        {
          "output_type": "stream",
          "text": [
            "\n",
            "Ingesting FUTURES bhavcopy /2021-04-09_futures.csv into DB....: ('7FUybt81z6',)\n"
          ],
          "name": "stdout"
        },
        {
          "output_type": "stream",
          "text": [
            "  4% (20 of 484) |                       | Elapsed Time: 0:00:04 ETA:   0:01:35"
          ],
          "name": "stderr"
        },
        {
          "output_type": "error",
          "ename": "KeyboardInterrupt",
          "evalue": "ignored",
          "traceback": [
            "\u001b[0;31m---------------------------------------------------------------------------\u001b[0m",
            "\u001b[0;31mKeyboardInterrupt\u001b[0m                         Traceback (most recent call last)",
            "\u001b[0;32m<ipython-input-5-628ff2ed8842>\u001b[0m in \u001b[0;36m<module>\u001b[0;34m()\u001b[0m\n\u001b[1;32m    121\u001b[0m                   \u001b[0mcursor\u001b[0m\u001b[0;34m.\u001b[0m\u001b[0mexecute\u001b[0m\u001b[0;34m(\u001b[0m\u001b[0msql_stocks\u001b[0m\u001b[0;34m)\u001b[0m\u001b[0;34m\u001b[0m\u001b[0;34m\u001b[0m\u001b[0m\n\u001b[1;32m    122\u001b[0m                   \u001b[0;31m#Commit your changes in the database\u001b[0m\u001b[0;34m\u001b[0m\u001b[0;34m\u001b[0m\u001b[0;34m\u001b[0m\u001b[0m\n\u001b[0;32m--> 123\u001b[0;31m                   \u001b[0mconnection\u001b[0m\u001b[0;34m.\u001b[0m\u001b[0mcommit\u001b[0m\u001b[0;34m(\u001b[0m\u001b[0;34m)\u001b[0m\u001b[0;34m\u001b[0m\u001b[0;34m\u001b[0m\u001b[0m\n\u001b[0m\u001b[1;32m    124\u001b[0m                 \u001b[0;32mexcept\u001b[0m \u001b[0mError\u001b[0m \u001b[0;32mas\u001b[0m \u001b[0me\u001b[0m\u001b[0;34m:\u001b[0m\u001b[0;34m\u001b[0m\u001b[0;34m\u001b[0m\u001b[0m\n\u001b[1;32m    125\u001b[0m                   \u001b[0mcprint\u001b[0m\u001b[0;34m(\u001b[0m\u001b[0;34m'-------------------------------'\u001b[0m\u001b[0;34m,\u001b[0m\u001b[0;34m'red'\u001b[0m\u001b[0;34m)\u001b[0m\u001b[0;34m\u001b[0m\u001b[0;34m\u001b[0m\u001b[0m\n",
            "\u001b[0;32m/usr/local/lib/python3.7/dist-packages/mysql/connector/connection.py\u001b[0m in \u001b[0;36mcommit\u001b[0;34m(self)\u001b[0m\n\u001b[1;32m    850\u001b[0m     \u001b[0;32mdef\u001b[0m \u001b[0mcommit\u001b[0m\u001b[0;34m(\u001b[0m\u001b[0mself\u001b[0m\u001b[0;34m)\u001b[0m\u001b[0;34m:\u001b[0m\u001b[0;34m\u001b[0m\u001b[0;34m\u001b[0m\u001b[0m\n\u001b[1;32m    851\u001b[0m         \u001b[0;34m\"\"\"Commit current transaction\"\"\"\u001b[0m\u001b[0;34m\u001b[0m\u001b[0;34m\u001b[0m\u001b[0m\n\u001b[0;32m--> 852\u001b[0;31m         \u001b[0mself\u001b[0m\u001b[0;34m.\u001b[0m\u001b[0m_execute_query\u001b[0m\u001b[0;34m(\u001b[0m\u001b[0;34m\"COMMIT\"\u001b[0m\u001b[0;34m)\u001b[0m\u001b[0;34m\u001b[0m\u001b[0;34m\u001b[0m\u001b[0m\n\u001b[0m\u001b[1;32m    853\u001b[0m \u001b[0;34m\u001b[0m\u001b[0m\n\u001b[1;32m    854\u001b[0m     \u001b[0;32mdef\u001b[0m \u001b[0mrollback\u001b[0m\u001b[0;34m(\u001b[0m\u001b[0mself\u001b[0m\u001b[0;34m)\u001b[0m\u001b[0;34m:\u001b[0m\u001b[0;34m\u001b[0m\u001b[0;34m\u001b[0m\u001b[0m\n",
            "\u001b[0;32m/usr/local/lib/python3.7/dist-packages/mysql/connector/connection.py\u001b[0m in \u001b[0;36m_execute_query\u001b[0;34m(self, query)\u001b[0m\n\u001b[1;32m    869\u001b[0m         \"\"\"\n\u001b[1;32m    870\u001b[0m         \u001b[0mself\u001b[0m\u001b[0;34m.\u001b[0m\u001b[0mhandle_unread_result\u001b[0m\u001b[0;34m(\u001b[0m\u001b[0;34m)\u001b[0m\u001b[0;34m\u001b[0m\u001b[0;34m\u001b[0m\u001b[0m\n\u001b[0;32m--> 871\u001b[0;31m         \u001b[0mself\u001b[0m\u001b[0;34m.\u001b[0m\u001b[0mcmd_query\u001b[0m\u001b[0;34m(\u001b[0m\u001b[0mquery\u001b[0m\u001b[0;34m)\u001b[0m\u001b[0;34m\u001b[0m\u001b[0;34m\u001b[0m\u001b[0m\n\u001b[0m\u001b[1;32m    872\u001b[0m \u001b[0;34m\u001b[0m\u001b[0m\n\u001b[1;32m    873\u001b[0m     \u001b[0;32mdef\u001b[0m \u001b[0minfo_query\u001b[0m\u001b[0;34m(\u001b[0m\u001b[0mself\u001b[0m\u001b[0;34m,\u001b[0m \u001b[0mquery\u001b[0m\u001b[0;34m)\u001b[0m\u001b[0;34m:\u001b[0m\u001b[0;34m\u001b[0m\u001b[0;34m\u001b[0m\u001b[0m\n",
            "\u001b[0;32m/usr/local/lib/python3.7/dist-packages/mysql/connector/connection.py\u001b[0m in \u001b[0;36mcmd_query\u001b[0;34m(self, query, raw, buffered, raw_as_string)\u001b[0m\n\u001b[1;32m    488\u001b[0m         \u001b[0;32mif\u001b[0m \u001b[0;32mnot\u001b[0m \u001b[0misinstance\u001b[0m\u001b[0;34m(\u001b[0m\u001b[0mquery\u001b[0m\u001b[0;34m,\u001b[0m \u001b[0mbytes\u001b[0m\u001b[0;34m)\u001b[0m\u001b[0;34m:\u001b[0m\u001b[0;34m\u001b[0m\u001b[0;34m\u001b[0m\u001b[0m\n\u001b[1;32m    489\u001b[0m             \u001b[0mquery\u001b[0m \u001b[0;34m=\u001b[0m \u001b[0mquery\u001b[0m\u001b[0;34m.\u001b[0m\u001b[0mencode\u001b[0m\u001b[0;34m(\u001b[0m\u001b[0;34m'utf-8'\u001b[0m\u001b[0;34m)\u001b[0m\u001b[0;34m\u001b[0m\u001b[0;34m\u001b[0m\u001b[0m\n\u001b[0;32m--> 490\u001b[0;31m         \u001b[0mresult\u001b[0m \u001b[0;34m=\u001b[0m \u001b[0mself\u001b[0m\u001b[0;34m.\u001b[0m\u001b[0m_handle_result\u001b[0m\u001b[0;34m(\u001b[0m\u001b[0mself\u001b[0m\u001b[0;34m.\u001b[0m\u001b[0m_send_cmd\u001b[0m\u001b[0;34m(\u001b[0m\u001b[0mServerCmd\u001b[0m\u001b[0;34m.\u001b[0m\u001b[0mQUERY\u001b[0m\u001b[0;34m,\u001b[0m \u001b[0mquery\u001b[0m\u001b[0;34m)\u001b[0m\u001b[0;34m)\u001b[0m\u001b[0;34m\u001b[0m\u001b[0;34m\u001b[0m\u001b[0m\n\u001b[0m\u001b[1;32m    491\u001b[0m \u001b[0;34m\u001b[0m\u001b[0m\n\u001b[1;32m    492\u001b[0m         \u001b[0;32mif\u001b[0m \u001b[0mself\u001b[0m\u001b[0;34m.\u001b[0m\u001b[0m_have_next_result\u001b[0m\u001b[0;34m:\u001b[0m\u001b[0;34m\u001b[0m\u001b[0;34m\u001b[0m\u001b[0m\n",
            "\u001b[0;32m/usr/local/lib/python3.7/dist-packages/mysql/connector/connection.py\u001b[0m in \u001b[0;36m_send_cmd\u001b[0;34m(self, command, argument, packet_number, packet, expect_response, compressed_packet_number)\u001b[0m\n\u001b[1;32m    265\u001b[0m         \u001b[0;32mif\u001b[0m \u001b[0;32mnot\u001b[0m \u001b[0mexpect_response\u001b[0m\u001b[0;34m:\u001b[0m\u001b[0;34m\u001b[0m\u001b[0;34m\u001b[0m\u001b[0m\n\u001b[1;32m    266\u001b[0m             \u001b[0;32mreturn\u001b[0m \u001b[0;32mNone\u001b[0m\u001b[0;34m\u001b[0m\u001b[0;34m\u001b[0m\u001b[0m\n\u001b[0;32m--> 267\u001b[0;31m         \u001b[0;32mreturn\u001b[0m \u001b[0mself\u001b[0m\u001b[0;34m.\u001b[0m\u001b[0m_socket\u001b[0m\u001b[0;34m.\u001b[0m\u001b[0mrecv\u001b[0m\u001b[0;34m(\u001b[0m\u001b[0;34m)\u001b[0m\u001b[0;34m\u001b[0m\u001b[0;34m\u001b[0m\u001b[0m\n\u001b[0m\u001b[1;32m    268\u001b[0m \u001b[0;34m\u001b[0m\u001b[0m\n\u001b[1;32m    269\u001b[0m     \u001b[0;32mdef\u001b[0m \u001b[0m_send_data\u001b[0m\u001b[0;34m(\u001b[0m\u001b[0mself\u001b[0m\u001b[0;34m,\u001b[0m \u001b[0mdata_file\u001b[0m\u001b[0;34m,\u001b[0m \u001b[0msend_empty_packet\u001b[0m\u001b[0;34m=\u001b[0m\u001b[0;32mFalse\u001b[0m\u001b[0;34m)\u001b[0m\u001b[0;34m:\u001b[0m\u001b[0;34m\u001b[0m\u001b[0;34m\u001b[0m\u001b[0m\n",
            "\u001b[0;32m/usr/local/lib/python3.7/dist-packages/mysql/connector/network.py\u001b[0m in \u001b[0;36mrecv_plain\u001b[0;34m(self)\u001b[0m\n\u001b[1;32m    239\u001b[0m             \u001b[0mpacket_len\u001b[0m \u001b[0;34m=\u001b[0m \u001b[0;36m0\u001b[0m\u001b[0;34m\u001b[0m\u001b[0;34m\u001b[0m\u001b[0m\n\u001b[1;32m    240\u001b[0m             \u001b[0;32mwhile\u001b[0m \u001b[0mpacket_len\u001b[0m \u001b[0;34m<\u001b[0m \u001b[0;36m4\u001b[0m\u001b[0;34m:\u001b[0m\u001b[0;34m\u001b[0m\u001b[0;34m\u001b[0m\u001b[0m\n\u001b[0;32m--> 241\u001b[0;31m                 \u001b[0mchunk\u001b[0m \u001b[0;34m=\u001b[0m \u001b[0mself\u001b[0m\u001b[0;34m.\u001b[0m\u001b[0msock\u001b[0m\u001b[0;34m.\u001b[0m\u001b[0mrecv\u001b[0m\u001b[0;34m(\u001b[0m\u001b[0;36m4\u001b[0m \u001b[0;34m-\u001b[0m \u001b[0mpacket_len\u001b[0m\u001b[0;34m)\u001b[0m\u001b[0;34m\u001b[0m\u001b[0;34m\u001b[0m\u001b[0m\n\u001b[0m\u001b[1;32m    242\u001b[0m                 \u001b[0;32mif\u001b[0m \u001b[0;32mnot\u001b[0m \u001b[0mchunk\u001b[0m\u001b[0;34m:\u001b[0m\u001b[0;34m\u001b[0m\u001b[0;34m\u001b[0m\u001b[0m\n\u001b[1;32m    243\u001b[0m                     \u001b[0;32mraise\u001b[0m \u001b[0merrors\u001b[0m\u001b[0;34m.\u001b[0m\u001b[0mInterfaceError\u001b[0m\u001b[0;34m(\u001b[0m\u001b[0merrno\u001b[0m\u001b[0;34m=\u001b[0m\u001b[0;36m2013\u001b[0m\u001b[0;34m)\u001b[0m\u001b[0;34m\u001b[0m\u001b[0;34m\u001b[0m\u001b[0m\n",
            "\u001b[0;31mKeyboardInterrupt\u001b[0m: "
          ]
        }
      ]
    },
    {
      "cell_type": "code",
      "metadata": {
        "id": "JvEErVv15gsu",
        "colab": {
          "base_uri": "https://localhost:8080/",
          "height": 919
        },
        "outputId": "13bd9b4e-3c7e-4a2b-8e30-1a39a587f55c"
      },
      "source": [
        "#FOREX ONLY\n",
        "import requests, zipfile, os, io, pandas as pd\n",
        "from datetime import datetime\n",
        "from dateutil.relativedelta import relativedelta\n",
        "import mysql.connector\n",
        "from mysql.connector import Error\n",
        "import csv\n",
        "import glob\n",
        "import re\n",
        "from progressbar import ProgressBar\n",
        "from termcolor import colored, cprint\n",
        "import time\n",
        "\n",
        "#https://honingds.com/blog/pandas-read_csv/#indexcol\n",
        "\n",
        "#set the path to where the bhavcopies will be downloaded\n",
        "base = '/content/drive/My Drive/algotrade/'\n",
        "today = datetime.today().date()\n",
        "dmonth={'01':'JAN','02':'FEB','03':'MAR','04':'APR','05':'MAY','06':'JUN','07':'JUL','08':'AUG','09':'SEP','10':'OCT','11':'NOV','12':'DEC'}\n",
        "holiday = ['2021-01-26','2021-02-19','2021-03-11','2021-03-29','2021-04-01','2021-04-02','2021-04-13','2021-04-14','2021-04-21','2021-05-13','2021-05-26','2021-07-21','2021-08-16','2021-08-19','2021-09-10','2021-10-15','2021-10-19','2021-11-05','2021-11-19']\n",
        "# Before running this script , file called bhavcopy_date.txt need to be present in the \"base\" path.\n",
        "# Opening file named bhavcopy_date.txt , it keeps track of the last downloaded date.\n",
        "ltdl = open(base+'bhavcopy_date.txt','r')\n",
        "lastdt = ltdl.read(10)\n",
        "ltdl.close()\n",
        "lastdt = datetime.strptime(lastdt,'%Y-%m-%d')\n",
        "diff, wr = today-lastdt.date(), ''\n",
        "\n",
        "for i in range(1,diff.days+1): #loop through all dates from the last date mentioned in the bhavcopy_date file until today.\n",
        "  nextdt = lastdt+ relativedelta(days=i) #calculate the next day value\n",
        "  #check if the date is a weekend or market holiday so that we can remove that from the loop , bhavcopies are not available for weekends.\n",
        "  if (nextdt.weekday() == 5 or nextdt.weekday() == 6):\n",
        "    cprint (nextdt.strftime('%Y-%m-%d')+' is a weekend','grey')\n",
        "  elif nextdt.strftime('%Y-%m-%d') in holiday:\n",
        "    cprint (nextdt.strftime('%Y-%m-%d')+' is a Market Holiday','grey')\n",
        "  else:\n",
        "    d, m, y = '%02d' % nextdt.day, '%02d' % nextdt.month, '%02d' % nextdt.year #extract day , month and year from  he date\n",
        "    zpath = base+y+'/'+d+'.zip'\n",
        "    if not os.path.isdir(base+y):#if there is no directory already present at the path with the year as a folder then create it\n",
        "      os.mkdir(base+y)\n",
        "      os.mkdir(base+y+'/Index')\n",
        "      os.mkdir(base+y+'/Futures')\n",
        "      os.mkdir(base+y+'/Forex')\n",
        "      os.mkdir(base+y+'/bhavcopy')\n",
        "\n",
        "#now lets work with the FOREX\n",
        "    for i in range(2): #try to connect to the nseindia url to download the bhavcopy , 3 times , just incase website does not respond etc.\n",
        "      #while True:\n",
        "      try:\n",
        "        headers = {'User-Agent': 'Mozilla/5.0 (Macintosh; Intel Mac OS X 10_13_6) AppleWebKit/537.36 (KHTML, like Gecko) Chrome/68.0.3440.106 Safari/537.36',}#Sometimes requests from requests.get() gets blocked by server, so solution is to make the server think the request is coming from a web browser\n",
        "        forex = requests.get('https://archives.nseindia.com/archives/cd/mkt_act/cd'+d+m+y+'.zip', headers=headers, timeout=5) #get the zip file from nseindia\n",
        "      except requests.exceptions.Timeout as error:\n",
        "        cprint('ERROR!!! 404 filenotfound cd'+d+m+y+'.zip..skipping','red')\n",
        "        break\n",
        "      except requests.ConnectionError:\n",
        "        cprint('No connection.. retrying','red')\n",
        "        break\n",
        "    if forex.status_code==200:\n",
        "        fx=open(zpath, 'wb') #open the zip file under a temp location called zpath that is defined above\n",
        "        fx.write(forex.content)\n",
        "        fx.close()\n",
        "        z, wr = zipfile.ZipFile(zpath,'r'), nextdt.date()\n",
        "        z.extractall(base+y+'/Forex') #extract the contents of the zip file to a location called forex , it extracts some 6 csv files we want only 1\n",
        "        z.close()\n",
        "        os.remove(zpath) #remove the zip file\n",
        "        if os.path.exists(base+y+'/Forex/cf'+d+m+y+'.csv'):\n",
        "          def trim(dataset): #Definition for strippping whitespace\n",
        "              trim = lambda x: x.strip() if type(x) is str else x\n",
        "              return dataset.applymap(trim)\n",
        "          # making dataframe from csv file\n",
        "          data = trim(pd.read_csv(base+y+'/Forex/cf'+d+m+y+'.csv'))  #reading the raw dl-ed file and trimming the trailing spaces with trim()\n",
        "          data = data[data['INSTRUMENT'] == 'FUTCUR'] #retaining only FUTCUR rows and leaving out other rows\n",
        "          data[['INSTRUMENT', 'SYMBOL    ', 'EXP_DATE  ', 'OPEN_PRICE ', 'HI_PRICE   ', 'LO_PRICE   ', 'CLOSE_PRICE','OPEN_INT*      ','TRD_VAL           ','TRD_QTY          ','NO_OF_CONT       ','NO_OF_TRADE      ']]#the useless file has spaces in the heading.\n",
        "          data = data.rename(columns={'SYMBOL    ':'SYMBOL', 'EXP_DATE  ':'EXP_DATE', 'OPEN_PRICE ':'OPEN', 'HI_PRICE   ':'HIGH', 'LO_PRICE   ':'LOW', 'CLOSE_PRICE':'CLOSE','OPEN_INT*      ':'OPEN_INT','TRD_VAL           ':'TRD_VAL','TRD_QTY          ':'TRD_QTY','NO_OF_CONT       ':'NO_OF_CONT','NO_OF_TRADE      ':'NO_OF_TRADE'}) #rename some of the columns to something that is easier to underastand\n",
        "          data['BHAVCOPYDATE'] = pd.Series(str(nextdt.date().strftime('%Y-%m-%d')) for _ in range(len(data))) #add a column called bhavcopydate and then fill it with the bhavecopy date\n",
        "          data['EXP_DATE'] = pd.to_datetime(data['EXP_DATE'], format = '%d/%m/%Y') #the exp_date column is in format dd/mm/yyy convert it to yyyy-mm-dd\n",
        "          data.to_csv(base+y+'/Forex/'+ str(nextdt.date())+'_forex.csv', index=False) #write the changes above to a new file and add an _forex to the csv file\n",
        "          os.remove(base+y+'/Forex/cf'+d+m+y+'.csv')\n",
        "          print('Forex bhavcopy '+ str(nextdt.date())+'_forex.csv create...SUCCESS')\n",
        "          #print(data)\n",
        "          #cleanup all the useless files that get extracted from the currency futures bhavcopy\n",
        "          for CleanUp in glob.glob(base+y+'/Forex/*.*'): # list out the files\n",
        "            if not re.match(\".+forex+\",CleanUp): #if the list found above contains \"forex\" then dont do anything, else delete\n",
        "              os.remove(CleanUp) #remove files in the folder\n",
        "            \n",
        "          try:\n",
        "            #connection = mysql.connector.connect(host='johnny.heliohost.org',\n",
        "            #                                  database='akini_algotrade',\n",
        "            #                                user='akini',\n",
        "            #                              password='Drink7up@home')\n",
        "            connection = mysql.connector.connect(host='remotemysql.com',\n",
        "                                            database='7FUybt81z6',\n",
        "                                            user='7FUybt81z6',\n",
        "                                            password='cvn1KKOijU')\n",
        "            \n",
        "            db_Info = connection.get_server_info()\n",
        "            print(\"\\nConnected to MySQL Server version\", db_Info)\n",
        "            #print(\">>>>>>>>>>>>>>>\\n\")\n",
        "            cursor = connection.cursor()\n",
        "            cursor.execute(\"select database();\")\n",
        "            record = cursor.fetchone()\n",
        "            print(\"\\nIngesting FOREX bhavcopy \"+'/'+y+'-'+m+'-'+d+'_forex.csv'+\" into DB....:\", record)\n",
        "            #print(\">>>>>>>>>>>>>>>\\n\")\n",
        "            cursor.fast_executemany = True\n",
        "            with open(base+y+'/Forex/'+ str(nextdt.date())+'_forex.csv', newline='',  encoding=\"utf8\") as csvfile_forex:\n",
        "              csvdata_forex = csv.reader(csvfile_forex)\n",
        "              #skip the 1st row as it will be header\n",
        "              next(csvdata_forex)\n",
        "              pbar = ProgressBar()\n",
        "              for row in pbar(list(csvdata_forex)):\n",
        "              #Prepare SQL query to INSERT a record into the database.\n",
        "                sql_forex = \"INSERT INTO forex (symbol, exp_date, open, high, low, close, open_int, trd_val, trd_qty, no_of_cont, no_of_trade, bhavcopydate) \\\n",
        "                VALUES ('%s','%s','%s', '%s','%s', '%s', '%s', '%s','%s','%s', '%s','%s');\" % (row[1], row[2], row[3], row[4], row[5], row[6], row[7], row[8], row[9], row[10], row[11], row[12])\n",
        "                try:\n",
        "                  #Execute the SQL command\n",
        "                  cursor.execute(sql_forex)\n",
        "                  #Commit your changes in the database\n",
        "                  connection.commit()\n",
        "                except Error as e:\n",
        "                  cprint('-------------------------------','red')\n",
        "                  print(\"Error while connecting to MySQL\", e)\n",
        "                  cprint('-------------------------------','red')\n",
        "                  connection.rollback()\n",
        "                  #pbar.next()\n",
        "                  pbar.finish()\n",
        "                  break\n",
        "          except Error as e:\n",
        "            cprint('-------------------------------','red')\n",
        "            print(\"Error while connecting to MySQL\", e)\n",
        "            cprint('-------------------------------','red')\n",
        "            break\n",
        "          finally:\n",
        "            if (connection.is_connected()):\n",
        "              cursor.close()\n",
        "              connection.close()\n",
        "if (connection.is_connected()):\n",
        "  cursor.close()\n",
        "  connection.close()\n",
        "cprint(\">>>>>>>>>>>>>>>>>>>>>>>>>>>>>\\nDONE - FOREX imports complete\\n>>>>>>>>>>>>>>>>>>>>>>>>>>>>>\",'green')"
      ],
      "execution_count": null,
      "outputs": [
        {
          "output_type": "stream",
          "text": [
            "Forex bhavcopy 2021-04-08_forex.csv create...SUCCESS\n",
            "\n",
            "Connected to MySQL Server version 8.0.13-4\n"
          ],
          "name": "stdout"
        },
        {
          "output_type": "stream",
          "text": [
            "\r                                                                               \r\rN/A% (0 of 48) |                         | Elapsed Time: 0:00:00 ETA:  --:--:--"
          ],
          "name": "stderr"
        },
        {
          "output_type": "stream",
          "text": [
            "\n",
            "Ingesting FOREX bhavcopy /2021-04-08_forex.csv into DB....: ('7FUybt81z6',)\n"
          ],
          "name": "stdout"
        },
        {
          "output_type": "stream",
          "text": [
            "100% (48 of 48) |########################| Elapsed Time: 0:00:00 Time:  0:00:00\n"
          ],
          "name": "stderr"
        },
        {
          "output_type": "stream",
          "text": [
            "\u001b[31m-------------------------------\u001b[0m\n",
            "Error while connecting to MySQL 1264 (22003): Out of range value for column 'trd_val' at row 1\n",
            "\u001b[31m-------------------------------\u001b[0m\n",
            "Forex bhavcopy 2021-04-09_forex.csv create...SUCCESS\n",
            "\n",
            "Connected to MySQL Server version 8.0.13-4\n"
          ],
          "name": "stdout"
        },
        {
          "output_type": "stream",
          "text": [
            "\r                                                                               \r\rN/A% (0 of 49) |                         | Elapsed Time: 0:00:00 ETA:  --:--:--"
          ],
          "name": "stderr"
        },
        {
          "output_type": "stream",
          "text": [
            "\n",
            "Ingesting FOREX bhavcopy /2021-04-09_forex.csv into DB....: ('7FUybt81z6',)\n"
          ],
          "name": "stdout"
        },
        {
          "output_type": "stream",
          "text": [
            "100% (49 of 49) |########################| Elapsed Time: 0:00:00 Time:  0:00:00\n"
          ],
          "name": "stderr"
        },
        {
          "output_type": "stream",
          "text": [
            "\u001b[31m-------------------------------\u001b[0m\n",
            "Error while connecting to MySQL 1264 (22003): Out of range value for column 'trd_val' at row 1\n",
            "\u001b[31m-------------------------------\u001b[0m\n",
            "\u001b[30m2021-04-10 is a weekend\u001b[0m\n",
            "\u001b[30m2021-04-11 is a weekend\u001b[0m\n",
            "Forex bhavcopy 2021-04-12_forex.csv create...SUCCESS\n",
            "\n",
            "Connected to MySQL Server version 8.0.13-4\n"
          ],
          "name": "stdout"
        },
        {
          "output_type": "stream",
          "text": [
            "\r                                                                               \r\rN/A% (0 of 48) |                         | Elapsed Time: 0:00:00 ETA:  --:--:--"
          ],
          "name": "stderr"
        },
        {
          "output_type": "stream",
          "text": [
            "\n",
            "Ingesting FOREX bhavcopy /2021-04-12_forex.csv into DB....: ('7FUybt81z6',)\n"
          ],
          "name": "stdout"
        },
        {
          "output_type": "stream",
          "text": [
            "100% (48 of 48) |########################| Elapsed Time: 0:00:00 Time:  0:00:00\n"
          ],
          "name": "stderr"
        },
        {
          "output_type": "stream",
          "text": [
            "\u001b[31m-------------------------------\u001b[0m\n",
            "Error while connecting to MySQL 1264 (22003): Out of range value for column 'trd_val' at row 1\n",
            "\u001b[31m-------------------------------\u001b[0m\n",
            "\u001b[30m2021-04-13 is a Market Holiday\u001b[0m\n",
            "\u001b[30m2021-04-14 is a Market Holiday\u001b[0m\n",
            "Forex bhavcopy 2021-04-15_forex.csv create...SUCCESS\n"
          ],
          "name": "stdout"
        },
        {
          "output_type": "error",
          "ename": "KeyboardInterrupt",
          "evalue": "ignored",
          "traceback": [
            "\u001b[0;31m---------------------------------------------------------------------------\u001b[0m",
            "\u001b[0;31mKeyboardInterrupt\u001b[0m                         Traceback (most recent call last)",
            "\u001b[0;32m<ipython-input-9-39f756ef72a2>\u001b[0m in \u001b[0;36m<module>\u001b[0;34m()\u001b[0m\n\u001b[1;32m     92\u001b[0m                                             \u001b[0mdatabase\u001b[0m\u001b[0;34m=\u001b[0m\u001b[0;34m'7FUybt81z6'\u001b[0m\u001b[0;34m,\u001b[0m\u001b[0;34m\u001b[0m\u001b[0;34m\u001b[0m\u001b[0m\n\u001b[1;32m     93\u001b[0m                                             \u001b[0muser\u001b[0m\u001b[0;34m=\u001b[0m\u001b[0;34m'7FUybt81z6'\u001b[0m\u001b[0;34m,\u001b[0m\u001b[0;34m\u001b[0m\u001b[0;34m\u001b[0m\u001b[0m\n\u001b[0;32m---> 94\u001b[0;31m                                             password='cvn1KKOijU')\n\u001b[0m\u001b[1;32m     95\u001b[0m \u001b[0;34m\u001b[0m\u001b[0m\n\u001b[1;32m     96\u001b[0m             \u001b[0mdb_Info\u001b[0m \u001b[0;34m=\u001b[0m \u001b[0mconnection\u001b[0m\u001b[0;34m.\u001b[0m\u001b[0mget_server_info\u001b[0m\u001b[0;34m(\u001b[0m\u001b[0;34m)\u001b[0m\u001b[0;34m\u001b[0m\u001b[0;34m\u001b[0m\u001b[0m\n",
            "\u001b[0;32m/usr/local/lib/python3.7/dist-packages/mysql/connector/__init__.py\u001b[0m in \u001b[0;36mconnect\u001b[0;34m(*args, **kwargs)\u001b[0m\n\u001b[1;32m    177\u001b[0m         \u001b[0;32mreturn\u001b[0m \u001b[0mCMySQLConnection\u001b[0m\u001b[0;34m(\u001b[0m\u001b[0;34m*\u001b[0m\u001b[0margs\u001b[0m\u001b[0;34m,\u001b[0m \u001b[0;34m**\u001b[0m\u001b[0mkwargs\u001b[0m\u001b[0;34m)\u001b[0m\u001b[0;34m\u001b[0m\u001b[0;34m\u001b[0m\u001b[0m\n\u001b[1;32m    178\u001b[0m     \u001b[0;32melse\u001b[0m\u001b[0;34m:\u001b[0m\u001b[0;34m\u001b[0m\u001b[0;34m\u001b[0m\u001b[0m\n\u001b[0;32m--> 179\u001b[0;31m         \u001b[0;32mreturn\u001b[0m \u001b[0mMySQLConnection\u001b[0m\u001b[0;34m(\u001b[0m\u001b[0;34m*\u001b[0m\u001b[0margs\u001b[0m\u001b[0;34m,\u001b[0m \u001b[0;34m**\u001b[0m\u001b[0mkwargs\u001b[0m\u001b[0;34m)\u001b[0m\u001b[0;34m\u001b[0m\u001b[0;34m\u001b[0m\u001b[0m\n\u001b[0m\u001b[1;32m    180\u001b[0m \u001b[0mConnect\u001b[0m \u001b[0;34m=\u001b[0m \u001b[0mconnect\u001b[0m  \u001b[0;31m# pylint: disable=C0103\u001b[0m\u001b[0;34m\u001b[0m\u001b[0;34m\u001b[0m\u001b[0m\n\u001b[1;32m    181\u001b[0m \u001b[0;34m\u001b[0m\u001b[0m\n",
            "\u001b[0;32m/usr/local/lib/python3.7/dist-packages/mysql/connector/connection.py\u001b[0m in \u001b[0;36m__init__\u001b[0;34m(self, *args, **kwargs)\u001b[0m\n\u001b[1;32m     93\u001b[0m \u001b[0;34m\u001b[0m\u001b[0m\n\u001b[1;32m     94\u001b[0m         \u001b[0;32mif\u001b[0m \u001b[0mlen\u001b[0m\u001b[0;34m(\u001b[0m\u001b[0mkwargs\u001b[0m\u001b[0;34m)\u001b[0m \u001b[0;34m>\u001b[0m \u001b[0;36m0\u001b[0m\u001b[0;34m:\u001b[0m\u001b[0;34m\u001b[0m\u001b[0;34m\u001b[0m\u001b[0m\n\u001b[0;32m---> 95\u001b[0;31m             \u001b[0mself\u001b[0m\u001b[0;34m.\u001b[0m\u001b[0mconnect\u001b[0m\u001b[0;34m(\u001b[0m\u001b[0;34m**\u001b[0m\u001b[0mkwargs\u001b[0m\u001b[0;34m)\u001b[0m\u001b[0;34m\u001b[0m\u001b[0;34m\u001b[0m\u001b[0m\n\u001b[0m\u001b[1;32m     96\u001b[0m \u001b[0;34m\u001b[0m\u001b[0m\n\u001b[1;32m     97\u001b[0m     \u001b[0;32mdef\u001b[0m \u001b[0m_do_handshake\u001b[0m\u001b[0;34m(\u001b[0m\u001b[0mself\u001b[0m\u001b[0;34m)\u001b[0m\u001b[0;34m:\u001b[0m\u001b[0;34m\u001b[0m\u001b[0;34m\u001b[0m\u001b[0m\n",
            "\u001b[0;32m/usr/local/lib/python3.7/dist-packages/mysql/connector/abstracts.py\u001b[0m in \u001b[0;36mconnect\u001b[0;34m(self, **kwargs)\u001b[0m\n\u001b[1;32m    714\u001b[0m \u001b[0;34m\u001b[0m\u001b[0m\n\u001b[1;32m    715\u001b[0m         \u001b[0mself\u001b[0m\u001b[0;34m.\u001b[0m\u001b[0mdisconnect\u001b[0m\u001b[0;34m(\u001b[0m\u001b[0;34m)\u001b[0m\u001b[0;34m\u001b[0m\u001b[0;34m\u001b[0m\u001b[0m\n\u001b[0;32m--> 716\u001b[0;31m         \u001b[0mself\u001b[0m\u001b[0;34m.\u001b[0m\u001b[0m_open_connection\u001b[0m\u001b[0;34m(\u001b[0m\u001b[0;34m)\u001b[0m\u001b[0;34m\u001b[0m\u001b[0;34m\u001b[0m\u001b[0m\n\u001b[0m\u001b[1;32m    717\u001b[0m         \u001b[0mself\u001b[0m\u001b[0;34m.\u001b[0m\u001b[0m_post_connection\u001b[0m\u001b[0;34m(\u001b[0m\u001b[0;34m)\u001b[0m\u001b[0;34m\u001b[0m\u001b[0;34m\u001b[0m\u001b[0m\n\u001b[1;32m    718\u001b[0m \u001b[0;34m\u001b[0m\u001b[0m\n",
            "\u001b[0;32m/usr/local/lib/python3.7/dist-packages/mysql/connector/connection.py\u001b[0m in \u001b[0;36m_open_connection\u001b[0;34m(self)\u001b[0m\n\u001b[1;32m    204\u001b[0m         \u001b[0mself\u001b[0m\u001b[0;34m.\u001b[0m\u001b[0m_protocol\u001b[0m \u001b[0;34m=\u001b[0m \u001b[0mMySQLProtocol\u001b[0m\u001b[0;34m(\u001b[0m\u001b[0;34m)\u001b[0m\u001b[0;34m\u001b[0m\u001b[0;34m\u001b[0m\u001b[0m\n\u001b[1;32m    205\u001b[0m         \u001b[0mself\u001b[0m\u001b[0;34m.\u001b[0m\u001b[0m_socket\u001b[0m \u001b[0;34m=\u001b[0m \u001b[0mself\u001b[0m\u001b[0;34m.\u001b[0m\u001b[0m_get_connection\u001b[0m\u001b[0;34m(\u001b[0m\u001b[0;34m)\u001b[0m\u001b[0;34m\u001b[0m\u001b[0;34m\u001b[0m\u001b[0m\n\u001b[0;32m--> 206\u001b[0;31m         \u001b[0mself\u001b[0m\u001b[0;34m.\u001b[0m\u001b[0m_socket\u001b[0m\u001b[0;34m.\u001b[0m\u001b[0mopen_connection\u001b[0m\u001b[0;34m(\u001b[0m\u001b[0;34m)\u001b[0m\u001b[0;34m\u001b[0m\u001b[0;34m\u001b[0m\u001b[0m\n\u001b[0m\u001b[1;32m    207\u001b[0m         \u001b[0mself\u001b[0m\u001b[0;34m.\u001b[0m\u001b[0m_do_handshake\u001b[0m\u001b[0;34m(\u001b[0m\u001b[0;34m)\u001b[0m\u001b[0;34m\u001b[0m\u001b[0;34m\u001b[0m\u001b[0m\n\u001b[1;32m    208\u001b[0m         self._do_auth(self._user, self._password,\n",
            "\u001b[0;32m/usr/local/lib/python3.7/dist-packages/mysql/connector/network.py\u001b[0m in \u001b[0;36mopen_connection\u001b[0;34m(self)\u001b[0m\n\u001b[1;32m    507\u001b[0m             \u001b[0mself\u001b[0m\u001b[0;34m.\u001b[0m\u001b[0msock\u001b[0m \u001b[0;34m=\u001b[0m \u001b[0msocket\u001b[0m\u001b[0;34m.\u001b[0m\u001b[0msocket\u001b[0m\u001b[0;34m(\u001b[0m\u001b[0mself\u001b[0m\u001b[0;34m.\u001b[0m\u001b[0m_family\u001b[0m\u001b[0;34m,\u001b[0m \u001b[0msocktype\u001b[0m\u001b[0;34m,\u001b[0m \u001b[0mproto\u001b[0m\u001b[0;34m)\u001b[0m\u001b[0;34m\u001b[0m\u001b[0;34m\u001b[0m\u001b[0m\n\u001b[1;32m    508\u001b[0m             \u001b[0mself\u001b[0m\u001b[0;34m.\u001b[0m\u001b[0msock\u001b[0m\u001b[0;34m.\u001b[0m\u001b[0msettimeout\u001b[0m\u001b[0;34m(\u001b[0m\u001b[0mself\u001b[0m\u001b[0;34m.\u001b[0m\u001b[0m_connection_timeout\u001b[0m\u001b[0;34m)\u001b[0m\u001b[0;34m\u001b[0m\u001b[0;34m\u001b[0m\u001b[0m\n\u001b[0;32m--> 509\u001b[0;31m             \u001b[0mself\u001b[0m\u001b[0;34m.\u001b[0m\u001b[0msock\u001b[0m\u001b[0;34m.\u001b[0m\u001b[0mconnect\u001b[0m\u001b[0;34m(\u001b[0m\u001b[0msockaddr\u001b[0m\u001b[0;34m)\u001b[0m\u001b[0;34m\u001b[0m\u001b[0;34m\u001b[0m\u001b[0m\n\u001b[0m\u001b[1;32m    510\u001b[0m         \u001b[0;32mexcept\u001b[0m \u001b[0mIOError\u001b[0m \u001b[0;32mas\u001b[0m \u001b[0merr\u001b[0m\u001b[0;34m:\u001b[0m\u001b[0;34m\u001b[0m\u001b[0;34m\u001b[0m\u001b[0m\n\u001b[1;32m    511\u001b[0m             raise errors.InterfaceError(\n",
            "\u001b[0;31mKeyboardInterrupt\u001b[0m: "
          ]
        }
      ]
    },
    {
      "cell_type": "code",
      "metadata": {
        "id": "tcnb-noyOvgH"
      },
      "source": [
        "#********************************************************\n",
        "# Ingest Banned symbols from zerodha excel sheet into DB#\n",
        "#********************************************************\n",
        "import pandas as pd\n",
        "import requests as requests\n",
        "from progressbar import ProgressBar\n",
        "import mysql.connector\n",
        "from mysql.connector import Error\n",
        "import time\n",
        "\n",
        "# Connect to the database\n",
        "connection = mysql.connector.connect(host='johnny.heliohost.org',\n",
        "                                                database='akini_algotrade',\n",
        "                                                user='akini',\n",
        "                                                password='Drink7up@home')\n",
        "# create cursor\n",
        "cursor=connection.cursor()\n",
        "csvfile = requests.get('https://docs.google.com/spreadsheets/d/1ZTyh6GiHTwA1d-ApYdn5iCmRiBLZoAtwigS7VyLUk_Y/edit#gid=0')\n",
        "print(csvfile.status_code)\n",
        "# Insert DataFrame recrds one by one.\n",
        "df=pd.read_csv('https://docs.google.com/spreadsheets/d/1ZTyh6GiHTwA1d-ApYdn5iCmRiBLZoAtwigS7VyLUk_Y/export?format=csv&gid=0', usecols=[\"Stocks not allowed for MIS\"])\n",
        "pbar = ProgressBar()\n",
        "#truncate banned symbols table\n",
        "sql_truncate_table = \"truncate banned_symbols;\"\n",
        "cursor.execute(sql_truncate_table)\n",
        "connection.commit()\n",
        "time.sleep(10)\n",
        "#Prepare SQL query to INSERT a record into the database.\n",
        "for i,row in pbar(df.iterrows()):\n",
        "  sql_banned_symbols = \"INSERT INTO banned_symbols (symbol) VALUES ('%s');\" % (row[0])\n",
        "  try:\n",
        "    #Execute the SQL command\n",
        "    cursor.execute(sql_banned_symbols)\n",
        "    #Commit your changes in the database\n",
        "    connection.commit()\n",
        "  except Error as e:\n",
        "    cprint('-------------------------------','red')\n",
        "    print(\"Error while connecting to MySQL\", e)\n",
        "    cprint('-------------------------------','red')\n",
        "    connection.rollback()\n",
        "    #pbar.next()\n",
        "    pbar.finish()\n",
        "    break\n",
        "if (connection.is_connected()):\n",
        "              cursor.close()\n",
        "              connection.close()\n",
        "cprint(\">>>>>>>>>>\\nDONE\\n>>>>>>>>>>\",'green')"
      ],
      "execution_count": null,
      "outputs": []
    },
    {
      "cell_type": "code",
      "metadata": {
        "id": "c9eKJeMSoVuU"
      },
      "source": [
        "#********************************************\n",
        "# download and insert sector indices symbols#\n",
        "#********************************************\n",
        "import requests, os, io, pandas as pd\n",
        "from datetime import datetime\n",
        "import csv\n",
        "import glob\n",
        "import mysql.connector\n",
        "from mysql.connector import Error\n",
        "from progressbar import ProgressBar\n",
        "from termcolor import colored, cprint\n",
        "import time\n",
        "\n",
        "#https://honingds.com/blog/pandas-read_csv/#indexcol\n",
        "#set the path to where the bhavcopies will be downloaded\n",
        "base = '/content/drive/My Drive/algotrade/'\n",
        "today = datetime.today().date()\n",
        "d, m, y = '%02d' % today.day, '%02d' % today.month, '%02d' % today.year #extract day , month and year from  he date\n",
        "\n",
        "if not os.path.isdir(base+y+'/sectors'):#if there is no directory already present at the path with the year as a folder then create it\n",
        "      os.mkdir(base+y+'/sectors')\n",
        "\n",
        "#add a not condition to the below to skip over it.\n",
        "if os.path.exists(base+y+'/sectors'):\n",
        "  for CleanUp in glob.glob(base+y+'/sectors/*.*'): # list out the files\n",
        "    os.remove(CleanUp) #remove files in the folder\n",
        "  #download automobile csv\n",
        "  indices_automobile = requests.get('https://archives.nseindia.com/content/indices/ind_niftyautolist.csv').content\n",
        "  aut_csv = pd.read_csv(io.StringIO(indices_automobile.decode('utf-8'))) #reading content of indices csv and storing in DataFrame using io module\n",
        "  aut_csv.to_csv(base+y+'/sectors/'+y+'-'+m+'-'+d+'_automobile.csv', index=False)\n",
        "  #download Bank csv\n",
        "  indices_bank = requests.get('https://archives.nseindia.com/content/indices/ind_niftybanklist.csv').content\n",
        "  sec_bank_csv = pd.read_csv(io.StringIO(indices_bank.decode('utf-8'))) #reading content of indices csv and storing in DataFrame using io module\n",
        "  sec_bank_csv.to_csv(base+y+'/sectors/'+y+'-'+m+'-'+d+'_bank.csv', index=False)\n",
        "  #download sec_consumer_durable csv\n",
        "  indices_consumer_durable = requests.get('https://archives.nseindia.com/content/indices/ind_niftyconsumerdurableslist.csv').content\n",
        "  sec_consumer_durable_csv = pd.read_csv(io.StringIO(indices_consumer_durable.decode('utf-8'))) #reading content of indices csv and storing in DataFrame using io module\n",
        "  sec_consumer_durable_csv.to_csv(base+y+'/sectors/'+y+'-'+m+'-'+d+'_consumer_durable.csv', index=False)\n",
        "  #download financial services csv\n",
        "  indices_fin_serv = requests.get('https://archives.nseindia.com/content/indices/ind_niftyfinancelist.csv').content\n",
        "  sec_fin_serv_csv = pd.read_csv(io.StringIO(indices_fin_serv.decode('utf-8'))) #reading content of indices csv and storing in DataFrame using io module\n",
        "  sec_fin_serv_csv.to_csv(base+y+'/sectors/'+y+'-'+m+'-'+d+'_fin_serv.csv', index=False)\n",
        "  #download fmcg csv\n",
        "  indices_fmcg = requests.get('https://archives.nseindia.com/content/indices/ind_niftyfmcglist.csv').content\n",
        "  sec_fmcg_csv = pd.read_csv(io.StringIO(indices_fmcg.decode('utf-8'))) #reading content of indices csv and storing in DataFrame using io module\n",
        "  sec_fmcg_csv.to_csv(base+y+'/sectors/'+y+'-'+m+'-'+d+'_fmcg.csv', index=False)\n",
        "  #download IT csv\n",
        "  indices_it = requests.get('https://archives.nseindia.com/content/indices/ind_niftyitlist.csv').content\n",
        "  sec_it_csv = pd.read_csv(io.StringIO(indices_it.decode('utf-8'))) #reading content of indices csv and storing in DataFrame using io module\n",
        "  sec_it_csv.to_csv(base+y+'/sectors/'+y+'-'+m+'-'+d+'_it.csv', index=False)\n",
        "  #download media csv\n",
        "  indices_media = requests.get('https://archives.nseindia.com/content/indices/ind_niftymedialist.csv').content\n",
        "  sec_media_csv = pd.read_csv(io.StringIO(indices_media.decode('utf-8'))) #reading content of indices csv and storing in DataFrame using io module\n",
        "  sec_media_csv.to_csv(base+y+'/sectors/'+y+'-'+m+'-'+d+'_media.csv', index=False)\n",
        "  #download metal csv\n",
        "  indices_metal = requests.get('https://archives.nseindia.com/content/indices/ind_niftymetallist.csv').content\n",
        "  sec_metal_csv = pd.read_csv(io.StringIO(indices_metal.decode('utf-8'))) #reading content of indices csv and storing in DataFrame using io module\n",
        "  sec_metal_csv.to_csv(base+y+'/sectors/'+y+'-'+m+'-'+d+'_metal.csv', index=False)\n",
        "  #download oil_gas csv\n",
        "  indices_oil_gas = requests.get('https://www1.nseindia.com/content/indices/ind_niftyoilgaslist.csv').content\n",
        "  sec_oil_gas_csv = pd.read_csv(io.StringIO(indices_oil_gas.decode('utf-8'))) #reading content of indices csv and storing in DataFrame using io module\n",
        "  sec_oil_gas_csv.to_csv(base+y+'/sectors/'+y+'-'+m+'-'+d+'_oil_gas.csv', index=False)\n",
        "  #download pharma csv\n",
        "  indices_pharma = requests.get('https://archives.nseindia.com/content/indices/ind_niftypharmalist.csv').content\n",
        "  sec_pharma_csv = pd.read_csv(io.StringIO(indices_pharma.decode('utf-8'))) #reading content of indices csv and storing in DataFrame using io module\n",
        "  sec_pharma_csv.to_csv(base+y+'/sectors/'+y+'-'+m+'-'+d+'_pharma.csv', index=False)\n",
        "  #download realty csv\n",
        "  indices_realty = requests.get('https://archives.nseindia.com/content/indices/ind_niftyrealtylist.csv').content\n",
        "  sec_realty_csv = pd.read_csv(io.StringIO(indices_realty.decode('utf-8'))) #reading content of indices csv and storing in DataFrame using io module\n",
        "  sec_realty_csv.to_csv(base+y+'/sectors/'+y+'-'+m+'-'+d+'_realty.csv', index=False)\n",
        "\n",
        "#truncate sector_indice_symbols table\n",
        "sql_truncate_table = \"truncate sector_indice_symbols;\"\n",
        "cursor.execute(sql_truncate_table)\n",
        "connection.commit()\n",
        "time.sleep(10)\n",
        "#list out the files in the sector folder\n",
        "for files in glob.glob(base+y+'/sectors/*.*'):\n",
        "  print('\\nIngesting sectoral CSV '+files)\n",
        "  try:\n",
        "    connection = mysql.connector.connect(host='johnny.heliohost.org',\n",
        "                                        database='akini_algotrade',\n",
        "                                        user='akini',\n",
        "                                        password='Drink7up@home')\n",
        "    \n",
        "    db_Info = connection.get_server_info()\n",
        "    print(\"\\nConnected to MySQL Server version\", db_Info)\n",
        "    cursor = connection.cursor()\n",
        "    cursor.execute(\"select database();\")\n",
        "    record = cursor.fetchone()\n",
        "    cursor.fast_executemany = True\n",
        "    with open(files, newline='',  encoding=\"utf8\") as csvfile:\n",
        "      csvdata = csv.reader(csvfile, escapechar=\"\\'\")\n",
        "      #skip the 1st row as it will be header\n",
        "      next(csvdata)\n",
        "      pbar = ProgressBar()\n",
        "      for row in pbar(list(csvdata)):\n",
        "      #Prepare SQL query to INSERT a record into the database.\n",
        "        sql= \"INSERT INTO sector_indice_symbols (company_name,sector, symbol) \\\n",
        "        VALUES ('%s','%s','%s');\" % (row[0], row[1], row[2])\n",
        "        try:\n",
        "          #Execute the SQL command\n",
        "          cursor.execute(sql)\n",
        "          #Commit your changes in the database\n",
        "          connection.commit()\n",
        "        except Error as e:\n",
        "          cprint('-------------------------------','red')\n",
        "          print(\"Error while connecting to MySQL\", e)\n",
        "          cprint('-------------------------------','red')\n",
        "          connection.rollback()\n",
        "          #pbar.next()\n",
        "          pbar.finish()\n",
        "          break\n",
        "  except Error as e:\n",
        "    cprint('-------------------------------','red')\n",
        "    print(\"Error while connecting to MySQL\", e)\n",
        "    cprint('-------------------------------','red')\n",
        "    break\n",
        "cprint(\">>>>>>>>>>\\nDONE\\n>>>>>>>>>>\",'green')\n",
        "if (connection.is_connected()):\n",
        "              cursor.close()\n",
        "              connection.close()"
      ],
      "execution_count": null,
      "outputs": []
    },
    {
      "cell_type": "code",
      "metadata": {
        "id": "E5_XYgsBbVhQ"
      },
      "source": [
        "#empty Folder\n",
        "import pandas as pd\n",
        "import glob, os,io\n",
        "\n",
        "base = '/content/drive/My Drive/algotrade/2020'\n",
        "for CleanUp in glob.glob(base+'/Futures/*.*'): # list out the files\n",
        "#  os.remove(CleanUp) #remove files in the folder"
      ],
      "execution_count": null,
      "outputs": []
    },
    {
      "cell_type": "code",
      "metadata": {
        "id": "Ky43YYVp770w"
      },
      "source": [
        ""
      ],
      "execution_count": null,
      "outputs": []
    },
    {
      "cell_type": "code",
      "metadata": {
        "id": "3rgFarplQkfR"
      },
      "source": [
        ""
      ],
      "execution_count": null,
      "outputs": []
    },
    {
      "cell_type": "markdown",
      "metadata": {
        "id": "zKwZG2hlmvyD"
      },
      "source": [
        "####################\n",
        "#Remote MySQl Creds#\n",
        "####################\n",
        "Username: 7FUybt81z6\n",
        "Database name: 7FUybt81z6\n",
        "Password: cvn1KKOijU\n",
        "Server: remotemysql.com\n",
        "Port: 3306\n",
        "\n",
        "#################################################\n",
        "#Kini's Out of control Strategy Stocks and FOREX#\n",
        "#################################################\n",
        "SELECT symbol, open, high, low, close, bhavcopydate, tottrdqty,deliverable, deliverable_percent\n",
        "  FROM bhavcopy \n",
        "  where bhavcopydate >= date_sub(curdate(),interval 10 day)\n",
        "  and close between 150 and 1000\n",
        "  and symbol not in (select symbol from banned_symbols)\n",
        " \n",
        "  SELECT symbol, max(high), min(low), stddev(high-low) stddev,avg((high-low)/open) as VFM, \n",
        "  avg(high-low),(avg(high-low)+stddev(high-low)) UCL, high-low, (avg(high-low)-stddev(high-low)) LCL\n",
        "  FROM bhavcopy\n",
        "  where bhavcopydate >= date_sub(curdate(),interval 10 day)\n",
        "  #and symbol='ASAHISONG'\n",
        "  group by symbol;\n",
        "##################################################\n",
        "#Kini's Out of control Strategy Forex #\n",
        "SELECT symbol, open, high, low, close, exp_date, open_int, trd_qty, bhavcopydate\n",
        "  FROM forex\n",
        "  where bhavcopydate >= curdate()-10\n",
        "  and exp_date between '2020-08-01' and '2020-09-01'\n",
        "\n",
        "SELECT symbol, open high, low, close, bhavcopydate, stddev(high-low) stddev, variance(high-low) var, avg(high-low),(avg(high-low)+stddev(high-low)) UCL, high-low, (avg(high-low)-stddev(high-low)) LCL\n",
        "  FROM forex \n",
        "  where bhavcopydate >= curdate()-10\n",
        "  group by symbol\n",
        "##################################################  \n",
        "\n",
        "\n",
        "#############################################\n",
        "#max upside or downside potential of a stock#\n",
        "#############################################\n",
        "SELECT symbol,AVG(uspot_array.uspot) as median_upside_potential_percent\n",
        "FROM (\n",
        "SELECT symbol,(high-open) as uspot, @rownum:=@rownum+1 as `row_number`, @total_rows:=@rownum\n",
        "  FROM bhavcopy , (SELECT @rownum:=0) r\n",
        "  WHERE symbol = 'geship'\n",
        "  and \n",
        "  bhavcopydate >= date_sub(curdate(),interval 7 day)\n",
        "  ORDER BY uspot\n",
        ") as uspot_array\n",
        "WHERE uspot_array.row_number IN ( FLOOR((@total_rows+1)/2), FLOOR((@total_rows+2)/2) )\n",
        "\n",
        "SELECT symbol,AVG(dspot_array.dspot) as median_downside_potential_percent\n",
        "FROM (\n",
        "SELECT symbol,(low-open) as dspot, @rownum:=@rownum+1 as `row_number`, @total_rows:=@rownum\n",
        "  FROM bhavcopy , (SELECT @rownum:=0) r\n",
        "  WHERE symbol='geship'\n",
        "  and bhavcopydate >= date_sub(curdate(),interval 7 day)\n",
        "  ORDER BY dspot\n",
        ") as dspot_array\n",
        "WHERE dspot_array.row_number IN ( FLOOR((@total_rows+1)/2), FLOOR((@total_rows+2)/2) );\n",
        "\n",
        "#############################################\n",
        "#max upside or downside potential of forex#\n",
        "#############################################\n",
        "#############################################\n",
        "#max upside or downside potential of forex#\n",
        "#############################################\n",
        "SELECT AVG(uspot_array.uspot) as median_upside_potential_in_Paisa\n",
        "FROM (\n",
        "SELECT (high-open) as uspot, @rownum:=@rownum+1 as `row_number`, @total_rows:=@rownum\n",
        "  FROM forex , (SELECT @rownum:=0) r\n",
        "  WHERE symbol='GBPINR' and exp_date between '2021-06-01' and '2021-07-01'\n",
        "  and bhavcopydate >= date_sub(curdate(),interval 9 day)\n",
        "  ORDER BY uspot\n",
        ") as uspot_array\n",
        "WHERE uspot_array.row_number IN ( FLOOR((@total_rows+1)/2), FLOOR((@total_rows+2)/2) );\n",
        "\n",
        "SELECT AVG(dspot_array.dspot) as median_downside_potential_in_Paisa\n",
        "FROM (\n",
        "SELECT (low-open) as dspot, @rownum:=@rownum+1 as `row_number`, @total_rows:=@rownum\n",
        "  FROM forex , (SELECT @rownum:=0) r\n",
        "  WHERE symbol='GBPINR'  and exp_date between '2021-06-01' and '2021-07-01'\n",
        "  and bhavcopydate >= date_sub(curdate(),interval 9 day)\n",
        "  ORDER BY dspot\n",
        ") as dspot_array\n",
        "WHERE dspot_array.row_number IN ( FLOOR((@total_rows+1)/2), FLOOR((@total_rows+2)/2) );\n",
        "\n",
        "#############################################\n",
        "# volume growth                              #\n",
        "#############################################\n",
        "select symbol,bhavcopydate, if(@last_entry = 0, 0, round(((tottrdqty - @last_entry) / @last_entry) * 100,2)) \"growth rate\", @last_entry := tottrdqty from (select @last_entry := 0) x, (select symbol,tottrdqty, bhavcopydate,delivery_percent from bhavcopy where bhavcopydate >=now() - INTERVAL 7 day and symbol='acc') y;\n",
        "\n",
        "select symbol,bhavcopydate, if(@last_entry = 0, 0, round(((trd_qty - @last_entry) / @last_entry) * 100,2)) \"growth rate\", @last_entry := trd_qty from (select @last_entry := 0) x, (select symbol,trd_qty, bhavcopydate from forex where bhavcopydate >= now() - INTERVAL 7 day and exp_date between '2021-08-01' and '2021-09-01' and symbol='GBPINR') y;\n",
        "\n",
        "###########################################################  \n",
        "# most volatile stocks in the database in the last 10 days#\n",
        "###########################################################\n",
        "SELECT symbol,CLOSE,`bhavcopydate`, VARIANCE(high-low) var \n",
        "  FROM bhavcopy \n",
        "  where `tottrdqty`> '1000000'\n",
        "  and CLOSE between 50 and 200\n",
        "  and `bhavcopydate` >= date_sub(curdate(),interval 10 day)\n",
        "  and symbol in (select DISTINCT symbol from futures)\n",
        "  GROUP BY symbol  \n",
        "ORDER BY `var`  DESC\n",
        "\n",
        "#######################################################################\n",
        "#Max High and low in the last 5 trading sessions , they are KEY levels#\n",
        "#######################################################################\n",
        "\n",
        "select symbol, max(high), min(low) from bhavcopy\n",
        "where bhavcopydate >= date_sub(curdate(),interval 7 day)\n",
        "and symbol in ('PETRONET','GSPL','SBIN','TVSMOTOR','RBLBANK','TATASTEEL')\n",
        "group by symbol"
      ]
    },
    {
      "cell_type": "code",
      "metadata": {
        "id": "TYFOTK0Ez2gF"
      },
      "source": [
        "//@version=4\n",
        "study(shorttitle=\"AVCA MA+NR\", title=\"2 Moving Average Color Direction Detection \", overlay=true)\n",
        "\n",
        "// === INPUTS\n",
        "\n",
        "ma_1 = input(true, title=\"Slow-MA\")\n",
        "ma_type   = input(defval=\"EMA\", title=\"Slow-MA Type: \", options=[\"SMA\", \"EMA\", \"WMA\", \"VWMA\", \"SMMA\", \"DEMA\", \"TEMA\", \"HullMA\", \"ZEMA\", \"TMA\", \"SSMA\"])\n",
        "ma_len    = input(defval=25, title=\"Slow-MA Length\", minval=1)\n",
        "ma_src    = input(close, title=\"Slow-MA Source\")\n",
        "reaction_ma_1  = input(defval=3, title=\"Slow-MA Reaction\", minval=1)\n",
        "\n",
        "ma_2 = input(true, title=\"Fast-MA\")\n",
        "ma_type_b   = input(defval=\"EMA\", title=\"Fast-MA Type: \", options=[\"SMA\", \"EMA\", \"WMA\", \"VWMA\", \"SMMA\", \"DEMA\", \"TEMA\", \"HullMA\", \"ZEMA\", \"TMA\", \"SSMA\"])\n",
        "ma_len_b    = input(defval=9, title=\"Fast-MA Length\", minval=1)\n",
        "ma_src_b    = input(close, title=\"Fast-MA Source\")\n",
        "reaction_ma_2  = input(defval=3, title=\"Fast-MA Reaction\", minval=1)\n",
        "\n",
        "filling = input(true, title=\"Shade the area between Fast and Slow EMA\")\n",
        "\n",
        "// SuperSmoother filter\n",
        "// © 2013  John F. Ehlers\n",
        "variant_supersmoother(src,len) =>\n",
        "    a1 = exp(-1.414*3.14159 / len)\n",
        "    b1 = 2*a1*cos(1.414*3.14159 / len)\n",
        "    c2 = b1\n",
        "    c3 = (-a1)*a1\n",
        "    c1 = 1 - c2 - c3\n",
        "    v9 = 0.0\n",
        "    v9 := c1*(src + nz(src[1])) / 2 + c2*nz(v9[1]) + c3*nz(v9[2])\n",
        "    v9\n",
        "    \n",
        "variant_smoothed(src,len) =>\n",
        "    v5 = 0.0\n",
        "    v5 := na(v5[1]) ? sma(src, len) : (v5[1] * (len - 1) + src) / len\n",
        "    v5\n",
        "\n",
        "variant_zerolagema(src,len) =>\n",
        "    ema1 = ema(src, len)\n",
        "    ema2 = ema(ema1, len)\n",
        "    v10 = ema1+(ema1-ema2)\n",
        "    v10\n",
        "    \n",
        "variant_doubleema(src,len) =>\n",
        "    v2 = ema(src, len)\n",
        "    v6 = 2 * v2 - ema(v2, len)\n",
        "    v6\n",
        "\n",
        "variant_tripleema(src,len) =>\n",
        "    v2 = ema(src, len)\n",
        "    v7 = 3 * (v2 - ema(v2, len)) + ema(ema(v2, len), len)             \n",
        "    v7\n",
        "    \n",
        "variant(type, src, len) =>\n",
        "    type==\"EMA\"     ? ema(src,len) : \n",
        "      type==\"WMA\"   ? wma(src,len): \n",
        "      type==\"VWMA\"  ? vwma(src,len) : \n",
        "      type==\"SMMA\"  ? variant_smoothed(src,len) : \n",
        "      type==\"DEMA\"  ? variant_doubleema(src,len): \n",
        "      type==\"TEMA\"  ? variant_tripleema(src,len): \n",
        "      type==\"HullMA\"? wma(2 * wma(src, len / 2) - wma(src, len), round(sqrt(len))) :\n",
        "      type==\"SSMA\"  ? variant_supersmoother(src,len) : \n",
        "      type==\"ZEMA\"  ? variant_zerolagema(src,len) : \n",
        "      type==\"TMA\"   ? sma(sma(src,len),len) : sma(src,len)\n",
        "\n",
        "\n",
        "// === Moving Average\n",
        "ma_series = variant(ma_type,ma_src,ma_len)\n",
        "ma_series_b = variant(ma_type_b,ma_src_b,ma_len_b)\n",
        "\n",
        "direction = 0\n",
        "direction := rising(ma_series,reaction_ma_1) ? 1 : falling(ma_series,reaction_ma_1) ? -1 : nz(direction[1])\n",
        "change_direction= change(direction,1)\n",
        "\n",
        "direction_b = 0\n",
        "direction_b := rising(ma_series_b,reaction_ma_2) ? 1 : falling(ma_series_b,reaction_ma_2) ? -1 : nz(direction_b[1])\n",
        "change_direction_b= change(direction_b,1)\n",
        "\n",
        "// Plot MA series and color it according too direction\n",
        "pcol = direction>0 ? color.green : direction<0 ? color.red : na\n",
        "a=plot( timeframe.isdaily and ma_1? ma_series :na, color=pcol,join=true,linewidth=2,title=\"Slow-MA Plot\")\n",
        "\n",
        "pcol_b = direction_b>0 ? color.green : direction_b<0 ? color.red : na\n",
        "b=plot( timeframe.isdaily and ma_2? ma_series_b :na, color=pcol_b,join=true,linewidth=1,title=\"Fast-MA Plot\")\n",
        "\n",
        "fill(a,b,color=direction==1 and direction_b==1 and filling == true?color.green:direction==-1 and direction_b==-1and filling == true?color.red:direction==1 and direction_b==-1and filling == true?color.new(color.purple,70):direction==-1 and direction_b==1and filling == true?color.new(color.purple,70):color.white)\n",
        "\n",
        "/////// Alerts ///////\n",
        "\n",
        "alertcondition(change_direction,title=\"Change Direction Slow-MA\",message=\"Change Direction Slow-MA\")\n",
        "alertcondition(change_direction_b,title=\"Change Direction Fast-MA\",message=\"Change Direction Fast-MA\")\n",
        "\n",
        "alertcondition(crossunder(ma_series_b,ma_series),title=\"Cross Under Fast-MA/Slow-MA\",message=\"Cross Under Fast-MA/Slow-MA\")\n",
        "alertcondition(crossunder(ma_series,ma_series_b),title=\"Cross Under Slow-MA/Fast-MA\",message=\"Cross Under Slow-MA/Fast-MA\")\n",
        "\n",
        "alertcondition(crossover(ma_series_b,ma_series),title=\"Cross Over Fast-MA/Slow-MA\",message=\"Cross Over Fast-MA/Slow-MA\")\n",
        "alertcondition(crossover(ma_series,ma_series_b),title=\"Cross Over Slow-MA/Fast-MA\",message=\"Cross Over Slow-MA/Fast-MA\")\n",
        "\n",
        "alertcondition(cross(ma_series_b,ma_series),title=\"Cross Slow-MA/Fast-MA\",message=\"Cross Slow-MA/Fast-MA\")\n",
        "\n",
        "//PLOT NR7\n",
        "tOpen = security(syminfo.tickerid, timeframe.period, open, barmerge.gaps_off, barmerge.lookahead_on)\n",
        "tHigh = security(syminfo.tickerid, timeframe.period, high, barmerge.gaps_off, barmerge.lookahead_on)\n",
        "tLow = security(syminfo.tickerid, timeframe.period, low, barmerge.gaps_off, barmerge.lookahead_on)\n",
        "tClose = security(syminfo.tickerid, timeframe.period, close, barmerge.gaps_off, barmerge.lookahead_on)\n",
        "\n",
        "\n",
        "enableNR = input(false, title=\"Show Narrow Range (NR) 4, 7, 21 ?\")\n",
        "enableNRIB = input(true, title=\"Show Narrow Range (NR) 4, 7, 21 + Inside Day ?\", tooltip=\"NR 4, 7, 21 + Inside Bars ?\")\n",
        "\n",
        "// Narrow Range 21\n",
        "length_NR21 = 21\n",
        "NR_Check(range) =>\n",
        "    range < lowest(range, length_NR21 - 1)[1] ? true : false\n",
        "\n",
        "range_NR_Prep = tHigh - tLow\n",
        "range_NR = tHigh[1] - tLow[1]\n",
        "range_isCurrentLowest = NR_Check(range_NR_Prep)\n",
        "nr21ib = range_isCurrentLowest and high<=high[1] and low>=low[1]\n",
        "\n",
        "// NR 4 and NR 7\n",
        "nr4 = (tr <= tr[1]) and (tr <= tr[2]) and (tr <= tr[3])\n",
        "nr7 = nr4 and (tr <= tr[4]) and (tr <= tr[5]) and (tr <= tr[6])\n",
        "\n",
        "//NR 4 and NR 7 + Inside Bars\n",
        "nr4ib = (tr <= tr[1]) and (tr <= tr[2]) and (tr <= tr[3])\n",
        "     and (high<=high[1] and low>=low[1])\n",
        "\n",
        "nr7ib = nr4ib and (tr <= tr[4]) and (tr <= tr[5]) and (tr <= tr[6])\n",
        "     and (high<=high[1] and low>=low[1])\n",
        "\n",
        "barcolor(enableNR and range_isCurrentLowest? color.black : na, title= \"Narrow Range 21\", offset = 0, editable = true)\n",
        "barcolor(enableNR and nr7? color.orange : na, title= \"Narrow range 7\", offset = 0, editable = true)\n",
        "barcolor(enableNR and nr4? color.yellow : na, title= \"Narrow range 4\", offset = 0, editable = true)\n",
        "\n",
        "plotshape(enableNRIB and nr4ib and timeframe.isdaily, title= \"NR 4 + Inside Bars\", location=location.belowbar, color=color.yellow, style=shape.labelup,text='NR4+IC', textcolor=color.black, size=size.small)\n",
        "plotshape(enableNRIB and nr7ib and timeframe.isdaily, title= \"NR 7 + Inside Bars\", location=location.belowbar, color=color.orange, style=shape.labelup,text='NR7+IC', textcolor=color.black, size=size.small)\n",
        "plotshape(enableNRIB and nr21ib and timeframe.isdaily, title= \"NR 21 + Inside Bars\", location=location.abovebar, style = shape.labeldown, color =color.black ,text='NR21+IC', textcolor=color.white, size=size.small)\n",
        "\n",
        "// Colored background\n",
        "timeinrange(res, sess) => time(res, sess) != 0\n",
        "premarket = #FFD68A\n",
        "regular = #BDBF00\n",
        "postmarket = #FFD68A\n",
        "color notrading = na\n",
        "sessioncolor = timeinrange(\"30\", \"0230-0330\") ? premarket :\n",
        "  timeinrange(\"30\", \"0330-1130\") ? regular :\n",
        "  timeinrange(\"30\", \"1130-1530\") ? postmarket : notrading\n",
        "bgcolor(sessioncolor, transp=75)\n",
        "\n",
        "//phigh, plow\n",
        "useColors = input(title=\"Fill with colors?\",defval=true)\n",
        "isess = session.regular\n",
        "t = tickerid(syminfo.prefix, syminfo.ticker, session=isess)\n",
        "igaps = barmerge.gaps_off\n",
        "yesterdayHigh = security(t,\"D\",high[1],gaps=igaps, lookahead=barmerge.lookahead_on)\n",
        "yesterdayLow = security(t,\"D\",low[1],gaps=igaps, lookahead=barmerge.lookahead_on)\n",
        "\n",
        "// Plot the other time frame's data\n",
        "a_hl=plot(timeframe.isintraday ? yesterdayHigh : na, color=color.lime, linewidth=1, style=plot.style_linebr)\n",
        "b_hl=plot(timeframe.isintraday ? yesterdayLow : na, color=color.red, linewidth=1, style=plot.style_linebr)\n",
        "fill(a_hl,b_hl,color=(useColors? close>yesterdayHigh ? color.green : (close < yesterdayLow ? color.red : color.blue) : color.white)  )"
      ],
      "execution_count": null,
      "outputs": []
    },
    {
      "cell_type": "code",
      "metadata": {
        "id": "tcgwJNoUhTE4"
      },
      "source": [
        "from google.colab import drive\n",
        "drive.mount('/content/drive')"
      ],
      "execution_count": null,
      "outputs": []
    }
  ]
}