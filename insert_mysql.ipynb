{
  "nbformat": 4,
  "nbformat_minor": 0,
  "metadata": {
    "colab": {
      "name": "insert_mysql.ipynb",
      "provenance": [],
      "mount_file_id": "1_khmA06aoFS2mGqOdo955pzzjYJ2GDJG",
      "authorship_tag": "ABX9TyN+d86QGhhKrbn8G3A0bTA/",
      "include_colab_link": true
    },
    "kernelspec": {
      "name": "python3",
      "display_name": "Python 3"
    }
  },
  "cells": [
    {
      "cell_type": "markdown",
      "metadata": {
        "id": "view-in-github",
        "colab_type": "text"
      },
      "source": [
        "<a href=\"https://colab.research.google.com/github/adithyakini/algo_intraday/blob/master/insert_mysql.ipynb\" target=\"_parent\"><img src=\"https://colab.research.google.com/assets/colab-badge.svg\" alt=\"Open In Colab\"/></a>"
      ]
    },
    {
      "cell_type": "code",
      "metadata": {
        "id": "-7RMYXywKsVT",
        "colab_type": "code",
        "colab": {}
      },
      "source": [
        "#connect to MySQL db in https://johnny.heliohost.org:2083/ UN \n",
        "# pip install mysql-connector-python\n",
        "#https://pynative.com/python-mysql-database-connection/\n",
        "\n",
        "import requests, os, pandas as pd\n",
        "import mysql.connector\n",
        "import pymysql\n",
        "from mysql.connector import Error\n",
        "from datetime import datetime\n",
        "import csv\n",
        "\n",
        "base = '/content/drive/My Drive/algotrade/'\n",
        "dmonth={'01':'JAN','02':'FEB','03':'MAR','04':'APR','05':'MAY','06':'JUN','07':'JUL','08':'AUG','09':'SEP','10':'OCT','11':'NOV','12':'DEC'}\n",
        "ltdl = open(base+'bhavcopy_date.txt','r')\n",
        "lastdt = ltdl.read(10)\n",
        "ltdl.close()\n",
        "lastdt = datetime.strptime(lastdt,'%Y-%m-%d')\n",
        "d, m, y = '%02d' % lastdt.day, '%02d' % lastdt.month, '%02d' % lastdt.year\n",
        "\n",
        "#read CSV file\n",
        "if os.path.exists(base+y):\n",
        "  try:\n",
        "    connection = mysql.connector.connect(host='johnny.heliohost.org',\n",
        "                                         database='akini_algotrade',\n",
        "                                         user='akini',\n",
        "                                         password='Drink7up@home')\n",
        "    if connection.is_connected():\n",
        "        db_Info = connection.get_server_info()\n",
        "        print(\"Connected to MySQL Server version \", db_Info)\n",
        "        cursor = connection.cursor()\n",
        "        cursor.execute(\"select database();\")\n",
        "        record = cursor.fetchone()\n",
        "        print(\"You're connected to database: \", record)\n",
        "      \n",
        "        with open(base+y+'/'+y+'-'+m+'-'+d+'.csv', newline='',  encoding=\"utf8\") as csvfile:\n",
        "          csvdata = csv.reader(csvfile)\n",
        "          #skip the 1st row as it will be header\n",
        "          next(csvdata)\n",
        "\n",
        "          for row in csvdata:\n",
        "            # Prepare SQL query to INSERT a record into the database.\n",
        "            sql = \"INSERT INTO bhavcopy (symbol, bhavcopydate, open, high, low, close, tottrdqty, deliverable, deliverable_percent) VALUES ('%s', '%s','%s', '%s','%s', '%s', '%s', '%s','%s');\" % (row[0], row[1], row[2], row[3], row[4], row[5], row[6], row[7], row[8])\n",
        "            print(sql)\n",
        "\n",
        "            try:\n",
        "               # Execute the SQL command\n",
        "               cursor.execute(sql)\n",
        "               # Commit your changes in the database\n",
        "               connection.commit()\n",
        "            except Error as e:\n",
        "              print(\"Error while connecting to MySQL\", e)\n",
        "              connection.rollback()\n",
        "            finally:\n",
        "              cursor.close()\n",
        "              connection.close()\n",
        "              print(\"MySQL connection is closed\")\n",
        "\n",
        "  except Error as e:\n",
        "    print(\"Error while connecting to MySQL\", e)\n",
        "  finally:\n",
        "    if (connection.is_connected()):\n",
        "      cursor.close()\n",
        "      connection.close()\n",
        "      print(\"MySQL connection is closed\")\n"
      ],
      "execution_count": null,
      "outputs": []
    },
    {
      "cell_type": "code",
      "metadata": {
        "id": "m_pt1xSIK4_A",
        "colab_type": "code",
        "colab": {
          "base_uri": "https://localhost:8080/",
          "height": 102
        },
        "outputId": "386775fd-0f60-46d1-b165-ca49362ebbad"
      },
      "source": [
        "pip install pymysql --target=$nb_path pymysql"
      ],
      "execution_count": 42,
      "outputs": [
        {
          "output_type": "stream",
          "text": [
            "Collecting pymysql\n",
            "\u001b[?25l  Downloading https://files.pythonhosted.org/packages/ed/39/15045ae46f2a123019aa968dfcba0396c161c20f855f11dea6796bcaae95/PyMySQL-0.9.3-py2.py3-none-any.whl (47kB)\n",
            "\r\u001b[K     |██████▉                         | 10kB 12.9MB/s eta 0:00:01\r\u001b[K     |█████████████▊                  | 20kB 3.0MB/s eta 0:00:01\r\u001b[K     |████████████████████▋           | 30kB 3.7MB/s eta 0:00:01\r\u001b[K     |███████████████████████████▌    | 40kB 3.9MB/s eta 0:00:01\r\u001b[K     |████████████████████████████████| 51kB 2.3MB/s \n",
            "\u001b[?25hInstalling collected packages: pymysql\n",
            "Successfully installed pymysql-0.9.3\n"
          ],
          "name": "stdout"
        }
      ]
    },
    {
      "cell_type": "code",
      "metadata": {
        "id": "MNRpw6vXLITh",
        "colab_type": "code",
        "colab": {}
      },
      "source": [
        "import os, sys\n",
        "from google.colab import drive\n",
        "drive.mount('/content/mnt')\n",
        "nb_path = '/content/notebooks'\n",
        "os.symlink('/content/mnt/My Drive/Colab Notebooks', nb_path)\n",
        "sys.path.insert(0, nb_path)  # or append(nb_path)"
      ],
      "execution_count": null,
      "outputs": []
    }
  ]
}