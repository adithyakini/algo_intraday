{
  "nbformat": 4,
  "nbformat_minor": 0,
  "metadata": {
    "colab": {
      "name": "insert_mysql.ipynb",
      "provenance": [],
      "mount_file_id": "1_khmA06aoFS2mGqOdo955pzzjYJ2GDJG",
      "authorship_tag": "ABX9TyN81yVaZkpDqFmtdPF2H8a2",
      "include_colab_link": true
    },
    "kernelspec": {
      "name": "python3",
      "display_name": "Python 3"
    }
  },
  "cells": [
    {
      "cell_type": "markdown",
      "metadata": {
        "id": "view-in-github",
        "colab_type": "text"
      },
      "source": [
        "<a href=\"https://colab.research.google.com/github/adithyakini/algo_intraday/blob/master/insert_mysql.ipynb\" target=\"_parent\"><img src=\"https://colab.research.google.com/assets/colab-badge.svg\" alt=\"Open In Colab\"/></a>"
      ]
    },
    {
      "cell_type": "code",
      "metadata": {
        "id": "LHrxN1zxM6d_",
        "colab_type": "code",
        "colab": {}
      },
      "source": [
        "import csv\n",
        "import MySQLdb\n",
        "\n",
        "mydb = MySQLdb.connect(host='localhost',\n",
        "    user='root',\n",
        "    passwd='',\n",
        "    db='mydb')\n",
        "cursor = mydb.cursor()\n",
        "\n",
        "csv_data = csv.reader(file('students.csv'))\n",
        "for row in csv_data:\n",
        "\n",
        "    cursor.execute('INSERT INTO testcsv(names, \\\n",
        "          classes, mark )' \\\n",
        "          'VALUES(\"%s\", \"%s\", \"%s\")', \n",
        "          row)\n",
        "#close the connection to the database.\n",
        "mydb.commit()\n",
        "cursor.close()\n",
        "print \"Done\""
      ],
      "execution_count": null,
      "outputs": []
    }
  ]
}